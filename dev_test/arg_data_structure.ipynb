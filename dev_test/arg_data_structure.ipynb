{
 "cells": [
  {
   "cell_type": "code",
   "execution_count": 22,
   "metadata": {},
   "outputs": [],
   "source": [
    "import pandas as pd\n",
    "import os\n",
    "import numpy as np\n",
    "import json"
   ]
  },
  {
   "cell_type": "code",
   "execution_count": 2,
   "metadata": {},
   "outputs": [],
   "source": [
    "# Load the data; for now we read in from the intermediate csv file\n",
    "technology = '1222'\n",
    "func_name = 'xy_canon'"
   ]
  },
  {
   "cell_type": "code",
   "execution_count": 3,
   "metadata": {},
   "outputs": [
    {
     "name": "stdout",
     "output_type": "stream",
     "text": [
      "c:\\Users\\yihuaqia\\work\\markdraw_stat\\source_code\\dev_test\n"
     ]
    }
   ],
   "source": [
    "print(os.getcwd())"
   ]
  },
  {
   "cell_type": "code",
   "execution_count": 4,
   "metadata": {},
   "outputs": [],
   "source": [
    "df = pd.read_csv(f'{os.getcwd()}/{func_name}_analysis/{func_name}_{technology}.csv', index_col=0)\n",
    "df = df.replace({np.nan: None})"
   ]
  },
  {
   "cell_type": "code",
   "execution_count": 5,
   "metadata": {},
   "outputs": [
    {
     "data": {
      "text/html": [
       "<div>\n",
       "<style scoped>\n",
       "    .dataframe tbody tr th:only-of-type {\n",
       "        vertical-align: middle;\n",
       "    }\n",
       "\n",
       "    .dataframe tbody tr th {\n",
       "        vertical-align: top;\n",
       "    }\n",
       "\n",
       "    .dataframe thead th {\n",
       "        text-align: right;\n",
       "    }\n",
       "</style>\n",
       "<table border=\"1\" class=\"dataframe\">\n",
       "  <thead>\n",
       "    <tr style=\"text-align: right;\">\n",
       "      <th></th>\n",
       "      <th>cv.cvid</th>\n",
       "      <th>lpp.lpp</th>\n",
       "      <th>xy_cds.points</th>\n",
       "      <th>xy_lengths.points</th>\n",
       "      <th>xy_distance.points</th>\n",
       "      <th>stepping.list</th>\n",
       "      <th>file</th>\n",
       "      <th>sheet</th>\n",
       "      <th>CellSize</th>\n",
       "      <th>shift.float</th>\n",
       "    </tr>\n",
       "    <tr>\n",
       "      <th>function</th>\n",
       "      <th></th>\n",
       "      <th></th>\n",
       "      <th></th>\n",
       "      <th></th>\n",
       "      <th></th>\n",
       "      <th></th>\n",
       "      <th></th>\n",
       "      <th></th>\n",
       "      <th></th>\n",
       "      <th></th>\n",
       "    </tr>\n",
       "  </thead>\n",
       "  <tbody>\n",
       "    <tr>\n",
       "      <th>xy_canon</th>\n",
       "      <td>cv</td>\n",
       "      <td>gmb.drawing</td>\n",
       "      <td>(1.6 1.6)</td>\n",
       "      <td>(25 25)</td>\n",
       "      <td>(28.4 28.4)</td>\n",
       "      <td>((5))</td>\n",
       "      <td>canon_1222_d4t1t5_S22Y_GMB_GV1_2x</td>\n",
       "      <td>xy4</td>\n",
       "      <td>(61.74 63.72)</td>\n",
       "      <td>None</td>\n",
       "    </tr>\n",
       "    <tr>\n",
       "      <th>xy_canon</th>\n",
       "      <td>cv</td>\n",
       "      <td>gmb.drawing</td>\n",
       "      <td>(1.8 1.8)</td>\n",
       "      <td>(25 25)</td>\n",
       "      <td>(28.2 28.2)</td>\n",
       "      <td>((5))</td>\n",
       "      <td>canon_1222_d4t1t5_S22Y_GMB_GV1_2x</td>\n",
       "      <td>xy4</td>\n",
       "      <td>(61.74 63.72)</td>\n",
       "      <td>None</td>\n",
       "    </tr>\n",
       "    <tr>\n",
       "      <th>xy_canon</th>\n",
       "      <td>cv</td>\n",
       "      <td>gmb.drawing</td>\n",
       "      <td>(2 2)</td>\n",
       "      <td>(25 25)</td>\n",
       "      <td>(28 28)</td>\n",
       "      <td>((5))</td>\n",
       "      <td>canon_1222_d4t1t5_S22Y_GMB_GV1_2x</td>\n",
       "      <td>xy4</td>\n",
       "      <td>(61.74 63.72)</td>\n",
       "      <td>None</td>\n",
       "    </tr>\n",
       "    <tr>\n",
       "      <th>xy_canon</th>\n",
       "      <td>cv</td>\n",
       "      <td>gmb.drawing</td>\n",
       "      <td>(1.6 1.6)</td>\n",
       "      <td>(61.74 63.72)</td>\n",
       "      <td>(28.4 28.4)</td>\n",
       "      <td>((5))</td>\n",
       "      <td>canon_1222_d4t1t5_S22Y_GMB_GV1_2x</td>\n",
       "      <td>pound</td>\n",
       "      <td>(61.74 63.72)</td>\n",
       "      <td>None</td>\n",
       "    </tr>\n",
       "    <tr>\n",
       "      <th>xy_canon</th>\n",
       "      <td>cv</td>\n",
       "      <td>gmb.drawing</td>\n",
       "      <td>(2 2)</td>\n",
       "      <td>(25 25)</td>\n",
       "      <td>(28 28)</td>\n",
       "      <td>((5))</td>\n",
       "      <td>canon_1222_d4t1t5_S22Y_GMB_GV1_2x</td>\n",
       "      <td>swirl_xy4</td>\n",
       "      <td>(61.74 63.72)</td>\n",
       "      <td>0.5</td>\n",
       "    </tr>\n",
       "  </tbody>\n",
       "</table>\n",
       "</div>"
      ],
      "text/plain": [
       "         cv.cvid      lpp.lpp xy_cds.points xy_lengths.points  \\\n",
       "function                                                        \n",
       "xy_canon      cv  gmb.drawing     (1.6 1.6)           (25 25)   \n",
       "xy_canon      cv  gmb.drawing     (1.8 1.8)           (25 25)   \n",
       "xy_canon      cv  gmb.drawing         (2 2)           (25 25)   \n",
       "xy_canon      cv  gmb.drawing     (1.6 1.6)     (61.74 63.72)   \n",
       "xy_canon      cv  gmb.drawing         (2 2)           (25 25)   \n",
       "\n",
       "         xy_distance.points stepping.list                               file  \\\n",
       "function                                                                       \n",
       "xy_canon        (28.4 28.4)         ((5))  canon_1222_d4t1t5_S22Y_GMB_GV1_2x   \n",
       "xy_canon        (28.2 28.2)         ((5))  canon_1222_d4t1t5_S22Y_GMB_GV1_2x   \n",
       "xy_canon            (28 28)         ((5))  canon_1222_d4t1t5_S22Y_GMB_GV1_2x   \n",
       "xy_canon        (28.4 28.4)         ((5))  canon_1222_d4t1t5_S22Y_GMB_GV1_2x   \n",
       "xy_canon            (28 28)         ((5))  canon_1222_d4t1t5_S22Y_GMB_GV1_2x   \n",
       "\n",
       "              sheet       CellSize shift.float  \n",
       "function                                        \n",
       "xy_canon        xy4  (61.74 63.72)        None  \n",
       "xy_canon        xy4  (61.74 63.72)        None  \n",
       "xy_canon        xy4  (61.74 63.72)        None  \n",
       "xy_canon      pound  (61.74 63.72)        None  \n",
       "xy_canon  swirl_xy4  (61.74 63.72)         0.5  "
      ]
     },
     "execution_count": 5,
     "metadata": {},
     "output_type": "execute_result"
    }
   ],
   "source": [
    "df.head()"
   ]
  },
  {
   "cell_type": "code",
   "execution_count": 6,
   "metadata": {},
   "outputs": [
    {
     "name": "stdout",
     "output_type": "stream",
     "text": [
      "None\n"
     ]
    }
   ],
   "source": [
    "print(df.iloc[3]['shift.float'])"
   ]
  },
  {
   "cell_type": "code",
   "execution_count": 7,
   "metadata": {},
   "outputs": [
    {
     "data": {
      "text/plain": [
       "'(61.74 63.72)'"
      ]
     },
     "execution_count": 7,
     "metadata": {},
     "output_type": "execute_result"
    }
   ],
   "source": [
    "df.iloc[3]['CellSize']"
   ]
  },
  {
   "cell_type": "code",
   "execution_count": 8,
   "metadata": {},
   "outputs": [],
   "source": [
    "def data_gen_xy_canon(technology, func_name):\n",
    "    data = {}\n",
    "    df = pd.read_csv(f'{os.getcwd()}/{func_name}_analysis/{func_name}_{technology}.csv', index_col=0)\n",
    "    for i in range(len(df)):\n",
    "        cv = df.iloc[i]['cv.cvid']\n",
    "        lpp = df.iloc[i]['lpp.lpp']\n",
    "        cds = df.iloc[i]['xy_cds.points']\n",
    "        lengths = df.iloc[i]['xy_lengths.points']\n",
    "        dist = df.iloc[i]['xy_distance.points']\n",
    "        step = df.iloc[i]['stepping.list']\n",
    "        shift = df.iloc[i]['shift.float']\n",
    "        cell_size = df.iloc[i]['CellSize']\n",
    "        # categorize the data by lpp\n",
    "        if lpp not in data:\n",
    "            data[lpp] = []\n",
    "        data[lpp].append({'lpp': lpp, 'cell_size': cell_size, 'args': {'cv.cvid':cv, 'lpp.lpp':lpp, 'xy_cds.points': cds, 'xy_lengths.points': lengths, 'xy_distance.points': dist, 'stepping.list': step, 'shift.float': shift}})\n",
    "    return data\n"
   ]
  },
  {
   "cell_type": "code",
   "execution_count": 9,
   "metadata": {},
   "outputs": [],
   "source": [
    "data = data_gen_xy_canon(technology, func_name)"
   ]
  },
  {
   "cell_type": "code",
   "execution_count": 10,
   "metadata": {},
   "outputs": [
    {
     "data": {
      "text/plain": [
       "dict_keys(['gmb.drawing', 'gv1.drawing', 'alm.drawing', 'alp.drawing'])"
      ]
     },
     "execution_count": 10,
     "metadata": {},
     "output_type": "execute_result"
    }
   ],
   "source": [
    "data.keys()"
   ]
  },
  {
   "cell_type": "code",
   "execution_count": 11,
   "metadata": {},
   "outputs": [],
   "source": [
    "# # for each lpp, construct a dictionary of the form\n",
    "# # {'lpp': lpp, 'cell_size': cell_size, args': {'cv.cvid':cv, 'lpp.lpp':lpp, 'xy_cds.points': cds, 'xy_lengths.points': lengths, 'xy_distance.points': dist, 'stepping.list': step, 'shift.float': shift}}\n",
    "\n",
    "\n",
    "# def data_gen_xy_canon(technology, func_name):\n",
    "#     df = pd.read_csv(f'{os.getcwd()}/{func_name}_analysis/{func_name}_{technology}.csv', index_col=0)\n",
    "#     for i in range(len(df)):\n",
    "#         cv = df.iloc[i]['cv.cvid']\n",
    "#         lpp = df.iloc[i]['lpp.lpp']\n",
    "#         cds = df.iloc[i]['xy_cds.points']\n",
    "#         lengths = df.iloc[i]['xy_lengths.points']\n",
    "#         dist = df.iloc[i]['xy_distance.points']\n",
    "#         step = df.iloc[i]['stepping.list']\n",
    "#         shift = df.iloc[i]['shift.float']\n",
    "#         cell_size = df.iloc[i]['CellSize']\n",
    "#         yield {'lpp': lpp, 'cell_size': cell_size, 'args': {'cv.cvid':cv, 'lpp.lpp':lpp, 'xy_cds.points': cds, 'xy_lengths.points': lengths, 'xy_distance.points': dist, 'stepping.list': step, 'shift.float': shift}}\n",
    "\n",
    "# data = {}\n",
    "\n",
    "# for d in data_gen_xy_canon(technology, func_name):\n",
    "#     lpp = d['lpp']\n",
    "#     if lpp not in data:\n",
    "#         data[lpp] = []\n",
    "#     data[lpp].append(d)\n"
   ]
  },
  {
   "cell_type": "code",
   "execution_count": 12,
   "metadata": {},
   "outputs": [
    {
     "name": "stdout",
     "output_type": "stream",
     "text": [
      "gmb.drawing: 14\n",
      "gv1.drawing: 6\n",
      "alm.drawing: 16\n",
      "alp.drawing: 12\n"
     ]
    }
   ],
   "source": [
    "# # count how many data points are there for each lpp\n",
    "# for lpp in data:\n",
    "#     print(f'{lpp}: {len(data[lpp])}')"
   ]
  },
  {
   "cell_type": "code",
   "execution_count": 13,
   "metadata": {},
   "outputs": [
    {
     "name": "stdout",
     "output_type": "stream",
     "text": [
      "gmb.drawing: 11\n",
      "gv1.drawing: 3\n",
      "alm.drawing: 16\n",
      "alp.drawing: 3\n"
     ]
    }
   ],
   "source": [
    "# # in each category, count how many unique args are there\n",
    "# for lpp in data:\n",
    "#     args = set()\n",
    "#     for d in data[lpp]:\n",
    "#         args.add(tuple(d['args'].items()))\n",
    "#     print(f'{lpp}: {len(args)}')"
   ]
  },
  {
   "cell_type": "code",
   "execution_count": 14,
   "metadata": {},
   "outputs": [],
   "source": [
    "# # remove the data points that have the same args\n",
    "# for lpp in data:\n",
    "#     args = set()\n",
    "#     unique_data = []\n",
    "#     for d in data[lpp]:\n",
    "#         if tuple(d['args'].items()) not in args:\n",
    "#             args.add(tuple(d['args'].items()))\n",
    "#             unique_data.append(d)\n",
    "#     data[lpp] = unique_data"
   ]
  },
  {
   "cell_type": "code",
   "execution_count": 11,
   "metadata": {},
   "outputs": [],
   "source": [
    "def get_unique_data(data):\n",
    "    for lpp in data:\n",
    "        args = set()\n",
    "        unique_data = []\n",
    "        for d in data[lpp]:\n",
    "            if tuple(d['args'].items()) not in args:\n",
    "                args.add(tuple(d['args'].items()))\n",
    "                unique_data.append(d)\n",
    "        data[lpp] = unique_data\n",
    "    return data"
   ]
  },
  {
   "cell_type": "code",
   "execution_count": 12,
   "metadata": {},
   "outputs": [],
   "source": [
    "data = get_unique_data(data)"
   ]
  },
  {
   "cell_type": "code",
   "execution_count": 15,
   "metadata": {},
   "outputs": [
    {
     "data": {
      "text/plain": [
       "3"
      ]
     },
     "execution_count": 15,
     "metadata": {},
     "output_type": "execute_result"
    }
   ],
   "source": [
    "len(data['gv1.drawing'])"
   ]
  },
  {
   "cell_type": "code",
   "execution_count": 51,
   "metadata": {},
   "outputs": [],
   "source": [
    "def output_data(data, func_name):\n",
    "    result = {}\n",
    "    for lpp in data:\n",
    "        result[technology] = {func_name: {lpp: {}}}\n",
    "        result[technology][func_name][lpp]['layer'] = lpp.split('.')[0].upper()\n",
    "        result[technology][func_name][lpp]['cell_size'] = data[lpp][0]['cell_size'] # want a str or tuple of floats?\n",
    "        # result[technology][func_name][lpp]['args'] = []\n",
    "        for i,d in enumerate(data[lpp]):\n",
    "            result[technology][func_name][lpp][f'args{i}'] = (d['args'])\n",
    "    return result"
   ]
  },
  {
   "cell_type": "code",
   "execution_count": 52,
   "metadata": {},
   "outputs": [],
   "source": [
    "# output to a json file\n",
    "with open(f'TEST_{func_name}_{technology}.json', 'w') as f:\n",
    "    json.dump(output_data(data, func_name), f, indent=4)"
   ]
  },
  {
   "cell_type": "code",
   "execution_count": null,
   "metadata": {},
   "outputs": [],
   "source": []
  }
 ],
 "metadata": {
  "kernelspec": {
   "display_name": "venv",
   "language": "python",
   "name": "python3"
  },
  "language_info": {
   "codemirror_mode": {
    "name": "ipython",
    "version": 3
   },
   "file_extension": ".py",
   "mimetype": "text/x-python",
   "name": "python",
   "nbconvert_exporter": "python",
   "pygments_lexer": "ipython3",
   "version": "3.13.1"
  }
 },
 "nbformat": 4,
 "nbformat_minor": 2
}
