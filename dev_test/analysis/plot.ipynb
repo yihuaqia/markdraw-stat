{
 "cells": [
  {
   "cell_type": "code",
   "execution_count": 12,
   "metadata": {},
   "outputs": [],
   "source": [
    "import pandas as pd\n",
    "import matplotlib.pyplot as plt\n",
    "import seaborn as sns\n",
    "import os\n",
    "import datetime\n",
    "\n",
    "plt.rcParams[\"font.family\"] = \"serif\"\n",
    "plt.rcParams[\"font.size\"] = 12\n",
    "plt.rcParams.update({\n",
    "    \"text.usetex\": False,\n",
    "})"
   ]
  },
  {
   "cell_type": "code",
   "execution_count": 2,
   "metadata": {},
   "outputs": [],
   "source": [
    "tech_numbers = [1222, 1227, 1276, 1278, 1280, 1282]"
   ]
  },
  {
   "cell_type": "code",
   "execution_count": 3,
   "metadata": {},
   "outputs": [],
   "source": [
    "df = pd.read_csv(f'xy_canon_analysis/xy_canon_{tech_numbers[0]}.csv')"
   ]
  },
  {
   "cell_type": "code",
   "execution_count": 4,
   "metadata": {},
   "outputs": [
    {
     "data": {
      "text/html": [
       "<div>\n",
       "<style scoped>\n",
       "    .dataframe tbody tr th:only-of-type {\n",
       "        vertical-align: middle;\n",
       "    }\n",
       "\n",
       "    .dataframe tbody tr th {\n",
       "        vertical-align: top;\n",
       "    }\n",
       "\n",
       "    .dataframe thead th {\n",
       "        text-align: right;\n",
       "    }\n",
       "</style>\n",
       "<table border=\"1\" class=\"dataframe\">\n",
       "  <thead>\n",
       "    <tr style=\"text-align: right;\">\n",
       "      <th></th>\n",
       "      <th>function</th>\n",
       "      <th>cv.cvid</th>\n",
       "      <th>lpp.lpp</th>\n",
       "      <th>xy_cds.points</th>\n",
       "      <th>xy_lengths.points</th>\n",
       "      <th>xy_distance.points</th>\n",
       "      <th>stepping.list</th>\n",
       "      <th>shift.float</th>\n",
       "      <th>file</th>\n",
       "      <th>sheet</th>\n",
       "    </tr>\n",
       "  </thead>\n",
       "  <tbody>\n",
       "    <tr>\n",
       "      <th>0</th>\n",
       "      <td>xy_canon</td>\n",
       "      <td>cv</td>\n",
       "      <td>gmb.drawing</td>\n",
       "      <td>(1.6 1.6)</td>\n",
       "      <td>(25 25)</td>\n",
       "      <td>(28.4 28.4)</td>\n",
       "      <td>((5))</td>\n",
       "      <td>NaN</td>\n",
       "      <td>canon_1222_d4t1t5_S22Y_GMB_GV1_2x</td>\n",
       "      <td>xy4</td>\n",
       "    </tr>\n",
       "    <tr>\n",
       "      <th>1</th>\n",
       "      <td>xy_canon</td>\n",
       "      <td>cv</td>\n",
       "      <td>gmb.drawing</td>\n",
       "      <td>(1.8 1.8)</td>\n",
       "      <td>(25 25)</td>\n",
       "      <td>(28.2 28.2)</td>\n",
       "      <td>((5))</td>\n",
       "      <td>NaN</td>\n",
       "      <td>canon_1222_d4t1t5_S22Y_GMB_GV1_2x</td>\n",
       "      <td>xy4</td>\n",
       "    </tr>\n",
       "    <tr>\n",
       "      <th>2</th>\n",
       "      <td>xy_canon</td>\n",
       "      <td>cv</td>\n",
       "      <td>gmb.drawing</td>\n",
       "      <td>(2 2)</td>\n",
       "      <td>(25 25)</td>\n",
       "      <td>(28 28)</td>\n",
       "      <td>((5))</td>\n",
       "      <td>NaN</td>\n",
       "      <td>canon_1222_d4t1t5_S22Y_GMB_GV1_2x</td>\n",
       "      <td>xy4</td>\n",
       "    </tr>\n",
       "    <tr>\n",
       "      <th>3</th>\n",
       "      <td>xy_canon</td>\n",
       "      <td>cv</td>\n",
       "      <td>gmb.drawing</td>\n",
       "      <td>(1.6 1.6)</td>\n",
       "      <td>(61.74 63.72)</td>\n",
       "      <td>(28.4 28.4)</td>\n",
       "      <td>((5))</td>\n",
       "      <td>NaN</td>\n",
       "      <td>canon_1222_d4t1t5_S22Y_GMB_GV1_2x</td>\n",
       "      <td>pound</td>\n",
       "    </tr>\n",
       "    <tr>\n",
       "      <th>4</th>\n",
       "      <td>xy_canon</td>\n",
       "      <td>cv</td>\n",
       "      <td>gmb.drawing</td>\n",
       "      <td>(2 2)</td>\n",
       "      <td>(25 25)</td>\n",
       "      <td>(28 28)</td>\n",
       "      <td>((5))</td>\n",
       "      <td>0.5</td>\n",
       "      <td>canon_1222_d4t1t5_S22Y_GMB_GV1_2x</td>\n",
       "      <td>swirl_xy4</td>\n",
       "    </tr>\n",
       "  </tbody>\n",
       "</table>\n",
       "</div>"
      ],
      "text/plain": [
       "   function cv.cvid      lpp.lpp xy_cds.points xy_lengths.points  \\\n",
       "0  xy_canon      cv  gmb.drawing     (1.6 1.6)           (25 25)   \n",
       "1  xy_canon      cv  gmb.drawing     (1.8 1.8)           (25 25)   \n",
       "2  xy_canon      cv  gmb.drawing         (2 2)           (25 25)   \n",
       "3  xy_canon      cv  gmb.drawing     (1.6 1.6)     (61.74 63.72)   \n",
       "4  xy_canon      cv  gmb.drawing         (2 2)           (25 25)   \n",
       "\n",
       "  xy_distance.points stepping.list  shift.float  \\\n",
       "0        (28.4 28.4)         ((5))          NaN   \n",
       "1        (28.2 28.2)         ((5))          NaN   \n",
       "2            (28 28)         ((5))          NaN   \n",
       "3        (28.4 28.4)         ((5))          NaN   \n",
       "4            (28 28)         ((5))          0.5   \n",
       "\n",
       "                                file      sheet  \n",
       "0  canon_1222_d4t1t5_S22Y_GMB_GV1_2x        xy4  \n",
       "1  canon_1222_d4t1t5_S22Y_GMB_GV1_2x        xy4  \n",
       "2  canon_1222_d4t1t5_S22Y_GMB_GV1_2x        xy4  \n",
       "3  canon_1222_d4t1t5_S22Y_GMB_GV1_2x      pound  \n",
       "4  canon_1222_d4t1t5_S22Y_GMB_GV1_2x  swirl_xy4  "
      ]
     },
     "execution_count": 4,
     "metadata": {},
     "output_type": "execute_result"
    }
   ],
   "source": [
    "df.head()"
   ]
  },
  {
   "cell_type": "code",
   "execution_count": 5,
   "metadata": {},
   "outputs": [
    {
     "data": {
      "text/plain": [
       "array(['gmb.drawing', 'gv1.drawing', 'alm.drawing', 'alp.drawing'],\n",
       "      dtype=object)"
      ]
     },
     "execution_count": 5,
     "metadata": {},
     "output_type": "execute_result"
    }
   ],
   "source": [
    "df['lpp.lpp'].unique()"
   ]
  },
  {
   "cell_type": "code",
   "execution_count": 6,
   "metadata": {},
   "outputs": [
    {
     "data": {
      "text/plain": [
       "array(['(1.6 1.6)', '(1.8 1.8)', '(2 2)', '(2.2 2.2)', '(2.4 2.4)'],\n",
       "      dtype=object)"
      ]
     },
     "execution_count": 6,
     "metadata": {},
     "output_type": "execute_result"
    }
   ],
   "source": [
    "df['xy_cds.points'].unique()"
   ]
  },
  {
   "cell_type": "code",
   "execution_count": 7,
   "metadata": {},
   "outputs": [],
   "source": [
    "df_plot = df.groupby(['lpp.lpp', 'xy_cds.points']).size().unstack()"
   ]
  },
  {
   "cell_type": "code",
   "execution_count": 8,
   "metadata": {},
   "outputs": [
    {
     "data": {
      "text/html": [
       "<div>\n",
       "<style scoped>\n",
       "    .dataframe tbody tr th:only-of-type {\n",
       "        vertical-align: middle;\n",
       "    }\n",
       "\n",
       "    .dataframe tbody tr th {\n",
       "        vertical-align: top;\n",
       "    }\n",
       "\n",
       "    .dataframe thead th {\n",
       "        text-align: right;\n",
       "    }\n",
       "</style>\n",
       "<table border=\"1\" class=\"dataframe\">\n",
       "  <thead>\n",
       "    <tr style=\"text-align: right;\">\n",
       "      <th>xy_cds.points</th>\n",
       "      <th>(1.6 1.6)</th>\n",
       "      <th>(1.8 1.8)</th>\n",
       "      <th>(2 2)</th>\n",
       "      <th>(2.2 2.2)</th>\n",
       "      <th>(2.4 2.4)</th>\n",
       "    </tr>\n",
       "    <tr>\n",
       "      <th>lpp.lpp</th>\n",
       "      <th></th>\n",
       "      <th></th>\n",
       "      <th></th>\n",
       "      <th></th>\n",
       "      <th></th>\n",
       "    </tr>\n",
       "  </thead>\n",
       "  <tbody>\n",
       "    <tr>\n",
       "      <th>alm.drawing</th>\n",
       "      <td>NaN</td>\n",
       "      <td>NaN</td>\n",
       "      <td>4.0</td>\n",
       "      <td>4.0</td>\n",
       "      <td>8.0</td>\n",
       "    </tr>\n",
       "    <tr>\n",
       "      <th>alp.drawing</th>\n",
       "      <td>NaN</td>\n",
       "      <td>NaN</td>\n",
       "      <td>4.0</td>\n",
       "      <td>4.0</td>\n",
       "      <td>4.0</td>\n",
       "    </tr>\n",
       "    <tr>\n",
       "      <th>gmb.drawing</th>\n",
       "      <td>4.0</td>\n",
       "      <td>2.0</td>\n",
       "      <td>4.0</td>\n",
       "      <td>2.0</td>\n",
       "      <td>2.0</td>\n",
       "    </tr>\n",
       "    <tr>\n",
       "      <th>gv1.drawing</th>\n",
       "      <td>NaN</td>\n",
       "      <td>NaN</td>\n",
       "      <td>2.0</td>\n",
       "      <td>2.0</td>\n",
       "      <td>2.0</td>\n",
       "    </tr>\n",
       "  </tbody>\n",
       "</table>\n",
       "</div>"
      ],
      "text/plain": [
       "xy_cds.points  (1.6 1.6)  (1.8 1.8)  (2 2)  (2.2 2.2)  (2.4 2.4)\n",
       "lpp.lpp                                                         \n",
       "alm.drawing          NaN        NaN    4.0        4.0        8.0\n",
       "alp.drawing          NaN        NaN    4.0        4.0        4.0\n",
       "gmb.drawing          4.0        2.0    4.0        2.0        2.0\n",
       "gv1.drawing          NaN        NaN    2.0        2.0        2.0"
      ]
     },
     "execution_count": 8,
     "metadata": {},
     "output_type": "execute_result"
    }
   ],
   "source": [
    "df_plot.head()"
   ]
  },
  {
   "cell_type": "code",
   "execution_count": 49,
   "metadata": {},
   "outputs": [],
   "source": [
    "def plot_canon_xy(df):\n",
    "    # matrix plot the data\n",
    "    # the y-axis is different lpp.lpp\n",
    "    # the x-axis is the xy_cds.points, use the first coordinate \"a\" from tuple \"(a,a)\"\n",
    "    # the color is the number of points, NaN is zero\n",
    "    fig, ax = plt.subplots(figsize=(10, 6))\n",
    "    sns.heatmap(df.fillna(0), cmap=\"Blues\", ax=ax, cbar_kws={'label': 'Number of Points'})\n",
    "    ax.set_ylabel('LPP')\n",
    "    ax.set_xlabel('XY CDS Points')\n",
    "    ax.set_title('Canon XY CDS Points')\n",
    "    # show the boundary of each cell\n",
    "    ax.hlines(range(len(df.index)), *ax.get_xlim(), color='grey', lw=0.5)\n",
    "    ax.vlines(range(len(df.columns)), *ax.get_ylim(), color='grey', lw=0.5)\n",
    "    plt.tight_layout()\n",
    "    plt.show()\n"
   ]
  },
  {
   "cell_type": "code",
   "execution_count": 50,
   "metadata": {},
   "outputs": [
    {
     "data": {
      "image/png": "[encoded data removed]",
      "text/plain": [
       "<Figure size 1000x600 with 2 Axes>"
      ]
     },
     "metadata": {},
     "output_type": "display_data"
    }
   ],
   "source": [
    "plot_canon_xy(df_plot)"
   ]
  },
  {
   "cell_type": "code",
   "execution_count": null,
   "metadata": {},
   "outputs": [],
   "source": []
  }
 ],
 "metadata": {
  "kernelspec": {
   "display_name": "venv",
   "language": "python",
   "name": "python3"
  },
  "language_info": {
   "codemirror_mode": {
    "name": "ipython",
    "version": 3
   },
   "file_extension": ".py",
   "mimetype": "text/x-python",
   "name": "python",
   "nbconvert_exporter": "python",
   "pygments_lexer": "ipython3",
   "version": "3.13.1"
  }
 },
 "nbformat": 4,
 "nbformat_minor": 2
}
