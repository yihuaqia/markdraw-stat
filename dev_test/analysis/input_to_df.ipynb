{
 "cells": [
  {
   "cell_type": "markdown",
   "metadata": {},
   "source": [
    "This file intends to extract all the information from the input sheet and store it in a dictionary. The keys would be file name cell name, and the values would be the func name and the arguments, where the arguments are {arg_name: value}"
   ]
  },
  {
   "cell_type": "code",
   "execution_count": 1,
   "metadata": {},
   "outputs": [],
   "source": [
    "import pandas as pd\n",
    "import os\n",
    "import numpy as np\n",
    "import json\n",
    "from collections import Counter\n",
    "from collections import OrderedDict"
   ]
  },
  {
   "cell_type": "code",
   "execution_count": 2,
   "metadata": {},
   "outputs": [],
   "source": [
    "# read in the data\n",
    "def load_data(path):\n",
    "    \"\"\" read in excel sheets\n",
    "        grab all .xlsx files in the dir specified by path \"\"\"\n",
    "    files_under_path = os.listdir(path)\n",
    "    fnames = [f[:-5] for f in files_under_path if f.endswith('.xlsx')]\n",
    "\n",
    "    all_files = {}\n",
    "    for i in range(len(fnames)):\n",
    "        file = pd.read_excel(f'{path}/{fnames[i]}.xlsx', sheet_name=None, engine='openpyxl')\n",
    "        all_files[fnames[i]] = file\n",
    "\n",
    "    return fnames, all_files"
   ]
  },
  {
   "cell_type": "code",
   "execution_count": 3,
   "metadata": {},
   "outputs": [
    {
     "data": {
      "text/plain": [
       "'c:\\\\Users\\\\yihuaqia\\\\work\\\\markdraw_stat\\\\source_code\\\\dev_test\\\\analysis'"
      ]
     },
     "execution_count": 3,
     "metadata": {},
     "output_type": "execute_result"
    }
   ],
   "source": [
    "os.getcwd()"
   ]
  },
  {
   "cell_type": "code",
   "execution_count": 4,
   "metadata": {},
   "outputs": [],
   "source": [
    "fnames, all_files = load_data('../../input_sheets/1227')"
   ]
  },
  {
   "cell_type": "code",
   "execution_count": 5,
   "metadata": {},
   "outputs": [
    {
     "data": {
      "text/plain": [
       "dict_keys(['canon_1227_d3t4_jm2_siv_2x', 'canon_1227_d3t7_jm5_siv_2x', 'canon_1227_d3t7_psv', 'canon_1227_gmb_siv_2x', 'canon_1227_gms_siv_2x', 'canon_lunarlake_psm_final_1'])"
      ]
     },
     "execution_count": 5,
     "metadata": {},
     "output_type": "execute_result"
    }
   ],
   "source": [
    "all_files.keys()"
   ]
  },
  {
   "cell_type": "code",
   "execution_count": 6,
   "metadata": {},
   "outputs": [
    {
     "data": {
      "text/plain": [
       "['canon_1227_d3t4_jm2_siv_2x',\n",
       " 'canon_1227_d3t7_jm5_siv_2x',\n",
       " 'canon_1227_d3t7_psv',\n",
       " 'canon_1227_gmb_siv_2x',\n",
       " 'canon_1227_gms_siv_2x',\n",
       " 'canon_lunarlake_psm_final_1']"
      ]
     },
     "execution_count": 6,
     "metadata": {},
     "output_type": "execute_result"
    }
   ],
   "source": [
    "fnames  # list of file names"
   ]
  },
  {
   "cell_type": "code",
   "execution_count": 7,
   "metadata": {},
   "outputs": [
    {
     "data": {
      "text/plain": [
       "dict_keys(['canon', 'all_functions', 'all_marks', 'parents', 'review_parent', 'dummy_beard', 'dummy_filler', 'fdr_dummy', 'kga', 'diag_dummy', 'zonal_bkg', 'xy4', 'pound', 'hatch', 'swirl_xy4', 'swirl_cross', 'swirl_hatch', 'marklist', 'delivery'])"
      ]
     },
     "execution_count": 7,
     "metadata": {},
     "output_type": "execute_result"
    }
   ],
   "source": [
    "all_files[fnames[1]].keys()  # sheet names"
   ]
  },
  {
   "cell_type": "code",
   "execution_count": null,
   "metadata": {},
   "outputs": [],
   "source": [
    "def get_cell_info2(file, output_file=None):\n",
    "    \"\"\" get the cell names from the StartLayoutAssembler or zonal_background \"\"\"\n",
    "    df_list = []\n",
    "    for sname in file.keys():\n",
    "        cell_names = []\n",
    "        df = pd.DataFrame(file[sname])\n",
    "        # check if the StartLayoutAssembler is in any place in the df\n",
    "        if 'StartLayoutAssembler' not in df.values and 'zonal_background' not in df.values:\n",
    "            continue\n",
    "        \n",
    "        # get cell names; i is the row index\n",
    "        for i in range(df.shape[0]):\n",
    "            # print(f'{i}: {df.iloc[i,1]}')\n",
    "            if df.iloc[i,1] == 'StartLayoutAssembler' or df.iloc[i,1] == 'zonal_background':\n",
    "                c_name = df.iloc[i]['CellName.string']\n",
    "                if c_name not in cell_names:\n",
    "                    cell_names.append((c_name,i))\n",
    "\n",
    "        # print(f'{fname}: {cell_names}')\n",
    "        # slice the cells based on cellnames\n",
    "        df_cells = {}  # HERE STILL NEEDS A FIX\n",
    "        for i in range(len(cell_names)-1):\n",
    "            df_cells[cell_names[i][0]] = df.iloc[cell_names[i][1]:cell_names[i+1][1],:].dropna(how='all')\n",
    "        df_cells[cell_names[-1][0]] = df.iloc[cell_names[-1][1]:,:].dropna(how='all')\n",
    "        \n",
    "        df_list.append(df_cells)\n",
    "    return df_list\n",
    "\n",
    "        \n",
    "\n"
   ]
  },
  {
   "cell_type": "code",
   "execution_count": 83,
   "metadata": {},
   "outputs": [],
   "source": [
    "if not os.path.exists('./test_output'):\n",
    "    os.makedirs('./test_output')\n",
    "with open('./test_output/tmp_write.txt', 'w+') as test_write:\n",
    "    lst = get_cell_info2(all_files['canon_1227_d3t4_jm2_siv_2x'],test_write)"
   ]
  },
  {
   "cell_type": "code",
   "execution_count": 84,
   "metadata": {},
   "outputs": [
    {
     "data": {
      "text/plain": [
       "dict_keys(['122700c_d3t4_siv_swirl', '122700c_d3t4_jm2_dummy_3_1', '122700c_d3t4_siv022d', '122700c_d3t4_siv023d', '122700c_d3t4_siv024d', '122700c_d3t4_siv078d', '122700c_d3t4_siv173d', '122700c_d3t4_siv222d', '122700c_d3t4_siv223d', '122700c_d3t4_siv224d', '122700c_d3t4_siv355d', '122700c_d3t4_siv374d'])"
      ]
     },
     "execution_count": 84,
     "metadata": {},
     "output_type": "execute_result"
    }
   ],
   "source": [
    "lst[1].keys()"
   ]
  },
  {
   "cell_type": "code",
   "execution_count": 85,
   "metadata": {},
   "outputs": [
    {
     "data": {
      "text/html": [
       "<div>\n",
       "<style scoped>\n",
       "    .dataframe tbody tr th:only-of-type {\n",
       "        vertical-align: middle;\n",
       "    }\n",
       "\n",
       "    .dataframe tbody tr th {\n",
       "        vertical-align: top;\n",
       "    }\n",
       "\n",
       "    .dataframe thead th {\n",
       "        text-align: right;\n",
       "    }\n",
       "</style>\n",
       "<table border=\"1\" class=\"dataframe\">\n",
       "  <thead>\n",
       "    <tr style=\"text-align: right;\">\n",
       "      <th></th>\n",
       "      <th>EXECUTE</th>\n",
       "      <th>SampleStartLayoutAssembler</th>\n",
       "      <th>Library.string</th>\n",
       "      <th>CellName.string</th>\n",
       "      <th>OpenCellViewMode.string</th>\n",
       "      <th>CellSizeX.float</th>\n",
       "      <th>CellSizeY.float</th>\n",
       "      <th>CenterX.float</th>\n",
       "      <th>CenterY.float</th>\n",
       "      <th>Category.string</th>\n",
       "    </tr>\n",
       "  </thead>\n",
       "  <tbody>\n",
       "    <tr>\n",
       "      <th>16</th>\n",
       "      <td>y</td>\n",
       "      <td>StartLayoutAssembler</td>\n",
       "      <td>canon27d3t4lib1_p27_lay</td>\n",
       "      <td>122700c_d3t4_jm2_dummy_3_1</td>\n",
       "      <td>w</td>\n",
       "      <td>59.74</td>\n",
       "      <td>61.72</td>\n",
       "      <td>0</td>\n",
       "      <td>0</td>\n",
       "      <td>NaN</td>\n",
       "    </tr>\n",
       "    <tr>\n",
       "      <th>17</th>\n",
       "      <td>y</td>\n",
       "      <td>diagonal_gratings</td>\n",
       "      <td>cv</td>\n",
       "      <td>JM2_mask.frameDrawing</td>\n",
       "      <td>135</td>\n",
       "      <td>2.004</td>\n",
       "      <td>3.006</td>\n",
       "      <td>2.2</td>\n",
       "      <td>0</td>\n",
       "      <td>NaN</td>\n",
       "    </tr>\n",
       "  </tbody>\n",
       "</table>\n",
       "</div>"
      ],
      "text/plain": [
       "   EXECUTE SampleStartLayoutAssembler           Library.string  \\\n",
       "16       y       StartLayoutAssembler  canon27d3t4lib1_p27_lay   \n",
       "17       y          diagonal_gratings                       cv   \n",
       "\n",
       "               CellName.string OpenCellViewMode.string CellSizeX.float  \\\n",
       "16  122700c_d3t4_jm2_dummy_3_1                       w           59.74   \n",
       "17       JM2_mask.frameDrawing                     135           2.004   \n",
       "\n",
       "   CellSizeY.float CenterX.float CenterY.float Category.string  \n",
       "16           61.72             0             0             NaN  \n",
       "17           3.006           2.2             0             NaN  "
      ]
     },
     "execution_count": 85,
     "metadata": {},
     "output_type": "execute_result"
    }
   ],
   "source": [
    "lst[1]['122700c_d3t4_jm2_dummy_3_1']"
   ]
  },
  {
   "cell_type": "code",
   "execution_count": 87,
   "metadata": {},
   "outputs": [
    {
     "data": {
      "text/html": [
       "<div>\n",
       "<style scoped>\n",
       "    .dataframe tbody tr th:only-of-type {\n",
       "        vertical-align: middle;\n",
       "    }\n",
       "\n",
       "    .dataframe tbody tr th {\n",
       "        vertical-align: top;\n",
       "    }\n",
       "\n",
       "    .dataframe thead th {\n",
       "        text-align: right;\n",
       "    }\n",
       "</style>\n",
       "<table border=\"1\" class=\"dataframe\">\n",
       "  <thead>\n",
       "    <tr style=\"text-align: right;\">\n",
       "      <th></th>\n",
       "      <th>EXECUTE</th>\n",
       "      <th>SampleStartLayoutAssembler</th>\n",
       "      <th>Library.string</th>\n",
       "      <th>CellName.string</th>\n",
       "      <th>OpenCellViewMode.string</th>\n",
       "      <th>CellSizeX.float</th>\n",
       "      <th>CellSizeY.float</th>\n",
       "      <th>CenterX.float</th>\n",
       "      <th>CenterY.float</th>\n",
       "      <th>Category.string</th>\n",
       "    </tr>\n",
       "  </thead>\n",
       "  <tbody>\n",
       "    <tr>\n",
       "      <th>62</th>\n",
       "      <td>y</td>\n",
       "      <td>StartLayoutAssembler</td>\n",
       "      <td>canon27d3t4lib2_p27_lay</td>\n",
       "      <td>122700c_d3t4_siv355d</td>\n",
       "      <td>a</td>\n",
       "      <td>61.74</td>\n",
       "      <td>63.72</td>\n",
       "      <td>0</td>\n",
       "      <td>0</td>\n",
       "      <td>NaN</td>\n",
       "    </tr>\n",
       "    <tr>\n",
       "      <th>63</th>\n",
       "      <td>y</td>\n",
       "      <td>create_rectangle</td>\n",
       "      <td>cv</td>\n",
       "      <td>or2.tccDebug</td>\n",
       "      <td>-24 -24 24 24</td>\n",
       "      <td>NaN</td>\n",
       "      <td>NaN</td>\n",
       "      <td>NaN</td>\n",
       "      <td>NaN</td>\n",
       "      <td>NaN</td>\n",
       "    </tr>\n",
       "    <tr>\n",
       "      <th>64</th>\n",
       "      <td>y</td>\n",
       "      <td>tvpa_canon</td>\n",
       "      <td>cv</td>\n",
       "      <td>JM2_mask.drawing</td>\n",
       "      <td>2.2</td>\n",
       "      <td>33.8</td>\n",
       "      <td>33.8</td>\n",
       "      <td>33.8</td>\n",
       "      <td>NaN</td>\n",
       "      <td>NaN</td>\n",
       "    </tr>\n",
       "    <tr>\n",
       "      <th>65</th>\n",
       "      <td>y</td>\n",
       "      <td>tvpa_canon</td>\n",
       "      <td>cv</td>\n",
       "      <td>SIV_mask.drawing</td>\n",
       "      <td>2.2</td>\n",
       "      <td>33.8</td>\n",
       "      <td>33.8</td>\n",
       "      <td>33.8</td>\n",
       "      <td>NaN</td>\n",
       "      <td>NaN</td>\n",
       "    </tr>\n",
       "    <tr>\n",
       "      <th>66</th>\n",
       "      <td>y</td>\n",
       "      <td>shape_size</td>\n",
       "      <td>cv</td>\n",
       "      <td>SIV_mask.drawing</td>\n",
       "      <td>-0.4</td>\n",
       "      <td>-0.4</td>\n",
       "      <td>-0.4</td>\n",
       "      <td>-0.4</td>\n",
       "      <td>0</td>\n",
       "      <td>NaN</td>\n",
       "    </tr>\n",
       "    <tr>\n",
       "      <th>67</th>\n",
       "      <td>y</td>\n",
       "      <td>bool_and_not</td>\n",
       "      <td>cv</td>\n",
       "      <td>or1.tccDebug</td>\n",
       "      <td>or2.tccDebug</td>\n",
       "      <td>JM2_mask.drawing</td>\n",
       "      <td>NaN</td>\n",
       "      <td>NaN</td>\n",
       "      <td>NaN</td>\n",
       "      <td>NaN</td>\n",
       "    </tr>\n",
       "  </tbody>\n",
       "</table>\n",
       "</div>"
      ],
      "text/plain": [
       "   EXECUTE SampleStartLayoutAssembler           Library.string  \\\n",
       "62       y       StartLayoutAssembler  canon27d3t4lib2_p27_lay   \n",
       "63       y           create_rectangle                       cv   \n",
       "64       y                 tvpa_canon                       cv   \n",
       "65       y                 tvpa_canon                       cv   \n",
       "66       y                 shape_size                       cv   \n",
       "67       y               bool_and_not                       cv   \n",
       "\n",
       "         CellName.string OpenCellViewMode.string   CellSizeX.float  \\\n",
       "62  122700c_d3t4_siv355d                       a             61.74   \n",
       "63          or2.tccDebug           -24 -24 24 24               NaN   \n",
       "64      JM2_mask.drawing                     2.2              33.8   \n",
       "65      SIV_mask.drawing                     2.2              33.8   \n",
       "66      SIV_mask.drawing                    -0.4              -0.4   \n",
       "67          or1.tccDebug            or2.tccDebug  JM2_mask.drawing   \n",
       "\n",
       "   CellSizeY.float CenterX.float CenterY.float Category.string  \n",
       "62           63.72             0             0             NaN  \n",
       "63             NaN           NaN           NaN             NaN  \n",
       "64            33.8          33.8           NaN             NaN  \n",
       "65            33.8          33.8           NaN             NaN  \n",
       "66            -0.4          -0.4             0             NaN  \n",
       "67             NaN           NaN           NaN             NaN  "
      ]
     },
     "execution_count": 87,
     "metadata": {},
     "output_type": "execute_result"
    }
   ],
   "source": [
    "lst[1]['122700c_d3t4_siv355d']"
   ]
  },
  {
   "cell_type": "code",
   "execution_count": 86,
   "metadata": {},
   "outputs": [
    {
     "data": {
      "text/html": [
       "<div>\n",
       "<style scoped>\n",
       "    .dataframe tbody tr th:only-of-type {\n",
       "        vertical-align: middle;\n",
       "    }\n",
       "\n",
       "    .dataframe tbody tr th {\n",
       "        vertical-align: top;\n",
       "    }\n",
       "\n",
       "    .dataframe thead th {\n",
       "        text-align: right;\n",
       "    }\n",
       "</style>\n",
       "<table border=\"1\" class=\"dataframe\">\n",
       "  <thead>\n",
       "    <tr style=\"text-align: right;\">\n",
       "      <th></th>\n",
       "      <th>EXECUTE</th>\n",
       "      <th>SampleStartLayoutAssembler</th>\n",
       "      <th>Library.string</th>\n",
       "      <th>CellName.string</th>\n",
       "      <th>OpenCellViewMode.string</th>\n",
       "      <th>CellSizeX.float</th>\n",
       "      <th>CellSizeY.float</th>\n",
       "      <th>CenterX.float</th>\n",
       "      <th>CenterY.float</th>\n",
       "      <th>Category.string</th>\n",
       "    </tr>\n",
       "  </thead>\n",
       "  <tbody>\n",
       "    <tr>\n",
       "      <th>70</th>\n",
       "      <td>y</td>\n",
       "      <td>StartLayoutAssembler</td>\n",
       "      <td>canon27d3t4lib2_p27_lay</td>\n",
       "      <td>122700c_d3t4_siv374d</td>\n",
       "      <td>a</td>\n",
       "      <td>61.74</td>\n",
       "      <td>63.72</td>\n",
       "      <td>0</td>\n",
       "      <td>0</td>\n",
       "      <td>NaN</td>\n",
       "    </tr>\n",
       "    <tr>\n",
       "      <th>71</th>\n",
       "      <td>y</td>\n",
       "      <td>create_rectangle</td>\n",
       "      <td>cv</td>\n",
       "      <td>or2.tccDebug</td>\n",
       "      <td>-24 -24 24 24</td>\n",
       "      <td>NaN</td>\n",
       "      <td>NaN</td>\n",
       "      <td>NaN</td>\n",
       "      <td>NaN</td>\n",
       "      <td>NaN</td>\n",
       "    </tr>\n",
       "    <tr>\n",
       "      <th>72</th>\n",
       "      <td>y</td>\n",
       "      <td>chopped_tvpa_canon</td>\n",
       "      <td>cv</td>\n",
       "      <td>JM2_mask.drawing</td>\n",
       "      <td>36</td>\n",
       "      <td>2</td>\n",
       "      <td>9</td>\n",
       "      <td>0.5</td>\n",
       "      <td>NaN</td>\n",
       "      <td>NaN</td>\n",
       "    </tr>\n",
       "    <tr>\n",
       "      <th>73</th>\n",
       "      <td>y</td>\n",
       "      <td>chopped_tvpa_canon</td>\n",
       "      <td>cv</td>\n",
       "      <td>SIV_mask.drawing</td>\n",
       "      <td>36</td>\n",
       "      <td>2</td>\n",
       "      <td>9</td>\n",
       "      <td>0.5</td>\n",
       "      <td>NaN</td>\n",
       "      <td>NaN</td>\n",
       "    </tr>\n",
       "    <tr>\n",
       "      <th>74</th>\n",
       "      <td>y</td>\n",
       "      <td>shape_size</td>\n",
       "      <td>cv</td>\n",
       "      <td>SIV_mask.drawing</td>\n",
       "      <td>-0.5</td>\n",
       "      <td>-0.5</td>\n",
       "      <td>-0.5</td>\n",
       "      <td>-0.5</td>\n",
       "      <td>0</td>\n",
       "      <td>NaN</td>\n",
       "    </tr>\n",
       "    <tr>\n",
       "      <th>75</th>\n",
       "      <td>y</td>\n",
       "      <td>bool_and_not</td>\n",
       "      <td>cv</td>\n",
       "      <td>or1.tccDebug</td>\n",
       "      <td>or2.tccDebug</td>\n",
       "      <td>JM2_mask.drawing</td>\n",
       "      <td>NaN</td>\n",
       "      <td>NaN</td>\n",
       "      <td>NaN</td>\n",
       "      <td>NaN</td>\n",
       "    </tr>\n",
       "  </tbody>\n",
       "</table>\n",
       "</div>"
      ],
      "text/plain": [
       "   EXECUTE SampleStartLayoutAssembler           Library.string  \\\n",
       "70       y       StartLayoutAssembler  canon27d3t4lib2_p27_lay   \n",
       "71       y           create_rectangle                       cv   \n",
       "72       y         chopped_tvpa_canon                       cv   \n",
       "73       y         chopped_tvpa_canon                       cv   \n",
       "74       y                 shape_size                       cv   \n",
       "75       y               bool_and_not                       cv   \n",
       "\n",
       "         CellName.string OpenCellViewMode.string   CellSizeX.float  \\\n",
       "70  122700c_d3t4_siv374d                       a             61.74   \n",
       "71          or2.tccDebug           -24 -24 24 24               NaN   \n",
       "72      JM2_mask.drawing                      36                 2   \n",
       "73      SIV_mask.drawing                      36                 2   \n",
       "74      SIV_mask.drawing                    -0.5              -0.5   \n",
       "75          or1.tccDebug            or2.tccDebug  JM2_mask.drawing   \n",
       "\n",
       "   CellSizeY.float CenterX.float CenterY.float Category.string  \n",
       "70           63.72             0             0             NaN  \n",
       "71             NaN           NaN           NaN             NaN  \n",
       "72               9           0.5           NaN             NaN  \n",
       "73               9           0.5           NaN             NaN  \n",
       "74            -0.5          -0.5             0             NaN  \n",
       "75             NaN           NaN           NaN             NaN  "
      ]
     },
     "execution_count": 86,
     "metadata": {},
     "output_type": "execute_result"
    }
   ],
   "source": [
    "lst[1]['122700c_d3t4_siv374d']"
   ]
  },
  {
   "cell_type": "code",
   "execution_count": null,
   "metadata": {},
   "outputs": [],
   "source": []
  }
 ],
 "metadata": {
  "kernelspec": {
   "display_name": "venv",
   "language": "python",
   "name": "python3"
  },
  "language_info": {
   "codemirror_mode": {
    "name": "ipython",
    "version": 3
   },
   "file_extension": ".py",
   "mimetype": "text/x-python",
   "name": "python",
   "nbconvert_exporter": "python",
   "pygments_lexer": "ipython3",
   "version": "3.13.1"
  }
 },
 "nbformat": 4,
 "nbformat_minor": 2
}
