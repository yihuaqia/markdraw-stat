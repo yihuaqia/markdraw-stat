{
 "cells": [
  {
   "cell_type": "markdown",
   "metadata": {},
   "source": [
    "This file intends to extract all the information from the input sheet and store it in a dictionary. The keys would be file name cell name, and the values would be the func name and the arguments, where the arguments are {arg_name: value}"
   ]
  },
  {
   "cell_type": "code",
   "execution_count": 1,
   "metadata": {},
   "outputs": [],
   "source": [
    "import pandas as pd\n",
    "import os\n",
    "import numpy as np\n",
    "import json\n",
    "from collections import Counter\n",
    "from collections import OrderedDict"
   ]
  },
  {
   "cell_type": "code",
   "execution_count": 2,
   "metadata": {},
   "outputs": [],
   "source": [
    "# read in the data\n",
    "def load_data(path):\n",
    "    \"\"\" read in excel sheets\n",
    "        grab all .xlsx files in the dir specified by path \"\"\"\n",
    "    files_under_path = os.listdir(path)\n",
    "    fnames = [f[:-5] for f in files_under_path if f.endswith('.xlsx')]\n",
    "\n",
    "    all_files = {}\n",
    "    for i in range(len(fnames)):\n",
    "        file = pd.read_excel(f'{path}/{fnames[i]}.xlsx', sheet_name=None, engine='openpyxl')\n",
    "        all_files[fnames[i]] = file\n",
    "\n",
    "    return fnames, all_files"
   ]
  },
  {
   "cell_type": "code",
   "execution_count": 3,
   "metadata": {},
   "outputs": [
    {
     "data": {
      "text/plain": [
       "'c:\\\\Users\\\\yihuaqia\\\\work\\\\markdraw_stat\\\\source_code\\\\dev_test\\\\analysis'"
      ]
     },
     "execution_count": 3,
     "metadata": {},
     "output_type": "execute_result"
    }
   ],
   "source": [
    "os.getcwd()"
   ]
  },
  {
   "cell_type": "code",
   "execution_count": 4,
   "metadata": {},
   "outputs": [],
   "source": [
    "fnames, all_files = load_data('../../input_sheets/1227')"
   ]
  },
  {
   "cell_type": "code",
   "execution_count": 5,
   "metadata": {},
   "outputs": [
    {
     "data": {
      "text/plain": [
       "dict_keys(['canon_1227_d3t4_jm2_siv_2x', 'canon_1227_d3t7_jm5_siv_2x', 'canon_1227_d3t7_psv', 'canon_1227_gmb_siv_2x', 'canon_1227_gms_siv_2x', 'canon_lunarlake_psm_final_1'])"
      ]
     },
     "execution_count": 5,
     "metadata": {},
     "output_type": "execute_result"
    }
   ],
   "source": [
    "all_files.keys()"
   ]
  },
  {
   "cell_type": "code",
   "execution_count": 6,
   "metadata": {},
   "outputs": [
    {
     "data": {
      "text/plain": [
       "['canon_1227_d3t4_jm2_siv_2x',\n",
       " 'canon_1227_d3t7_jm5_siv_2x',\n",
       " 'canon_1227_d3t7_psv',\n",
       " 'canon_1227_gmb_siv_2x',\n",
       " 'canon_1227_gms_siv_2x',\n",
       " 'canon_lunarlake_psm_final_1']"
      ]
     },
     "execution_count": 6,
     "metadata": {},
     "output_type": "execute_result"
    }
   ],
   "source": [
    "fnames  # list of file names"
   ]
  },
  {
   "cell_type": "code",
   "execution_count": 7,
   "metadata": {},
   "outputs": [
    {
     "data": {
      "text/plain": [
       "dict_keys(['canon', 'all_functions', 'all_marks', 'parents', 'review_parent', 'dummy_beard', 'dummy_filler', 'fdr_dummy', 'kga', 'diag_dummy', 'zonal_bkg', 'xy4', 'pound', 'hatch', 'swirl_xy4', 'swirl_cross', 'swirl_hatch', 'marklist', 'delivery'])"
      ]
     },
     "execution_count": 7,
     "metadata": {},
     "output_type": "execute_result"
    }
   ],
   "source": [
    "all_files[fnames[1]].keys()  # sheet names"
   ]
  },
  {
   "cell_type": "code",
   "execution_count": null,
   "metadata": {},
   "outputs": [],
   "source": [
    "def get_cell_info2(file):\n",
    "    \"\"\" get the cell names from the StartLayoutAssembler or zonal_background \"\"\"\n",
    "    # df_list = []\n",
    "    od_df = OrderedDict()\n",
    "    name_list = []\n",
    "    for sname in file.keys():\n",
    "        cell_names = []\n",
    "        new_cell_idx = []\n",
    "        df = pd.DataFrame(file[sname])\n",
    "        # check if the StartLayoutAssembler is in any place in the df\n",
    "        if 'StartLayoutAssembler' not in df.values and 'zonal_background' not in df.values:\n",
    "            continue\n",
    "        \n",
    "        # get cell names; i is the row index\n",
    "        for i in range(df.shape[0]):\n",
    "            # print(f'{i}: {df.iloc[i,1]}')\n",
    "            if df.iloc[i,1] == 'StartLayoutAssembler' or df.iloc[i,1] == 'zonal_background':\n",
    "                c_name = df.iloc[i]['CellName.string']\n",
    "\n",
    "                if c_name not in cell_names:\n",
    "                    # cell_names.append((c_name,i))\n",
    "                    cell_names.append(c_name)\n",
    "                    new_cell_idx.append(i)\n",
    "\n",
    "        # print(f'{fname}: {cell_names}')\n",
    "        # slice the cells based on cellnames\n",
    "        df_cells = {} \n",
    "        for i in range(len(cell_names)-1):\n",
    "            df_cells[cell_names[i]] = df.iloc[new_cell_idx[i]:new_cell_idx[i+1],:].dropna(how='all')\n",
    "        #     df_cells[cell_names[i][0]] = df.iloc[cell_names[i][1]:cell_names[i+1][1],:].dropna(how='all')\n",
    "        # df_cells[cell_names[-1][0]] = df.iloc[cell_names[-1][1]:,:].dropna(how='all')\n",
    "        df_cells[cell_names[-1]] = df.iloc[new_cell_idx[-1]:,:].dropna(how='all')\n",
    "        \n",
    "        # df_list.append(df_cells)\n",
    "        od_df[sname] = df_cells\n",
    "        name_list.append(cell_names)\n",
    "    return od_df, name_list\n",
    "\n"
   ]
  },
  {
   "cell_type": "code",
   "execution_count": 9,
   "metadata": {},
   "outputs": [],
   "source": [
    "tmp_file_name = 'canon_1227_d3t4_jm2_siv_2x'\n",
    "od_df, name_lst = get_cell_info2(all_files[tmp_file_name])"
   ]
  },
  {
   "cell_type": "code",
   "execution_count": 10,
   "metadata": {},
   "outputs": [
    {
     "data": {
      "text/plain": [
       "odict_keys(['canon', 'all_marks', 'parents', 'review_parent', 'dummy_beard', 'dummy_filler', 'fdr_dummy', 'kga', 'diag_dummy', 'zonal_bkg', 'xy4', 'pound', 'hatch', 'swirl_xy4', 'swirl_cross', 'swirl_hatch'])"
      ]
     },
     "execution_count": 10,
     "metadata": {},
     "output_type": "execute_result"
    }
   ],
   "source": [
    "od_df.keys()"
   ]
  },
  {
   "cell_type": "code",
   "execution_count": 11,
   "metadata": {},
   "outputs": [
    {
     "data": {
      "text/html": [
       "<div>\n",
       "<style scoped>\n",
       "    .dataframe tbody tr th:only-of-type {\n",
       "        vertical-align: middle;\n",
       "    }\n",
       "\n",
       "    .dataframe tbody tr th {\n",
       "        vertical-align: top;\n",
       "    }\n",
       "\n",
       "    .dataframe thead th {\n",
       "        text-align: right;\n",
       "    }\n",
       "</style>\n",
       "<table border=\"1\" class=\"dataframe\">\n",
       "  <thead>\n",
       "    <tr style=\"text-align: right;\">\n",
       "      <th></th>\n",
       "      <th>EXECUTE</th>\n",
       "      <th>SampleStartLayoutAssembler</th>\n",
       "      <th>Library.string</th>\n",
       "      <th>CellName.string</th>\n",
       "      <th>OpenCellViewMode.string</th>\n",
       "      <th>CellSizeX.float</th>\n",
       "      <th>CellSizeY.float</th>\n",
       "      <th>CenterX.float</th>\n",
       "      <th>CenterY.float</th>\n",
       "      <th>Category.string</th>\n",
       "    </tr>\n",
       "  </thead>\n",
       "  <tbody>\n",
       "    <tr>\n",
       "      <th>69</th>\n",
       "      <td>y</td>\n",
       "      <td>zonal_background</td>\n",
       "      <td>canon27d3t4lib2_p27_lay</td>\n",
       "      <td>122700c_d3t4_siv374d</td>\n",
       "      <td>(61.74 63.72)</td>\n",
       "      <td>or1.tccDebug</td>\n",
       "      <td>1</td>\n",
       "      <td>2</td>\n",
       "      <td>True</td>\n",
       "      <td>NaN</td>\n",
       "    </tr>\n",
       "    <tr>\n",
       "      <th>70</th>\n",
       "      <td>y</td>\n",
       "      <td>StartLayoutAssembler</td>\n",
       "      <td>canon27d3t4lib2_p27_lay</td>\n",
       "      <td>122700c_d3t4_siv374d</td>\n",
       "      <td>a</td>\n",
       "      <td>61.74</td>\n",
       "      <td>63.72</td>\n",
       "      <td>0</td>\n",
       "      <td>0</td>\n",
       "      <td>NaN</td>\n",
       "    </tr>\n",
       "    <tr>\n",
       "      <th>71</th>\n",
       "      <td>y</td>\n",
       "      <td>create_rectangle</td>\n",
       "      <td>cv</td>\n",
       "      <td>or2.tccDebug</td>\n",
       "      <td>-24 -24 24 24</td>\n",
       "      <td>NaN</td>\n",
       "      <td>NaN</td>\n",
       "      <td>NaN</td>\n",
       "      <td>NaN</td>\n",
       "      <td>NaN</td>\n",
       "    </tr>\n",
       "    <tr>\n",
       "      <th>72</th>\n",
       "      <td>y</td>\n",
       "      <td>chopped_tvpa_canon</td>\n",
       "      <td>cv</td>\n",
       "      <td>JM2_mask.drawing</td>\n",
       "      <td>36</td>\n",
       "      <td>2</td>\n",
       "      <td>9</td>\n",
       "      <td>0.5</td>\n",
       "      <td>NaN</td>\n",
       "      <td>NaN</td>\n",
       "    </tr>\n",
       "    <tr>\n",
       "      <th>73</th>\n",
       "      <td>y</td>\n",
       "      <td>chopped_tvpa_canon</td>\n",
       "      <td>cv</td>\n",
       "      <td>SIV_mask.drawing</td>\n",
       "      <td>36</td>\n",
       "      <td>2</td>\n",
       "      <td>9</td>\n",
       "      <td>0.5</td>\n",
       "      <td>NaN</td>\n",
       "      <td>NaN</td>\n",
       "    </tr>\n",
       "    <tr>\n",
       "      <th>74</th>\n",
       "      <td>y</td>\n",
       "      <td>shape_size</td>\n",
       "      <td>cv</td>\n",
       "      <td>SIV_mask.drawing</td>\n",
       "      <td>-0.5</td>\n",
       "      <td>-0.5</td>\n",
       "      <td>-0.5</td>\n",
       "      <td>-0.5</td>\n",
       "      <td>0</td>\n",
       "      <td>NaN</td>\n",
       "    </tr>\n",
       "    <tr>\n",
       "      <th>75</th>\n",
       "      <td>y</td>\n",
       "      <td>bool_and_not</td>\n",
       "      <td>cv</td>\n",
       "      <td>or1.tccDebug</td>\n",
       "      <td>or2.tccDebug</td>\n",
       "      <td>JM2_mask.drawing</td>\n",
       "      <td>NaN</td>\n",
       "      <td>NaN</td>\n",
       "      <td>NaN</td>\n",
       "      <td>NaN</td>\n",
       "    </tr>\n",
       "  </tbody>\n",
       "</table>\n",
       "</div>"
      ],
      "text/plain": [
       "   EXECUTE SampleStartLayoutAssembler           Library.string  \\\n",
       "69       y           zonal_background  canon27d3t4lib2_p27_lay   \n",
       "70       y       StartLayoutAssembler  canon27d3t4lib2_p27_lay   \n",
       "71       y           create_rectangle                       cv   \n",
       "72       y         chopped_tvpa_canon                       cv   \n",
       "73       y         chopped_tvpa_canon                       cv   \n",
       "74       y                 shape_size                       cv   \n",
       "75       y               bool_and_not                       cv   \n",
       "\n",
       "         CellName.string OpenCellViewMode.string   CellSizeX.float  \\\n",
       "69  122700c_d3t4_siv374d           (61.74 63.72)      or1.tccDebug   \n",
       "70  122700c_d3t4_siv374d                       a             61.74   \n",
       "71          or2.tccDebug           -24 -24 24 24               NaN   \n",
       "72      JM2_mask.drawing                      36                 2   \n",
       "73      SIV_mask.drawing                      36                 2   \n",
       "74      SIV_mask.drawing                    -0.5              -0.5   \n",
       "75          or1.tccDebug            or2.tccDebug  JM2_mask.drawing   \n",
       "\n",
       "   CellSizeY.float CenterX.float CenterY.float Category.string  \n",
       "69               1             2          True             NaN  \n",
       "70           63.72             0             0             NaN  \n",
       "71             NaN           NaN           NaN             NaN  \n",
       "72               9           0.5           NaN             NaN  \n",
       "73               9           0.5           NaN             NaN  \n",
       "74            -0.5          -0.5             0             NaN  \n",
       "75             NaN           NaN           NaN             NaN  "
      ]
     },
     "execution_count": 11,
     "metadata": {},
     "output_type": "execute_result"
    }
   ],
   "source": [
    "od_df['all_marks']['122700c_d3t4_siv374d']"
   ]
  },
  {
   "cell_type": "code",
   "execution_count": 12,
   "metadata": {},
   "outputs": [
    {
     "data": {
      "text/plain": [
       "['122700c_d3t4_siv_swirl',\n",
       " '122700c_d3t4_jm2_dummy_3_1',\n",
       " '122700c_d3t4_siv022d',\n",
       " '122700c_d3t4_siv023d',\n",
       " '122700c_d3t4_siv024d',\n",
       " '122700c_d3t4_siv078d',\n",
       " '122700c_d3t4_siv173d',\n",
       " '122700c_d3t4_siv222d',\n",
       " '122700c_d3t4_siv223d',\n",
       " '122700c_d3t4_siv224d',\n",
       " '122700c_d3t4_siv355d',\n",
       " '122700c_d3t4_siv374d']"
      ]
     },
     "execution_count": 12,
     "metadata": {},
     "output_type": "execute_result"
    }
   ],
   "source": [
    "name_lst[1]"
   ]
  },
  {
   "cell_type": "code",
   "execution_count": 14,
   "metadata": {},
   "outputs": [
    {
     "data": {
      "text/plain": [
       "odict_keys(['canon', 'all_marks', 'parents', 'review_parent', 'dummy_beard', 'dummy_filler', 'fdr_dummy', 'kga', 'diag_dummy', 'zonal_bkg', 'xy4', 'pound', 'hatch', 'swirl_xy4', 'swirl_cross', 'swirl_hatch'])"
      ]
     },
     "execution_count": 14,
     "metadata": {},
     "output_type": "execute_result"
    }
   ],
   "source": [
    "od_df.keys()"
   ]
  },
  {
   "cell_type": "code",
   "execution_count": 19,
   "metadata": {},
   "outputs": [
    {
     "data": {
      "text/html": [
       "<div>\n",
       "<style scoped>\n",
       "    .dataframe tbody tr th:only-of-type {\n",
       "        vertical-align: middle;\n",
       "    }\n",
       "\n",
       "    .dataframe tbody tr th {\n",
       "        vertical-align: top;\n",
       "    }\n",
       "\n",
       "    .dataframe thead th {\n",
       "        text-align: right;\n",
       "    }\n",
       "</style>\n",
       "<table border=\"1\" class=\"dataframe\">\n",
       "  <thead>\n",
       "    <tr style=\"text-align: right;\">\n",
       "      <th></th>\n",
       "      <th>EXECUTE</th>\n",
       "      <th>SampleStartLayoutAssembler</th>\n",
       "      <th>Library.string</th>\n",
       "      <th>CellName.string</th>\n",
       "      <th>OpenCellViewMode.string</th>\n",
       "      <th>CellSizeX.float</th>\n",
       "      <th>CellSizeY.float</th>\n",
       "      <th>CenterX.float</th>\n",
       "      <th>CenterY.float</th>\n",
       "      <th>Category.string</th>\n",
       "    </tr>\n",
       "  </thead>\n",
       "  <tbody>\n",
       "    <tr>\n",
       "      <th>23</th>\n",
       "      <td>y</td>\n",
       "      <td>StartLayoutAssembler</td>\n",
       "      <td>canon27d3t4lib2_p27_lay</td>\n",
       "      <td>122700c_d3t4_siv023d</td>\n",
       "      <td>w</td>\n",
       "      <td>61.74</td>\n",
       "      <td>63.72</td>\n",
       "      <td>0</td>\n",
       "      <td>0</td>\n",
       "      <td>NaN</td>\n",
       "    </tr>\n",
       "    <tr>\n",
       "      <th>24</th>\n",
       "      <td>y</td>\n",
       "      <td>xy_canon</td>\n",
       "      <td>cv</td>\n",
       "      <td>SIV_mask.drawing</td>\n",
       "      <td>(1.8 1.8)</td>\n",
       "      <td>(25 25)</td>\n",
       "      <td>(28.2 28.2)</td>\n",
       "      <td>((5))</td>\n",
       "      <td>NaN</td>\n",
       "      <td>NaN</td>\n",
       "    </tr>\n",
       "    <tr>\n",
       "      <th>25</th>\n",
       "      <td>y</td>\n",
       "      <td>create_instance</td>\n",
       "      <td>cv</td>\n",
       "      <td>canon27d3t4lib1_p27_lay</td>\n",
       "      <td>122700c_d3t4_jm2_dummy_3_1</td>\n",
       "      <td>NaN</td>\n",
       "      <td>NaN</td>\n",
       "      <td>NaN</td>\n",
       "      <td>NaN</td>\n",
       "      <td>NaN</td>\n",
       "    </tr>\n",
       "  </tbody>\n",
       "</table>\n",
       "</div>"
      ],
      "text/plain": [
       "   EXECUTE SampleStartLayoutAssembler           Library.string  \\\n",
       "23       y       StartLayoutAssembler  canon27d3t4lib2_p27_lay   \n",
       "24       y                   xy_canon                       cv   \n",
       "25       y            create_instance                       cv   \n",
       "\n",
       "            CellName.string     OpenCellViewMode.string CellSizeX.float  \\\n",
       "23     122700c_d3t4_siv023d                           w           61.74   \n",
       "24         SIV_mask.drawing                   (1.8 1.8)         (25 25)   \n",
       "25  canon27d3t4lib1_p27_lay  122700c_d3t4_jm2_dummy_3_1             NaN   \n",
       "\n",
       "   CellSizeY.float CenterX.float CenterY.float Category.string  \n",
       "23           63.72             0             0             NaN  \n",
       "24     (28.2 28.2)         ((5))           NaN             NaN  \n",
       "25             NaN           NaN           NaN             NaN  "
      ]
     },
     "execution_count": 19,
     "metadata": {},
     "output_type": "execute_result"
    }
   ],
   "source": [
    "sheet_name = list(od_df.keys())[1]  # the second sheet name\n",
    "cell_name = name_lst[1][3]    # the fourth cell name in the second sheet\n",
    "od_df[sheet_name][cell_name]"
   ]
  },
  {
   "cell_type": "code",
   "execution_count": 22,
   "metadata": {},
   "outputs": [],
   "source": [
    "def get_df_info(technology,file_name, sheet_name, cell_name):\n",
    "    \"\"\" get the cell information from the file \"\"\"\n",
    "    in_file_path = f'../../input_sheets/{technology}'\n",
    "    fnames, all_files = load_data(in_file_path)\n",
    "    od_df, name_lst = get_cell_info2(all_files[file_name])\n",
    "    return od_df[sheet_name][cell_name]"
   ]
  },
  {
   "cell_type": "code",
   "execution_count": 24,
   "metadata": {},
   "outputs": [
    {
     "name": "stdout",
     "output_type": "stream",
     "text": [
      "   EXECUTE SampleStartLayoutAssembler        Library.string  \\\n",
      "26       y       StartLayoutAssembler  frmcanon2d4_x22a_lay   \n",
      "27       y                   xy_canon                    cv   \n",
      "\n",
      "                CellName.string OpenCellViewMode.string CellSizeX.float  \\\n",
      "26  122200c_d4t1t5_s22y_gmb022d                       w           61.74   \n",
      "27                  gmb.drawing               (1.6 1.6)         (25 25)   \n",
      "\n",
      "   CellSizeY.float CenterX.float CenterY.float Category.string Unnamed: 10  \\\n",
      "26           63.72             0             0             NaN         NaN   \n",
      "27     (28.4 28.4)         ((5))           NaN             NaN         NaN   \n",
      "\n",
      "   Unnamed: 11 Unnamed: 12  \n",
      "26         NaN         NaN  \n",
      "27         NaN         NaN  \n"
     ]
    }
   ],
   "source": [
    "print(get_df_info(1222,'canon_1222_d4t1t5_S22Y_GMB_GV1_2x', 'xy4', '122200c_d4t1t5_s22y_gmb022d'))"
   ]
  },
  {
   "cell_type": "code",
   "execution_count": null,
   "metadata": {},
   "outputs": [],
   "source": []
  }
 ],
 "metadata": {
  "kernelspec": {
   "display_name": "venv",
   "language": "python",
   "name": "python3"
  },
  "language_info": {
   "codemirror_mode": {
    "name": "ipython",
    "version": 3
   },
   "file_extension": ".py",
   "mimetype": "text/x-python",
   "name": "python",
   "nbconvert_exporter": "python",
   "pygments_lexer": "ipython3",
   "version": "3.13.1"
  }
 },
 "nbformat": 4,
 "nbformat_minor": 2
}
