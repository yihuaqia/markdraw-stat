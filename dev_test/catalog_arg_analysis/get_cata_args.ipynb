{
 "cells": [
  {
   "cell_type": "code",
   "execution_count": 1,
   "metadata": {},
   "outputs": [],
   "source": [
    "import pandas as pd\n",
    "import os\n",
    "import numpy as np\n",
    "import json\n",
    "from collections import Counter\n",
    "from collections import OrderedDict\n",
    "import ast\n",
    "import sys\n",
    "sys.path.append(os.path.abspath('../../'))\n",
    "import dev_test.utils.cata_util as cata_util\n",
    "from dev_test.catalog_verification.cad_functions import MARK_DRAW_FOO as mfuncs\n",
    "from dev_test.catalog_verification.mark_catalogs import CANON_CATALOG as cc"
   ]
  },
  {
   "cell_type": "code",
   "execution_count": 2,
   "metadata": {},
   "outputs": [],
   "source": [
    "# from catalog_verification/refined_catalogs read in a {tech}_refined.csv and return a dataframe\n",
    "def read_refined_catalog(tech):\n",
    "    path = os.path.abspath(f'../../dev_test/catalog_verification/refined_catalogs/{tech}_refined.csv')\n",
    "    df = pd.read_csv(path)\n",
    "    return df"
   ]
  },
  {
   "cell_type": "code",
   "execution_count": 3,
   "metadata": {},
   "outputs": [],
   "source": [
    "# technologies = ['1222']"
   ]
  },
  {
   "cell_type": "code",
   "execution_count": 4,
   "metadata": {},
   "outputs": [],
   "source": [
    "# df = read_refined_catalog(technologies[0])"
   ]
  },
  {
   "cell_type": "code",
   "execution_count": 5,
   "metadata": {},
   "outputs": [],
   "source": [
    "# # loop through the rows of the dataframe and print catalog if not NaN\n",
    "# with open(\"cata_origin_df.txt\",\"w+\") as f:\n",
    "#     for index, row in df.iterrows():\n",
    "#         if not pd.isnull(row['catalog']):\n",
    "#             file, sheet, cell = df.loc[index, ['file', 'sheet', 'cell']]\n",
    "#             df_origin = cata_util.get_df_info(technologies[0], file, sheet, cell)\n",
    "#             # df_origin.to_csv(f, header=False, sep=\"\\t\", index=False)\n",
    "#             np.savetxt(f, df_origin.values, fmt='%s', delimiter='\\t')"
   ]
  },
  {
   "cell_type": "code",
   "execution_count": 6,
   "metadata": {},
   "outputs": [],
   "source": [
    "# target_cata = 'CA2X9'\n",
    "def get_df(df, technology, target_cata):\n",
    "    lst_df = []\n",
    "    for index, row in df.iterrows():\n",
    "        if df.loc[index, 'catalog'] == target_cata:\n",
    "            file, sheet, cell = df.loc[index, ['file', 'sheet', 'cell']]\n",
    "            df_origin = cata_util.get_df_info(technology, file, sheet, cell)\n",
    "            lst_df.append(df_origin)\n",
    "    return lst_df\n"
   ]
  },
  {
   "cell_type": "code",
   "execution_count": 7,
   "metadata": {},
   "outputs": [],
   "source": [
    "# lst_df = get_df(df, technologies[0], target_cata)"
   ]
  },
  {
   "cell_type": "code",
   "execution_count": 8,
   "metadata": {},
   "outputs": [],
   "source": [
    "# mfunc_id = cata_util.get_catalog_seq(cc)[target_cata]"
   ]
  },
  {
   "cell_type": "code",
   "execution_count": 9,
   "metadata": {},
   "outputs": [],
   "source": [
    "# mfunc_id"
   ]
  },
  {
   "cell_type": "code",
   "execution_count": 10,
   "metadata": {},
   "outputs": [],
   "source": [
    "# get the function names from the column \"SampleStartLayoutAssembler\"\n",
    "def get_func_arg_dict(df, mfunc_id):\n",
    "    res = {}\n",
    "    for m_i in mfunc_id:\n",
    "        func_name = mfuncs[m_i]['name']\n",
    "        row = df.loc[df['SampleStartLayoutAssembler'] == func_name]\n",
    "        res[func_name] = {}\n",
    "        for i, args in enumerate(mfuncs[m_i]['args']):\n",
    "            # fill the ith argument of the function\n",
    "            # print(row[:,i])\n",
    "            res[func_name][args] = str(row.iloc[:,i+2].values[0])\n",
    "    return res\n",
    "    \n",
    "    "
   ]
  },
  {
   "cell_type": "code",
   "execution_count": 11,
   "metadata": {},
   "outputs": [],
   "source": [
    "# dict_test = []\n",
    "# for i in range(len(lst_df)):\n",
    "#     dict_test.append(get_func_arg_dict(lst_df[i], mfunc_id))"
   ]
  },
  {
   "cell_type": "code",
   "execution_count": 12,
   "metadata": {},
   "outputs": [],
   "source": [
    "def _compare_dict(d1, d2, show_same=True):\n",
    "    func_names = list(d1.keys())\n",
    "    for func_name in func_names:\n",
    "        for key in d1[func_name].keys():\n",
    "            if d1[func_name][key] != d2[func_name][key]:\n",
    "                print(f\"diff: {key}, d1: {d1[func_name][key]}, d2: {d2[func_name][key]}\")\n",
    "            if show_same:\n",
    "                print(f\"same: {key}\")"
   ]
  },
  {
   "cell_type": "code",
   "execution_count": 13,
   "metadata": {},
   "outputs": [],
   "source": [
    "def args_equal(d1, d2):\n",
    "    # except for 'Library.string' and 'CellName.string' in the 'StartLayoutAssembler' function\n",
    "    # compare if two dictionaries are equal\n",
    "    func_names = list(d1.keys())\n",
    "    for func_name in func_names:\n",
    "        for param in d1[func_name].keys():\n",
    "            if (param not in ['CellName.string']) and (d1[func_name][param] != d2[func_name][param]):\n",
    "                # print(f\"diff: {param}, d1: {d1[func_name][param]}, d2: {d2[func_name][param]}\")\n",
    "                return False\n",
    "    \n",
    "    return True"
   ]
  },
  {
   "cell_type": "code",
   "execution_count": 14,
   "metadata": {},
   "outputs": [],
   "source": [
    "# args_equal(dict_test[0], dict_test[1])"
   ]
  },
  {
   "cell_type": "code",
   "execution_count": 15,
   "metadata": {},
   "outputs": [],
   "source": [
    "# for i in range(len(dict_test)):\n",
    "#     for j in range(i+1, len(dict_test)):\n",
    "#         if not args_equal(dict_test[i], dict_test[j]):\n",
    "#             print(f\"diff: {i}, {j}\")"
   ]
  },
  {
   "cell_type": "code",
   "execution_count": 16,
   "metadata": {},
   "outputs": [],
   "source": [
    "# _compare_dict(dict_test[0], dict_test[1])"
   ]
  },
  {
   "cell_type": "code",
   "execution_count": 17,
   "metadata": {},
   "outputs": [],
   "source": [
    "def get_unique_args(dict_lst):\n",
    "    # get the unique arguments from a list of dictionaries\n",
    "    unique_args = [dict_lst[0]]\n",
    "    for i in range(len(dict_lst)):\n",
    "        for j in range(len(unique_args)):\n",
    "            if args_equal(dict_lst[i], unique_args[j]):\n",
    "                # if the args are the same, go check the next set of args\n",
    "                break\n",
    "        else:\n",
    "            unique_args.append(dict_lst[i])\n",
    "    return unique_args"
   ]
  },
  {
   "cell_type": "code",
   "execution_count": 18,
   "metadata": {},
   "outputs": [],
   "source": [
    "# unique_args = get_unique_args(dict_test)"
   ]
  },
  {
   "cell_type": "code",
   "execution_count": 83,
   "metadata": {},
   "outputs": [],
   "source": [
    "def main(technology):\n",
    "    df = read_refined_catalog(technology)\n",
    "    target_catas = [t for t in df['catalog'].unique() if str(t) != 'nan']\n",
    "    freq = Counter(df['catalog'])\n",
    "\n",
    "    for target_cata in target_catas[2:3]:\n",
    "        print(f\"target_cata: {target_cata}\")\n",
    "        print(f\"freq: {freq[target_cata]}\")\n",
    "        lst_df = get_df(df, technology, target_cata)\n",
    "        mfunc_id = cata_util.get_catalog_seq(cc)[target_cata]\n",
    "        lst_dict = []  # stores the arguments of the functions\n",
    "        for i in range(len(lst_df)):\n",
    "            lst_dict.append(get_func_arg_dict(lst_df[i], mfunc_id))\n",
    "        unique_args = get_unique_args(lst_dict)\n",
    "    return unique_args\n",
    "    "
   ]
  },
  {
   "cell_type": "code",
   "execution_count": 84,
   "metadata": {},
   "outputs": [],
   "source": [
    "technologies = ['1222', '1227', '1276', '1278', '1280', '1282']\n",
    "# target_catas = 'CA2X9'"
   ]
  },
  {
   "cell_type": "code",
   "execution_count": 86,
   "metadata": {},
   "outputs": [
    {
     "name": "stdout",
     "output_type": "stream",
     "text": [
      "target_cata: CA2X9\n",
      "freq: 24\n"
     ]
    }
   ],
   "source": [
    "unique_sets = main(technologies[3])\n"
   ]
  },
  {
   "cell_type": "code",
   "execution_count": 87,
   "metadata": {},
   "outputs": [
    {
     "data": {
      "text/plain": [
       "18"
      ]
     },
     "execution_count": 87,
     "metadata": {},
     "output_type": "execute_result"
    }
   ],
   "source": [
    "len(unique_sets)"
   ]
  },
  {
   "cell_type": "code",
   "execution_count": null,
   "metadata": {},
   "outputs": [],
   "source": []
  }
 ],
 "metadata": {
  "kernelspec": {
   "display_name": "venv",
   "language": "python",
   "name": "python3"
  },
  "language_info": {
   "codemirror_mode": {
    "name": "ipython",
    "version": 3
   },
   "file_extension": ".py",
   "mimetype": "text/x-python",
   "name": "python",
   "nbconvert_exporter": "python",
   "pygments_lexer": "ipython3",
   "version": "3.13.1"
  }
 },
 "nbformat": 4,
 "nbformat_minor": 2
}
