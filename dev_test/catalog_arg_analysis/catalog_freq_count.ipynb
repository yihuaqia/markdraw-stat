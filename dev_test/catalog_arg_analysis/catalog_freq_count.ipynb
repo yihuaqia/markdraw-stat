{
 "cells": [
  {
   "cell_type": "code",
   "execution_count": 1,
   "metadata": {},
   "outputs": [],
   "source": [
    "import pandas as pd\n",
    "import os\n",
    "import sys\n",
    "import matplotlib.pyplot as plt\n",
    "import numpy as np\n",
    "import seaborn as sns\n",
    "sys.path.append('../../dev_test/catalog_verification')\n",
    "from mark_catalogs import CANON_CATALOG as cc\n",
    "\n",
    "\n",
    "\n",
    "# # get the current working directory\n",
    "# cwd = os.getcwd()\n",
    "\n",
    "# get the path to the refined_catalogs directory\n",
    "refined_catalogs_path = '../../dev_test/catalog_verification/refined_catalogs'\n",
    "\n",
    "def load_catalog_analysis(refined_catalogs_path):\n",
    "    # get the list of files in the refined_catalogs directory\n",
    "    files = os.listdir(refined_catalogs_path)\n",
    "\n",
    "    # create a dictionary to store the dataframes\n",
    "    dfs = {}\n",
    "\n",
    "    # iterate over the files in the refined_catalogs directory\n",
    "    for file in files:\n",
    "        # get the file path\n",
    "        file_path = os.path.join(refined_catalogs_path, file)\n",
    "        \n",
    "        # read the csv file into a dataframe\n",
    "        df = pd.read_csv(file_path)\n",
    "        \n",
    "        # store the dataframe in the dictionary\n",
    "        dfs[file] = df\n",
    "    \n",
    "    return dfs"
   ]
  },
  {
   "cell_type": "code",
   "execution_count": 2,
   "metadata": {},
   "outputs": [],
   "source": [
    "dfs = load_catalog_analysis(refined_catalogs_path)"
   ]
  },
  {
   "cell_type": "code",
   "execution_count": 3,
   "metadata": {},
   "outputs": [
    {
     "data": {
      "text/plain": [
       "dict_keys(['1222_refined.csv', '1227_refined.csv', '1276_refined.csv', '1278_refined.csv', '1280_refined.csv', '1282_refined.csv'])"
      ]
     },
     "execution_count": 3,
     "metadata": {},
     "output_type": "execute_result"
    }
   ],
   "source": [
    "dfs.keys()"
   ]
  },
  {
   "cell_type": "code",
   "execution_count": 4,
   "metadata": {},
   "outputs": [
    {
     "data": {
      "text/plain": [
       "catalog\n",
       "CA2X9     18\n",
       "CAXXD3     6\n",
       "CA2X10     6\n",
       "CA2X12     6\n",
       "CAXXD1     4\n",
       "CAXXD4     4\n",
       "CAXXID     3\n",
       "CAXXD2     1\n",
       "Name: count, dtype: int64"
      ]
     },
     "execution_count": 4,
     "metadata": {},
     "output_type": "execute_result"
    }
   ],
   "source": [
    "# count the frequency of each unique catalog in the df\n",
    "dfs['1222_refined.csv']['catalog'].value_counts()\n"
   ]
  },
  {
   "cell_type": "code",
   "execution_count": 5,
   "metadata": {},
   "outputs": [
    {
     "data": {
      "image/png": "[encoded data removed]",
      "text/plain": [
       "<Figure size 500x400 with 1 Axes>"
      ]
     },
     "metadata": {},
     "output_type": "display_data"
    }
   ],
   "source": [
    "# plot the frequency of each unique catalog in the df\n",
    "fig, ax = plt.subplots(figsize=(5, 4))\n",
    "dfs['1222_refined.csv']['catalog'].value_counts().plot(kind='bar', ax=ax)\n",
    "ax.set_xlabel('Catalog Name')\n",
    "ax.set_ylabel('Frequency')\n",
    "ax.set_title('Frequency of Catalogs in 1222_refined.csv')\n",
    "ax.yaxis.set_major_locator(plt.MaxNLocator(integer=True))\n",
    "# rotate the x-axis labels\n",
    "plt.xticks(rotation=45)\n",
    "plt.show()"
   ]
  },
  {
   "cell_type": "code",
   "execution_count": 6,
   "metadata": {},
   "outputs": [
    {
     "data": {
      "text/plain": [
       "catalog\n",
       "CA2X9     15\n",
       "CA2X11     8\n",
       "CA2X10     6\n",
       "CA2X12     5\n",
       "CAXXD4     5\n",
       "CAXXD3     4\n",
       "CA2X15     4\n",
       "CA2X14     4\n",
       "CAXXID     2\n",
       "CAXXD1     2\n",
       "CAXXD2     2\n",
       "CA2X16     2\n",
       "Name: count, dtype: int64"
      ]
     },
     "execution_count": 6,
     "metadata": {},
     "output_type": "execute_result"
    }
   ],
   "source": [
    "dfs['1227_refined.csv']['catalog'].value_counts()"
   ]
  },
  {
   "cell_type": "code",
   "execution_count": 7,
   "metadata": {},
   "outputs": [
    {
     "data": {
      "text/plain": [
       "catalog\n",
       "CA2X9     25\n",
       "CA2X11    18\n",
       "CA2X10     8\n",
       "CA2X14     8\n",
       "CA2X15     8\n",
       "CA2X12     7\n",
       "CA4X9      7\n",
       "CA2X16     4\n",
       "CA2X18     2\n",
       "CA2X17     2\n",
       "CAXXD1     1\n",
       "Name: count, dtype: int64"
      ]
     },
     "execution_count": 7,
     "metadata": {},
     "output_type": "execute_result"
    }
   ],
   "source": [
    "dfs['1276_refined.csv']['catalog'].value_counts()"
   ]
  },
  {
   "cell_type": "code",
   "execution_count": 8,
   "metadata": {},
   "outputs": [
    {
     "data": {
      "text/plain": [
       "catalog\n",
       "CA2X9     24\n",
       "CA2X12     7\n",
       "CA2X10     7\n",
       "CAXXID     5\n",
       "CAXXD4     4\n",
       "CAXXD1     4\n",
       "CAXXD3     4\n",
       "CA4X9      4\n",
       "CAXXD2     1\n",
       "Name: count, dtype: int64"
      ]
     },
     "execution_count": 8,
     "metadata": {},
     "output_type": "execute_result"
    }
   ],
   "source": [
    "dfs['1278_refined.csv']['catalog'].value_counts()"
   ]
  },
  {
   "cell_type": "code",
   "execution_count": 9,
   "metadata": {},
   "outputs": [
    {
     "data": {
      "text/plain": [
       "catalog\n",
       "CA2X9     21\n",
       "CA2X12     7\n",
       "CA2X10     5\n",
       "CAXXD4     4\n",
       "CA4X9      4\n",
       "CAXXD2     4\n",
       "CAXXD1     4\n",
       "CAXXID     2\n",
       "CA2X11     2\n",
       "CAXXD3     1\n",
       "CAXXD6     1\n",
       "CAXXD5     1\n",
       "Name: count, dtype: int64"
      ]
     },
     "execution_count": 9,
     "metadata": {},
     "output_type": "execute_result"
    }
   ],
   "source": [
    "dfs['1280_refined.csv']['catalog'].value_counts()"
   ]
  },
  {
   "cell_type": "code",
   "execution_count": 10,
   "metadata": {},
   "outputs": [
    {
     "data": {
      "text/plain": [
       "catalog\n",
       "CA2X9     22\n",
       "CAXXD1     9\n",
       "CA2X12     7\n",
       "CA2X11     5\n",
       "CA4X9      3\n",
       "CAXXD4     3\n",
       "CA2X10     2\n",
       "CAXXD3     1\n",
       "CAXXD2     1\n",
       "CAXXID     1\n",
       "Name: count, dtype: int64"
      ]
     },
     "execution_count": 10,
     "metadata": {},
     "output_type": "execute_result"
    }
   ],
   "source": [
    "dfs['1282_refined.csv']['catalog'].value_counts()"
   ]
  }
 ],
 "metadata": {
  "kernelspec": {
   "display_name": "venv",
   "language": "python",
   "name": "python3"
  },
  "language_info": {
   "codemirror_mode": {
    "name": "ipython",
    "version": 3
   },
   "file_extension": ".py",
   "mimetype": "text/x-python",
   "name": "python",
   "nbconvert_exporter": "python",
   "pygments_lexer": "ipython3",
   "version": "3.13.1"
  }
 },
 "nbformat": 4,
 "nbformat_minor": 2
}
