{
 "cells": [
  {
   "cell_type": "code",
   "execution_count": 1,
   "metadata": {},
   "outputs": [],
   "source": [
    "import numpy as np\n",
    "import pandas as pd\n",
    "import matplotlib.pyplot as plt\n",
    "import os\n",
    "import datetime\n",
    "\n",
    "# pd.set_option('display.width', 1000)\n",
    "pd.set_option('display.expand_frame_repr', False)\n",
    "plt.rcParams[\"font.family\"] = \"serif\"\n",
    "plt.rcParams[\"font.size\"] = 12\n",
    "plt.rcParams.update({\n",
    "    \"text.usetex\": True,\n",
    "})"
   ]
  },
  {
   "cell_type": "code",
   "execution_count": 2,
   "metadata": {},
   "outputs": [
    {
     "name": "stdout",
     "output_type": "stream",
     "text": [
      "2.2.0\n",
      "2024-12-19 13:17:35.738434\n"
     ]
    }
   ],
   "source": [
    "print(np.__version__)\n",
    "print(datetime.datetime.now())"
   ]
  },
  {
   "cell_type": "code",
   "execution_count": 3,
   "metadata": {},
   "outputs": [],
   "source": [
    "def load_data(path):\n",
    "    \"\"\" read in excel sheets\n",
    "        grab all .xlsx files in the dir specified by path \"\"\"\n",
    "    files_under_path = os.listdir(path)\n",
    "    fnames = [f[:-5] for f in files_under_path if f.endswith('.xlsx')]\n",
    "\n",
    "    all_files = {}\n",
    "    for i in range(len(fnames)):\n",
    "        file = pd.read_excel(f'{path}/{fnames[i]}.xlsx', sheet_name=None, engine='openpyxl')\n",
    "        all_files[fnames[i]] = file\n",
    "\n",
    "    return fnames, all_files"
   ]
  },
  {
   "cell_type": "code",
   "execution_count": 4,
   "metadata": {},
   "outputs": [],
   "source": [
    "path = '../input_sheets/1227'\n",
    "fnames, all_files = load_data(path)"
   ]
  },
  {
   "cell_type": "code",
   "execution_count": 5,
   "metadata": {},
   "outputs": [],
   "source": [
    "def func_detail(df, fname, sheet_name,func_name, output_dir, actuall_run = False):\n",
    "    \"\"\" get function with its arguments\"\"\"\n",
    "    # get the elements with first column value = 'y'; \n",
    "    # when actuall_run = True, get the elements with first column value = 'y' only\n",
    "    \n",
    "    cols = df.columns\n",
    "    if len(cols) == 0:\n",
    "        with open(f'{output_dir}/log.txt', 'a') as f:\n",
    "            f.write(f'{fname}: {sheet_name} - empty file\\n\\n')\n",
    "        return None\n",
    "    \n",
    "    if not actuall_run:\n",
    "        filt = (df[cols[0]] == 'y') | (df[cols[0]] == 'n')\n",
    "    else:\n",
    "        filt = (df[cols[0]] == 'y')\n",
    "    \n",
    "    if ('SampleStartLayoutAssembler' not in cols) or (func_name not in df['SampleStartLayoutAssembler'].unique()):\n",
    "        # print(f'{func_name} not in {fname}: {sheet_name}')\n",
    "        return None\n",
    "    \n",
    "    filt = filt & (df['SampleStartLayoutAssembler'] == func_name)\n",
    "    df_func = df[filt]\n",
    "    # remove the first column\n",
    "    df_func = df_func.drop(columns=cols[0])\n",
    "\n",
    "    if func_name == 'StartLayoutAssembler':\n",
    "        arg_names = df_func.columns\n",
    "    else:\n",
    "        arg_names = df[df[cols[1]] == f'Sample{func_name}'].dropna(axis='columns', how='all').values[0]\n",
    "    # print(f'here:{arg_names}')\n",
    "    df_func.drop(columns=cols[1+len(arg_names):], inplace=True)\n",
    "    df_func.columns = arg_names\n",
    "    df_func = df_func.rename(columns={df_func.columns[0]: 'function'})\n",
    "    df_func['file'] = fname\n",
    "    df_func['sheet'] = sheet_name\n",
    "    return df_func\n"
   ]
  },
  {
   "cell_type": "code",
   "execution_count": 6,
   "metadata": {},
   "outputs": [
    {
     "data": {
      "text/html": [
       "<div>\n",
       "<style scoped>\n",
       "    .dataframe tbody tr th:only-of-type {\n",
       "        vertical-align: middle;\n",
       "    }\n",
       "\n",
       "    .dataframe tbody tr th {\n",
       "        vertical-align: top;\n",
       "    }\n",
       "\n",
       "    .dataframe thead th {\n",
       "        text-align: right;\n",
       "    }\n",
       "</style>\n",
       "<table border=\"1\" class=\"dataframe\">\n",
       "  <thead>\n",
       "    <tr style=\"text-align: right;\">\n",
       "      <th></th>\n",
       "      <th>function</th>\n",
       "      <th>cv.cvid</th>\n",
       "      <th>lpp.lpp</th>\n",
       "      <th>xy_cds.points</th>\n",
       "      <th>xy_lengths.points</th>\n",
       "      <th>xy_distance.points</th>\n",
       "      <th>stepping.list</th>\n",
       "      <th>shift.float</th>\n",
       "      <th>varname.declare</th>\n",
       "      <th>file</th>\n",
       "      <th>sheet</th>\n",
       "    </tr>\n",
       "  </thead>\n",
       "  <tbody>\n",
       "    <tr>\n",
       "      <th>27</th>\n",
       "      <td>xy_canon</td>\n",
       "      <td>cv</td>\n",
       "      <td>SIV_mask.drawing</td>\n",
       "      <td>(1.6 1.6)</td>\n",
       "      <td>(25 25)</td>\n",
       "      <td>(28.4 28.4)</td>\n",
       "      <td>((5))</td>\n",
       "      <td>NaN</td>\n",
       "      <td>NaN</td>\n",
       "      <td>canon_1227_d3t7_jm5_siv_2x</td>\n",
       "      <td>xy4</td>\n",
       "    </tr>\n",
       "    <tr>\n",
       "      <th>31</th>\n",
       "      <td>xy_canon</td>\n",
       "      <td>cv</td>\n",
       "      <td>SIV_mask.drawing</td>\n",
       "      <td>(1.8 1.8)</td>\n",
       "      <td>(25 25)</td>\n",
       "      <td>(28.2 28.2)</td>\n",
       "      <td>((5))</td>\n",
       "      <td>NaN</td>\n",
       "      <td>NaN</td>\n",
       "      <td>canon_1227_d3t7_jm5_siv_2x</td>\n",
       "      <td>xy4</td>\n",
       "    </tr>\n",
       "    <tr>\n",
       "      <th>35</th>\n",
       "      <td>xy_canon</td>\n",
       "      <td>cv</td>\n",
       "      <td>SIV_mask.drawing</td>\n",
       "      <td>(2 2)</td>\n",
       "      <td>(25 25)</td>\n",
       "      <td>(28 28)</td>\n",
       "      <td>((5))</td>\n",
       "      <td>NaN</td>\n",
       "      <td>NaN</td>\n",
       "      <td>canon_1227_d3t7_jm5_siv_2x</td>\n",
       "      <td>xy4</td>\n",
       "    </tr>\n",
       "  </tbody>\n",
       "</table>\n",
       "</div>"
      ],
      "text/plain": [
       "    function cv.cvid           lpp.lpp xy_cds.points xy_lengths.points xy_distance.points stepping.list shift.float varname.declare                        file sheet\n",
       "27  xy_canon      cv  SIV_mask.drawing     (1.6 1.6)           (25 25)        (28.4 28.4)         ((5))         NaN             NaN  canon_1227_d3t7_jm5_siv_2x   xy4\n",
       "31  xy_canon      cv  SIV_mask.drawing     (1.8 1.8)           (25 25)        (28.2 28.2)         ((5))         NaN             NaN  canon_1227_d3t7_jm5_siv_2x   xy4\n",
       "35  xy_canon      cv  SIV_mask.drawing         (2 2)           (25 25)            (28 28)         ((5))         NaN             NaN  canon_1227_d3t7_jm5_siv_2x   xy4"
      ]
     },
     "execution_count": 6,
     "metadata": {},
     "output_type": "execute_result"
    }
   ],
   "source": [
    "func_detail(all_files['canon_1227_d3t7_jm5_siv_2x']['xy4'],'canon_1227_d3t7_jm5_siv_2x', 'xy4', 'xy_canon', path, actuall_run=True)"
   ]
  },
  {
   "cell_type": "code",
   "execution_count": 7,
   "metadata": {},
   "outputs": [],
   "source": [
    "# func_detail(all_files['canon_1227_d3t7_jm5_siv_2x']['xy4'],'canon_1227_d3t7_jm5_siv_2x', 'xy4', 'create_instance', path, actuall_run=True)"
   ]
  },
  {
   "cell_type": "code",
   "execution_count": 8,
   "metadata": {},
   "outputs": [],
   "source": [
    "# func_detail(all_files['canon_1227_d3t7_jm5_siv_2x']['xy4'],'canon_1227_d3t7_jm5_siv_2x', 'xy4', 'StartLayoutAssembler', path, actuall_run=True)"
   ]
  },
  {
   "cell_type": "code",
   "execution_count": 20,
   "metadata": {},
   "outputs": [],
   "source": [
    "def func_with_args(input_path,actuall_run,func_name):\n",
    "    # define dataframes\n",
    "    fnames, all_files = load_data(input_path)\n",
    "    list_of_dfs = []\n",
    "    for fname in fnames:\n",
    "        sheet_names = all_files[fname].keys()\n",
    "        for sheet_name in sheet_names:\n",
    "            df_sheet = all_files[fname][sheet_name]  # a single sheet in a single file\n",
    "            df_func = func_detail(df_sheet, fname, sheet_name, func_name, input_path, actuall_run=actuall_run)\n",
    "            if df_func is not None:\n",
    "                # remove cols with all NaN values\n",
    "                df_func.dropna(axis='columns', how='all', inplace=True)\n",
    "                list_of_dfs.append(df_func)\n",
    "\n",
    "    # concatenate all dataframes\n",
    "    df = pd.concat(list_of_dfs)\n",
    "    # remove row index\n",
    "    df.reset_index(drop=True, inplace=True)\n",
    "    # remove columns with all NaN values\n",
    "    df.dropna(axis='columns', how='all', inplace=True)\n",
    "    return df"
   ]
  },
  {
   "cell_type": "code",
   "execution_count": 13,
   "metadata": {},
   "outputs": [],
   "source": [
    "df = func_with_args(path, True, func_name='xy_canon')"
   ]
  },
  {
   "cell_type": "code",
   "execution_count": 14,
   "metadata": {},
   "outputs": [],
   "source": [
    "df.to_csv(f'{os.getcwd()}/xy_canon_{path[-4:]}.csv', index=False)"
   ]
  },
  {
   "cell_type": "code",
   "execution_count": 15,
   "metadata": {},
   "outputs": [],
   "source": [
    "paths = ['../input_sheets/1222', '../input_sheets/1227', '../input_sheets/1276', '../input_sheets/1278', '../input_sheets/1280', '../input_sheets/1282']"
   ]
  },
  {
   "cell_type": "code",
   "execution_count": 16,
   "metadata": {},
   "outputs": [],
   "source": [
    "def main(input_paths, func_name):\n",
    "    output_path = f'{os.getcwd()}/{func_name}_analysis'\n",
    "    if not os.path.exists(output_path):\n",
    "        os.mkdir(output_path)\n",
    "    for input_path in input_paths:\n",
    "        df = func_with_args(input_path, True, func_name)\n",
    "        df.to_csv(f'{output_path}/{func_name}_{input_path[-4:]}.csv', index=False)"
   ]
  },
  {
   "cell_type": "code",
   "execution_count": 17,
   "metadata": {},
   "outputs": [],
   "source": [
    "main(paths, 'xy_canon')"
   ]
  },
  {
   "cell_type": "code",
   "execution_count": 21,
   "metadata": {},
   "outputs": [],
   "source": [
    "main(paths, 'StartLayoutAssembler')"
   ]
  },
  {
   "cell_type": "code",
   "execution_count": 22,
   "metadata": {},
   "outputs": [],
   "source": [
    "main(paths, 'create_instance')"
   ]
  }
 ],
 "metadata": {
  "kernelspec": {
   "display_name": "venv",
   "language": "python",
   "name": "python3"
  },
  "language_info": {
   "codemirror_mode": {
    "name": "ipython",
    "version": 3
   },
   "file_extension": ".py",
   "mimetype": "text/x-python",
   "name": "python",
   "nbconvert_exporter": "python",
   "pygments_lexer": "ipython3",
   "version": "3.13.1"
  }
 },
 "nbformat": 4,
 "nbformat_minor": 2
}
