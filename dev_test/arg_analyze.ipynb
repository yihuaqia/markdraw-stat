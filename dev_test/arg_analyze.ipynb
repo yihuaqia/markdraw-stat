{
 "cells": [
  {
   "cell_type": "code",
   "execution_count": 1,
   "metadata": {},
   "outputs": [],
   "source": [
    "import numpy as np\n",
    "import pandas as pd\n",
    "import matplotlib.pyplot as plt\n",
    "import os\n",
    "import datetime\n",
    "\n",
    "# pd.set_option('display.width', 1000)\n",
    "pd.set_option('display.expand_frame_repr', False)\n",
    "plt.rcParams[\"font.family\"] = \"serif\"\n",
    "plt.rcParams[\"font.size\"] = 12\n",
    "plt.rcParams.update({\n",
    "    \"text.usetex\": True,\n",
    "})"
   ]
  },
  {
   "cell_type": "code",
   "execution_count": 2,
   "metadata": {},
   "outputs": [
    {
     "name": "stdout",
     "output_type": "stream",
     "text": [
      "2.2.0\n",
      "2025-01-14 13:36:50.785425\n"
     ]
    }
   ],
   "source": [
    "print(np.__version__)\n",
    "print(datetime.datetime.now())"
   ]
  },
  {
   "cell_type": "code",
   "execution_count": 3,
   "metadata": {},
   "outputs": [],
   "source": [
    "def load_data(path):\n",
    "    \"\"\" read in excel sheets\n",
    "        grab all .xlsx files in the dir specified by path \"\"\"\n",
    "    files_under_path = os.listdir(path)\n",
    "    fnames = [f[:-5] for f in files_under_path if f.endswith('.xlsx')]\n",
    "\n",
    "    all_files = {}\n",
    "    for i in range(len(fnames)):\n",
    "        file = pd.read_excel(f'{path}/{fnames[i]}.xlsx', sheet_name=None, engine='openpyxl')\n",
    "        all_files[fnames[i]] = file\n",
    "\n",
    "    return fnames, all_files"
   ]
  },
  {
   "cell_type": "code",
   "execution_count": 4,
   "metadata": {},
   "outputs": [],
   "source": [
    "path = '../input_sheets/1227'\n",
    "fnames, all_files = load_data(path)"
   ]
  },
  {
   "cell_type": "code",
   "execution_count": 5,
   "metadata": {},
   "outputs": [],
   "source": [
    "def func_detail(df, fname, sheet_name,func_name, output_dir, actuall_run = False):\n",
    "    \"\"\" get function with its arguments\"\"\"\n",
    "    # get the elements with first column value = 'y'; \n",
    "    # when actuall_run = True, get the elements with first column value = 'y' only\n",
    "    \n",
    "    cols = df.columns\n",
    "    if len(cols) == 0:\n",
    "        with open(f'{output_dir}/log.txt', 'a') as f:\n",
    "            f.write(f'{fname}: {sheet_name} - empty file\\n\\n')\n",
    "        return None\n",
    "    \n",
    "    if not actuall_run:\n",
    "        filt = (df[cols[0]] == 'y') | (df[cols[0]] == 'n')\n",
    "    else:\n",
    "        filt = (df[cols[0]] == 'y')\n",
    "    \n",
    "    if ('SampleStartLayoutAssembler' not in cols) or (func_name not in df['SampleStartLayoutAssembler'].unique()):\n",
    "        # print(f'{func_name} not in {fname}: {sheet_name}')\n",
    "        return None\n",
    "    \n",
    "    filt = filt & (df['SampleStartLayoutAssembler'] == func_name)\n",
    "    df_func = df[filt]\n",
    "    # remove the first column\n",
    "    df_func = df_func.drop(columns=cols[0])\n",
    "\n",
    "    if func_name == 'StartLayoutAssembler':\n",
    "        arg_names = df_func.columns\n",
    "    else:\n",
    "        arg_names = df[df[cols[1]] == f'Sample{func_name}'].dropna(axis='columns', how='all').values[0]\n",
    "    # print(f'here:{arg_names}')\n",
    "    df_func.drop(columns=cols[1+len(arg_names):], inplace=True)\n",
    "    df_func.columns = arg_names\n",
    "    df_func = df_func.rename(columns={df_func.columns[0]: 'function'})\n",
    "    df_func['file'] = fname\n",
    "    df_func['sheet'] = sheet_name\n",
    "    return df_func\n"
   ]
  },
  {
   "cell_type": "code",
   "execution_count": 6,
   "metadata": {},
   "outputs": [
    {
     "data": {
      "text/html": [
       "<div>\n",
       "<style scoped>\n",
       "    .dataframe tbody tr th:only-of-type {\n",
       "        vertical-align: middle;\n",
       "    }\n",
       "\n",
       "    .dataframe tbody tr th {\n",
       "        vertical-align: top;\n",
       "    }\n",
       "\n",
       "    .dataframe thead th {\n",
       "        text-align: right;\n",
       "    }\n",
       "</style>\n",
       "<table border=\"1\" class=\"dataframe\">\n",
       "  <thead>\n",
       "    <tr style=\"text-align: right;\">\n",
       "      <th></th>\n",
       "      <th>function</th>\n",
       "      <th>cv.cvid</th>\n",
       "      <th>lpp.lpp</th>\n",
       "      <th>xy_cds.points</th>\n",
       "      <th>xy_lengths.points</th>\n",
       "      <th>xy_distance.points</th>\n",
       "      <th>stepping.list</th>\n",
       "      <th>shift.float</th>\n",
       "      <th>varname.declare</th>\n",
       "      <th>file</th>\n",
       "      <th>sheet</th>\n",
       "    </tr>\n",
       "  </thead>\n",
       "  <tbody>\n",
       "    <tr>\n",
       "      <th>27</th>\n",
       "      <td>xy_canon</td>\n",
       "      <td>cv</td>\n",
       "      <td>SIV_mask.drawing</td>\n",
       "      <td>(1.6 1.6)</td>\n",
       "      <td>(25 25)</td>\n",
       "      <td>(28.4 28.4)</td>\n",
       "      <td>((5))</td>\n",
       "      <td>NaN</td>\n",
       "      <td>NaN</td>\n",
       "      <td>canon_1227_d3t7_jm5_siv_2x</td>\n",
       "      <td>xy4</td>\n",
       "    </tr>\n",
       "    <tr>\n",
       "      <th>31</th>\n",
       "      <td>xy_canon</td>\n",
       "      <td>cv</td>\n",
       "      <td>SIV_mask.drawing</td>\n",
       "      <td>(1.8 1.8)</td>\n",
       "      <td>(25 25)</td>\n",
       "      <td>(28.2 28.2)</td>\n",
       "      <td>((5))</td>\n",
       "      <td>NaN</td>\n",
       "      <td>NaN</td>\n",
       "      <td>canon_1227_d3t7_jm5_siv_2x</td>\n",
       "      <td>xy4</td>\n",
       "    </tr>\n",
       "    <tr>\n",
       "      <th>35</th>\n",
       "      <td>xy_canon</td>\n",
       "      <td>cv</td>\n",
       "      <td>SIV_mask.drawing</td>\n",
       "      <td>(2 2)</td>\n",
       "      <td>(25 25)</td>\n",
       "      <td>(28 28)</td>\n",
       "      <td>((5))</td>\n",
       "      <td>NaN</td>\n",
       "      <td>NaN</td>\n",
       "      <td>canon_1227_d3t7_jm5_siv_2x</td>\n",
       "      <td>xy4</td>\n",
       "    </tr>\n",
       "  </tbody>\n",
       "</table>\n",
       "</div>"
      ],
      "text/plain": [
       "    function cv.cvid           lpp.lpp xy_cds.points xy_lengths.points xy_distance.points stepping.list shift.float varname.declare                        file sheet\n",
       "27  xy_canon      cv  SIV_mask.drawing     (1.6 1.6)           (25 25)        (28.4 28.4)         ((5))         NaN             NaN  canon_1227_d3t7_jm5_siv_2x   xy4\n",
       "31  xy_canon      cv  SIV_mask.drawing     (1.8 1.8)           (25 25)        (28.2 28.2)         ((5))         NaN             NaN  canon_1227_d3t7_jm5_siv_2x   xy4\n",
       "35  xy_canon      cv  SIV_mask.drawing         (2 2)           (25 25)            (28 28)         ((5))         NaN             NaN  canon_1227_d3t7_jm5_siv_2x   xy4"
      ]
     },
     "execution_count": 6,
     "metadata": {},
     "output_type": "execute_result"
    }
   ],
   "source": [
    "func_detail(all_files['canon_1227_d3t7_jm5_siv_2x']['xy4'],'canon_1227_d3t7_jm5_siv_2x', 'xy4', 'xy_canon', path, actuall_run=True)"
   ]
  },
  {
   "cell_type": "code",
   "execution_count": 91,
   "metadata": {},
   "outputs": [],
   "source": [
    "def func_detail2(df, fname, sheet_name,func_name, output_dir, actuall_run = False):\n",
    "    \"\"\" get function with its arguments; also get the size of the cell where the func is called \"\"\"\n",
    "    # get the elements with first column value = 'y'; \n",
    "    # when actuall_run = True, get the elements with first column value = 'y' only\n",
    "    cols = df.columns\n",
    "    if len(cols) == 0:\n",
    "        with open(f'{output_dir}/log.txt', 'a') as f:\n",
    "            f.write(f'{fname}: {sheet_name} - empty file\\n\\n')\n",
    "        return None\n",
    "    \n",
    "    if not actuall_run:\n",
    "        filt = (df[cols[0]] == 'y') | (df[cols[0]] == 'n')\n",
    "    else:\n",
    "        filt = (df[cols[0]] == 'y')\n",
    "    \n",
    "    if ('SampleStartLayoutAssembler' not in cols) or (func_name not in df['SampleStartLayoutAssembler'].unique()):\n",
    "        # print(f'{func_name} not in {fname}: {sheet_name}')\n",
    "        return None\n",
    "    \n",
    "    filt = filt & (df['SampleStartLayoutAssembler'] == func_name)\n",
    "    df_func = df[filt]\n",
    "    df_func = df_func.drop(columns=cols[0]) # remove the first column\n",
    "\n",
    "    if func_name == 'StartLayoutAssembler':\n",
    "        arg_names = df_func.columns\n",
    "    else:\n",
    "        arg_names = df[df[cols[1]] == f'Sample{func_name}'].dropna(axis='columns', how='all').values[0]\n",
    "\n",
    "    df_func.drop(columns=cols[1+len(arg_names):], inplace=True)\n",
    "    df_func.columns = arg_names\n",
    "    df_func = df_func.rename(columns={df_func.columns[0]: 'function'})\n",
    "    df_func['file'] = fname\n",
    "    df_func['sheet'] = sheet_name\n",
    "\n",
    "    # for each func call find the size of the cell\n",
    "    if func_name != 'StartLayoutAssembler':\n",
    "        df_func['CellSizeX'] = 0.0\n",
    "        df_func['CellSizeY'] = 0.0\n",
    "        func_iloc = df_func[filt].index\n",
    "        \n",
    "        cell_size_list = []\n",
    "        for i in range(len(func_iloc)):\n",
    "            start_iloc = 0 if i == 0 else func_iloc[i-1]\n",
    "            # From start_iloc to func_iloc[i], find the StartLayoutAssembler\n",
    "            start_layout = df.iloc[start_iloc:func_iloc[i]]\n",
    "            if 'StartLayoutAssembler' in start_layout['SampleStartLayoutAssembler'].unique():\n",
    "                start_layout = start_layout[start_layout['SampleStartLayoutAssembler'] == 'StartLayoutAssembler']\n",
    "                cell_size = start_layout[['CellSizeX.float', 'CellSizeY.float']].values[0]\n",
    "                cell_size_list.append(cell_size)\n",
    "        \n",
    "        # assign the cell size to the func call as two new columns\n",
    "        for ifunc, cell_size in zip(func_iloc, cell_size_list):\n",
    "            df_func.loc[ifunc, 'CellSizeX'] = cell_size[0]\n",
    "            df_func.loc[ifunc, 'CellSizeY'] = cell_size[1]\n",
    "\n",
    "    return df_func\n"
   ]
  },
  {
   "cell_type": "code",
   "execution_count": 92,
   "metadata": {},
   "outputs": [
    {
     "name": "stderr",
     "output_type": "stream",
     "text": [
      "C:\\Users\\yihuaqia\\AppData\\Local\\Temp\\ipykernel_30692\\3866426472.py:39: UserWarning: Boolean Series key will be reindexed to match DataFrame index.\n",
      "  func_iloc = df_func.index[df_func[filt]].to_list()\n"
     ]
    },
    {
     "ename": "IndexError",
     "evalue": "only integers, slices (`:`), ellipsis (`...`), numpy.newaxis (`None`) and integer or boolean arrays are valid indices",
     "output_type": "error",
     "traceback": [
      "\u001b[1;31m---------------------------------------------------------------------------\u001b[0m",
      "\u001b[1;31mIndexError\u001b[0m                                Traceback (most recent call last)",
      "Cell \u001b[1;32mIn[92], line 1\u001b[0m\n\u001b[1;32m----> 1\u001b[0m \u001b[43mfunc_detail2\u001b[49m\u001b[43m(\u001b[49m\u001b[43mall_files\u001b[49m\u001b[43m[\u001b[49m\u001b[38;5;124;43m'\u001b[39;49m\u001b[38;5;124;43mcanon_1227_d3t7_jm5_siv_2x\u001b[39;49m\u001b[38;5;124;43m'\u001b[39;49m\u001b[43m]\u001b[49m\u001b[43m[\u001b[49m\u001b[38;5;124;43m'\u001b[39;49m\u001b[38;5;124;43mxy4\u001b[39;49m\u001b[38;5;124;43m'\u001b[39;49m\u001b[43m]\u001b[49m\u001b[43m,\u001b[49m\u001b[38;5;124;43m'\u001b[39;49m\u001b[38;5;124;43mcanon_1227_d3t7_jm5_siv_2x\u001b[39;49m\u001b[38;5;124;43m'\u001b[39;49m\u001b[43m,\u001b[49m\u001b[43m \u001b[49m\u001b[38;5;124;43m'\u001b[39;49m\u001b[38;5;124;43mxy4\u001b[39;49m\u001b[38;5;124;43m'\u001b[39;49m\u001b[43m,\u001b[49m\u001b[43m \u001b[49m\u001b[38;5;124;43m'\u001b[39;49m\u001b[38;5;124;43mxy_canon\u001b[39;49m\u001b[38;5;124;43m'\u001b[39;49m\u001b[43m,\u001b[49m\u001b[43m \u001b[49m\u001b[43mpath\u001b[49m\u001b[43m,\u001b[49m\u001b[43m \u001b[49m\u001b[43mactuall_run\u001b[49m\u001b[38;5;241;43m=\u001b[39;49m\u001b[38;5;28;43;01mTrue\u001b[39;49;00m\u001b[43m)\u001b[49m\n",
      "Cell \u001b[1;32mIn[91], line 39\u001b[0m, in \u001b[0;36mfunc_detail2\u001b[1;34m(df, fname, sheet_name, func_name, output_dir, actuall_run)\u001b[0m\n\u001b[0;32m     37\u001b[0m df_func[\u001b[38;5;124m'\u001b[39m\u001b[38;5;124mCellSizeX\u001b[39m\u001b[38;5;124m'\u001b[39m] \u001b[38;5;241m=\u001b[39m \u001b[38;5;241m0.0\u001b[39m\n\u001b[0;32m     38\u001b[0m df_func[\u001b[38;5;124m'\u001b[39m\u001b[38;5;124mCellSizeY\u001b[39m\u001b[38;5;124m'\u001b[39m] \u001b[38;5;241m=\u001b[39m \u001b[38;5;241m0.0\u001b[39m\n\u001b[1;32m---> 39\u001b[0m func_iloc \u001b[38;5;241m=\u001b[39m \u001b[43mdf_func\u001b[49m\u001b[38;5;241;43m.\u001b[39;49m\u001b[43mindex\u001b[49m\u001b[43m[\u001b[49m\u001b[43mdf_func\u001b[49m\u001b[43m[\u001b[49m\u001b[43mfilt\u001b[49m\u001b[43m]\u001b[49m\u001b[43m]\u001b[49m\u001b[38;5;241m.\u001b[39mto_list()\n\u001b[0;32m     41\u001b[0m cell_size_list \u001b[38;5;241m=\u001b[39m []\n\u001b[0;32m     42\u001b[0m \u001b[38;5;28;01mfor\u001b[39;00m i \u001b[38;5;129;01min\u001b[39;00m \u001b[38;5;28mrange\u001b[39m(\u001b[38;5;28mlen\u001b[39m(func_iloc)):\n",
      "File \u001b[1;32mc:\\Users\\yihuaqia\\work\\markdraw_stat\\venv\\Lib\\site-packages\\pandas\\core\\indexes\\base.py:5416\u001b[0m, in \u001b[0;36mIndex.__getitem__\u001b[1;34m(self, key)\u001b[0m\n\u001b[0;32m   5407\u001b[0m         \u001b[38;5;28;01mif\u001b[39;00m \u001b[38;5;28mlen\u001b[39m(key) \u001b[38;5;241m==\u001b[39m \u001b[38;5;241m0\u001b[39m \u001b[38;5;129;01mand\u001b[39;00m \u001b[38;5;28mlen\u001b[39m(key) \u001b[38;5;241m!=\u001b[39m \u001b[38;5;28mlen\u001b[39m(\u001b[38;5;28mself\u001b[39m):\n\u001b[0;32m   5408\u001b[0m             warnings\u001b[38;5;241m.\u001b[39mwarn(\n\u001b[0;32m   5409\u001b[0m                 \u001b[38;5;124m\"\u001b[39m\u001b[38;5;124mUsing a boolean indexer with length 0 on an Index with \u001b[39m\u001b[38;5;124m\"\u001b[39m\n\u001b[0;32m   5410\u001b[0m                 \u001b[38;5;124m\"\u001b[39m\u001b[38;5;124mlength greater than 0 is deprecated and will raise in a \u001b[39m\u001b[38;5;124m\"\u001b[39m\n\u001b[1;32m   (...)\u001b[0m\n\u001b[0;32m   5413\u001b[0m                 stacklevel\u001b[38;5;241m=\u001b[39mfind_stack_level(),\n\u001b[0;32m   5414\u001b[0m             )\n\u001b[1;32m-> 5416\u001b[0m result \u001b[38;5;241m=\u001b[39m \u001b[43mgetitem\u001b[49m\u001b[43m(\u001b[49m\u001b[43mkey\u001b[49m\u001b[43m)\u001b[49m\n\u001b[0;32m   5417\u001b[0m \u001b[38;5;66;03m# Because we ruled out integer above, we always get an arraylike here\u001b[39;00m\n\u001b[0;32m   5418\u001b[0m \u001b[38;5;28;01mif\u001b[39;00m result\u001b[38;5;241m.\u001b[39mndim \u001b[38;5;241m>\u001b[39m \u001b[38;5;241m1\u001b[39m:\n",
      "\u001b[1;31mIndexError\u001b[0m: only integers, slices (`:`), ellipsis (`...`), numpy.newaxis (`None`) and integer or boolean arrays are valid indices"
     ]
    }
   ],
   "source": [
    "func_detail2(all_files['canon_1227_d3t7_jm5_siv_2x']['xy4'],'canon_1227_d3t7_jm5_siv_2x', 'xy4', 'xy_canon', path, actuall_run=True)"
   ]
  },
  {
   "cell_type": "code",
   "execution_count": 90,
   "metadata": {},
   "outputs": [],
   "source": [
    "def func_with_args(input_path,actuall_run,func_name):\n",
    "    # define dataframes\n",
    "    fnames, all_files = load_data(input_path)\n",
    "    list_of_dfs = []\n",
    "    for fname in fnames:\n",
    "        sheet_names = all_files[fname].keys()\n",
    "        for sheet_name in sheet_names:\n",
    "            df_sheet = all_files[fname][sheet_name]  # a single sheet in a single file\n",
    "            df_func = func_detail(df_sheet, fname, sheet_name, func_name, input_path, actuall_run=actuall_run)\n",
    "            if df_func is not None:\n",
    "                # remove cols with all NaN values\n",
    "                df_func.dropna(axis='columns', how='all', inplace=True)\n",
    "                list_of_dfs.append(df_func)\n",
    "\n",
    "    # concatenate all dataframes\n",
    "    df = pd.concat(list_of_dfs)\n",
    "    # remove row index\n",
    "    df.reset_index(drop=True, inplace=True)\n",
    "    # remove columns with all NaN values\n",
    "    df.dropna(axis='columns', how='all', inplace=True)\n",
    "    return df"
   ]
  },
  {
   "cell_type": "code",
   "execution_count": 13,
   "metadata": {},
   "outputs": [],
   "source": [
    "df = func_with_args(path, True, func_name='xy_canon')"
   ]
  },
  {
   "cell_type": "code",
   "execution_count": 14,
   "metadata": {},
   "outputs": [],
   "source": [
    "df.to_csv(f'{os.getcwd()}/xy_canon_{path[-4:]}.csv', index=False)"
   ]
  },
  {
   "cell_type": "code",
   "execution_count": 15,
   "metadata": {},
   "outputs": [],
   "source": [
    "paths = ['../input_sheets/1222', '../input_sheets/1227', '../input_sheets/1276', '../input_sheets/1278', '../input_sheets/1280', '../input_sheets/1282']"
   ]
  },
  {
   "cell_type": "code",
   "execution_count": 16,
   "metadata": {},
   "outputs": [],
   "source": [
    "def main(input_paths, func_name):\n",
    "    output_path = f'{os.getcwd()}/{func_name}_analysis'\n",
    "    if not os.path.exists(output_path):\n",
    "        os.mkdir(output_path)\n",
    "    for input_path in input_paths:\n",
    "        df = func_with_args(input_path, True, func_name)\n",
    "        df.to_csv(f'{output_path}/{func_name}_{input_path[-4:]}.csv', index=False)"
   ]
  },
  {
   "cell_type": "code",
   "execution_count": 17,
   "metadata": {},
   "outputs": [],
   "source": [
    "main(paths, 'xy_canon')"
   ]
  },
  {
   "cell_type": "code",
   "execution_count": 21,
   "metadata": {},
   "outputs": [],
   "source": [
    "main(paths, 'StartLayoutAssembler')"
   ]
  },
  {
   "cell_type": "code",
   "execution_count": 22,
   "metadata": {},
   "outputs": [],
   "source": [
    "main(paths, 'create_instance')"
   ]
  }
 ],
 "metadata": {
  "kernelspec": {
   "display_name": "venv",
   "language": "python",
   "name": "python3"
  },
  "language_info": {
   "codemirror_mode": {
    "name": "ipython",
    "version": 3
   },
   "file_extension": ".py",
   "mimetype": "text/x-python",
   "name": "python",
   "nbconvert_exporter": "python",
   "pygments_lexer": "ipython3",
   "version": "3.13.1"
  }
 },
 "nbformat": 4,
 "nbformat_minor": 2
}
