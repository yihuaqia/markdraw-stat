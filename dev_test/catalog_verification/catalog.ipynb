{
 "cells": [
  {
   "cell_type": "code",
   "execution_count": 1,
   "metadata": {},
   "outputs": [],
   "source": [
    "import pandas as pd\n",
    "import os\n",
    "import numpy as np\n",
    "import json\n",
    "from collections import Counter\n",
    "from collections import OrderedDict\n",
    "import ast"
   ]
  },
  {
   "cell_type": "code",
   "execution_count": 2,
   "metadata": {},
   "outputs": [],
   "source": [
    "# Load the data; for now we read in from the intermediate csv file\n",
    "# technology = '1222'\n",
    "# func_name = 'xy_canon'"
   ]
  },
  {
   "cell_type": "code",
   "execution_count": 3,
   "metadata": {},
   "outputs": [
    {
     "data": {
      "text/plain": [
       "'c:\\\\Users\\\\yihuaqia\\\\work\\\\markdraw_stat\\\\source_code\\\\dev_test\\\\catalog_verification'"
      ]
     },
     "execution_count": 3,
     "metadata": {},
     "output_type": "execute_result"
    }
   ],
   "source": [
    "os.getcwd()"
   ]
  },
  {
   "cell_type": "code",
   "execution_count": 4,
   "metadata": {},
   "outputs": [],
   "source": [
    "def load_data(path):\n",
    "    \"\"\" read in excel sheets\n",
    "        grab all .xlsx files in the dir specified by path \"\"\"\n",
    "    files_under_path = os.listdir(path)\n",
    "    fnames = [f[:-5] for f in files_under_path if f.endswith('.xlsx')]\n",
    "\n",
    "    all_files = {}\n",
    "    for i in range(len(fnames)):\n",
    "        file = pd.read_excel(f'{path}/{fnames[i]}.xlsx', sheet_name=None, engine='openpyxl')\n",
    "        all_files[fnames[i]] = file\n",
    "\n",
    "    return fnames, all_files"
   ]
  },
  {
   "cell_type": "code",
   "execution_count": 5,
   "metadata": {},
   "outputs": [],
   "source": [
    "path = '../../input_sheets/1227'\n",
    "fnames, all_files = load_data(path)"
   ]
  },
  {
   "cell_type": "code",
   "execution_count": 6,
   "metadata": {},
   "outputs": [
    {
     "data": {
      "text/plain": [
       "dict_keys(['canon', 'all_functions', 'all_marks', 'parents', 'review_parent', 'dummy_beard', 'dummy_filler', 'fdr_dummy', 'kga', 'diag_dummy', 'zonal_bkg', 'xy4', 'pound', 'hatch', 'swirl_xy4', 'swirl_cross', 'swirl_hatch', 'marklist', 'delivery'])"
      ]
     },
     "execution_count": 6,
     "metadata": {},
     "output_type": "execute_result"
    }
   ],
   "source": [
    "all_files['canon_1227_d3t4_jm2_siv_2x'].keys()"
   ]
  },
  {
   "cell_type": "code",
   "execution_count": 7,
   "metadata": {},
   "outputs": [],
   "source": [
    "import cad_functions as mfunc_table"
   ]
  },
  {
   "cell_type": "code",
   "execution_count": 8,
   "metadata": {},
   "outputs": [],
   "source": [
    "mfunc_dict = mfunc_table.MARK_DRAW_FOO\n",
    "reverse_mfunc_dict = {v['name']: k for k, v in mfunc_dict.items()}"
   ]
  },
  {
   "cell_type": "code",
   "execution_count": 9,
   "metadata": {},
   "outputs": [],
   "source": [
    "def get_cell_info(file, test_write):\n",
    "    \n",
    "    for k in file.keys():\n",
    "        cell_names = []\n",
    "        df = pd.DataFrame(file[k])\n",
    "        # check if the StartLayoutAssembler is in any place in the df\n",
    "        if 'StartLayoutAssembler' not in df.values and 'zonal_background' not in df.values:\n",
    "            print(f'{k} does not have StartLayoutAssembler or zonal_background')\n",
    "            continue\n",
    "\n",
    "        for i in range(df.shape[0]):\n",
    "            if df.iloc[i,1] == 'StartLayoutAssembler' or df.iloc[i,1] == 'zonal_background':\n",
    "                cell_names.append(df.iloc[i]['CellName.string'])\n",
    "        test_write.write(f'{k}\\n')\n",
    "        test_write.write(f'# of unique cell names: {len(set(cell_names))}\\n')\n",
    "        test_write.write(f'# of cell names: {len(cell_names)}\\n')\n",
    "        if len(set(cell_names)) < len(cell_names):\n",
    "            repated_cells = [item for item, count in Counter(cell_names).items() if count > 1]\n",
    "            test_write.write(f'repeated cells: {repated_cells}\\n')\n",
    "        test_write.write('\\n')\n",
    "       "
   ]
  },
  {
   "cell_type": "code",
   "execution_count": 10,
   "metadata": {},
   "outputs": [],
   "source": [
    "# with open('./tmp_write.txt', 'w+') as test_write:\n",
    "#     get_cell_info(all_files['canon_1227_d3t4_jm2_siv_2x'],test_write)"
   ]
  },
  {
   "cell_type": "code",
   "execution_count": 11,
   "metadata": {},
   "outputs": [],
   "source": [
    "# def get_func_seq2(file, test_write=None):\n",
    "#     func_seq = []\n",
    "#     for k in file.keys():\n",
    "#     # for k in ['all_marks']:\n",
    "#         cell_names = []\n",
    "#         func_seq_lst = []\n",
    "#         df = pd.DataFrame(file[k])\n",
    "#         if ('StartLayoutAssembler' not in df.values) and ('zonal_background' not in df.values):\n",
    "#             continue\n",
    "#         # print(k, df.shape)\n",
    "#         for i in range(df.shape[0]):\n",
    "#             # print(f'{i}: {df.iloc[i,1]}')\n",
    "#             if df.iloc[i,1] == 'StartLayoutAssembler' or df.iloc[i,1] == 'zonal_background':\n",
    "#                 c_name = df.iloc[i]['CellName.string']\n",
    "#                 if c_name not in cell_names:\n",
    "#                     cell_names.append(c_name)\n",
    "            \n",
    "#             m_func = reverse_mfunc_dict.get(df.iloc[i,1], None)  # m0 ~ m13\n",
    "#             if not m_func:\n",
    "#                 continue\n",
    "\n",
    "#             if m_func in ['m0','m13']:\n",
    "#                 func_seq_lst.append((m_func, df.iloc[i,3]))\n",
    "#             else:\n",
    "#                 func_seq_lst.append((m_func, ''))\n",
    "            \n",
    "#         if test_write:\n",
    "#             test_write.write(f'{k}\\n')\n",
    "#             test_write.write(f'func: {func_seq_lst}\\n')\n",
    "#             test_write.write('\\n')\n",
    "        \n",
    "#         func_seq.append(func_seq_lst)\n",
    "#     return func_seq"
   ]
  },
  {
   "cell_type": "code",
   "execution_count": 12,
   "metadata": {},
   "outputs": [],
   "source": [
    "# with open('./tmp_write.txt', 'w+') as test_write:\n",
    "#     func_seq = get_func_seq2(all_files['canon_1227_d3t4_jm2_siv_2x'],test_write)"
   ]
  },
  {
   "cell_type": "code",
   "execution_count": 13,
   "metadata": {},
   "outputs": [],
   "source": [
    "def get_func_seq3(one_sheet):\n",
    "    cell_names = []\n",
    "    func_seq_lst = []\n",
    "    df = pd.DataFrame(one_sheet)\n",
    "    if ('StartLayoutAssembler' not in df.values) and ('zonal_background' not in df.values):\n",
    "        return func_seq_lst\n",
    "        # print(k, df.shape)\n",
    "    else:\n",
    "        for i in range(df.shape[0]):\n",
    "            # print(f'{i}: {df.iloc[i,1]}')\n",
    "            if df.iloc[i,1] == 'StartLayoutAssembler' or df.iloc[i,1] == 'zonal_background':\n",
    "                c_name = df.iloc[i]['CellName.string']\n",
    "                if c_name not in cell_names:\n",
    "                    cell_names.append(c_name)\n",
    "            \n",
    "            m_func = reverse_mfunc_dict.get(df.iloc[i,1], None)  # m0 ~ m13\n",
    "            if not m_func:\n",
    "                continue\n",
    "\n",
    "            if m_func in ['m0','m13']:\n",
    "                func_seq_lst.append((m_func, df.iloc[i,3]))\n",
    "            else:\n",
    "                func_seq_lst.append((m_func, ''))\n",
    "    return func_seq_lst"
   ]
  },
  {
   "cell_type": "code",
   "execution_count": 14,
   "metadata": {},
   "outputs": [],
   "source": [
    "def seq_analyse2(lst):\n",
    "    \"\"\" For sequnce in a given sheet, analyse the sequence of functions \"\"\"\n",
    "    seq = OrderedDict()  # dict of form {'cell_name': [mfunc1, mfunc2, ...], }\n",
    "    n_func = len(lst)\n",
    "    for i in range(n_func):\n",
    "        cname = str(lst[i][1])\n",
    "        \n",
    "        mfunc = lst[i][0]\n",
    "        if len(cname) > 0 and (cname not in seq):\n",
    "            # new cell\n",
    "            seq[cname] = [mfunc]\n",
    "        else:\n",
    "            # in-cell function calls\n",
    "            last_cname = list(seq.keys())[-1]\n",
    "            seq[last_cname].append(mfunc)\n",
    "        \n",
    "    return seq"
   ]
  },
  {
   "cell_type": "code",
   "execution_count": 15,
   "metadata": {},
   "outputs": [],
   "source": [
    "# print(seq_analyse2(func_seq[1]))"
   ]
  },
  {
   "cell_type": "code",
   "execution_count": 16,
   "metadata": {},
   "outputs": [],
   "source": [
    "# # get all the sequences of a file\n",
    "# def all_seq(path):\n",
    "#     fnames, all_files = load_data(path)\n",
    "#     func_seq_all = []  # each element is a list of func_seq for a sheet\n",
    "#     for k in all_files.keys():\n",
    "#         func_seq = get_func_seq2(all_files[k])\n",
    "#         func_seq_all.append(func_seq)\n",
    "#     # return func_seq_all[0]\n",
    "#     seq_analyse_all = []  # each file\n",
    "#     for i in range(len(func_seq_all)):\n",
    "#         seq_analyse_per_sheet = []  # each sheet\n",
    "#         for j in range(len(func_seq_all[i])):\n",
    "#             seq_analyse_per_sheet.append(seq_analyse2(func_seq_all[i][j]))\n",
    "#         seq_analyse_all.append(seq_analyse_per_sheet)\n",
    "#     return dict(zip(fnames, seq_analyse_all))"
   ]
  },
  {
   "cell_type": "code",
   "execution_count": 17,
   "metadata": {},
   "outputs": [],
   "source": [
    "def all_seq2(path):\n",
    "    fnames, all_files = load_data(path)\n",
    "    func_seq_all = []  # each element is a list of func_seq for a sheet\n",
    "    for file_name in all_files.keys():\n",
    "        for sheet_name in all_files[file_name].keys():\n",
    "            func_seq = get_func_seq3(all_files[file_name][sheet_name])\n",
    "            func_seq_all.append(func_seq)\n",
    "\n",
    "\n",
    "    result = {}\n",
    "    # construct the result dict; {'file_name': {'sheet_name': {cell_name: [mfunc1, mfunc2, ...], }, }, }\n",
    "    for file_name in fnames:\n",
    "        result[file_name] = {}\n",
    "        for sheet_name in all_files[file_name].keys():\n",
    "            result[file_name][sheet_name] = seq_analyse2(func_seq_all.pop(0))\n",
    "\n",
    "    return result\n",
    "\n",
    "\n",
    "    "
   ]
  },
  {
   "cell_type": "code",
   "execution_count": 18,
   "metadata": {},
   "outputs": [
    {
     "data": {
      "text/plain": [
       "{'canon_1227_d3t4_jm2_siv_2x': {'canon': OrderedDict([('nan', ['m0'])]),\n",
       "  'all_functions': OrderedDict(),\n",
       "  'all_marks': OrderedDict([('122700c_d3t4_siv_swirl', ['m13']),\n",
       "               ('122700c_d3t4_jm2_dummy_3_1', ['m0', 'm15']),\n",
       "               ('122700c_d3t4_siv022d', ['m0', 'm1', 'm18']),\n",
       "               ('122700c_d3t4_siv023d', ['m0', 'm1', 'm18']),\n",
       "               ('122700c_d3t4_siv024d', ['m0', 'm1', 'm18']),\n",
       "               ('122700c_d3t4_siv078d', ['m0', 'm1', 'm18']),\n",
       "               ('122700c_d3t4_siv173d', ['m0', 'm7', 'm18']),\n",
       "               ('122700c_d3t4_siv222d', ['m0', 'm1', 'm1', 'm12', 'm18']),\n",
       "               ('122700c_d3t4_siv223d', ['m0', 'm1', 'm1', 'm12', 'm18']),\n",
       "               ('122700c_d3t4_siv224d', ['m0', 'm1', 'm1', 'm12', 'm18']),\n",
       "               ('122700c_d3t4_siv355d',\n",
       "                ['m13', 'm0', 'm16', 'm6', 'm6', 'm12', 'm10']),\n",
       "               ('122700c_d3t4_siv374d',\n",
       "                ['m13', 'm0', 'm16', 'm7', 'm7', 'm12', 'm10'])]),\n",
       "  'parents': OrderedDict([('122700c_d3t4_frm_1x1_canon_f_01',\n",
       "                ['m0', 'm18', 'm18']),\n",
       "               ('122700c_d3t4_frm_1x1_canon_f_02', ['m0', 'm18', 'm18']),\n",
       "               ('122700c_d3t4_frm_1x1_canon_f_03', ['m0', 'm18', 'm18']),\n",
       "               ('122700c_d3t4_frm_1x1_canon_f_04', ['m0', 'm18', 'm18']),\n",
       "               ('122700c_d3t4_frm_1x1_canon_s_05', ['m0', 'm18', 'm18']),\n",
       "               ('122700c_d3t4_frm_1x1_canon_f_06', ['m0', 'm18', 'm18']),\n",
       "               ('122700c_d3t4_frm_1x1_canon_f_07', ['m0', 'm18', 'm18']),\n",
       "               ('122700c_d3t4_frm_1x1_canon_f_08', ['m0', 'm18', 'm18']),\n",
       "               ('122700c_d3t4_frm_1x1_canon_s_09', ['m0', 'm18', 'm18']),\n",
       "               ('122700c_d3t4_frm_1x1_canon_s_10', ['m0', 'm18', 'm18'])]),\n",
       "  'review_parent': OrderedDict([('122700c_d3t4_siv_review_parent', ['m0'])]),\n",
       "  'dummy_beard': OrderedDict([('122700c_d3t4_siv_dummy_beard',\n",
       "                ['m0', 'm18', 'm18', 'm18'])]),\n",
       "  'dummy_filler': OrderedDict([('122700c_d3t4_dummy_filler_test',\n",
       "                ['m0', 'm18', 'm20'])]),\n",
       "  'fdr_dummy': OrderedDict([('122700c_d3t4_dummy_filler', ['m0', 'm21'])]),\n",
       "  'kga': OrderedDict([('122700c_d3t4_id_layers', ['m0', 'm17'])]),\n",
       "  'diag_dummy': OrderedDict([('122700c_d3t4_jm2_dummy_3_1', ['m0', 'm15']),\n",
       "               ('122700c_d3t4_jm1_dummy_4_1', ['m0', 'm15'])]),\n",
       "  'zonal_bkg': OrderedDict([('122700c_d3t4_siv_swirl', ['m13'])]),\n",
       "  'xy4': OrderedDict([('122700c_d3t4_siv022d', ['m0', 'm1', 'm18']),\n",
       "               ('122700c_d3t4_siv023d', ['m0', 'm1', 'm18']),\n",
       "               ('122700c_d3t4_siv024d', ['m0', 'm1', 'm18'])]),\n",
       "  'pound': OrderedDict([('122700c_d3t4_siv078d', ['m0', 'm1', 'm18'])]),\n",
       "  'hatch': OrderedDict([('122700c_d3t4_siv173d', ['m0', 'm7', 'm18'])]),\n",
       "  'swirl_xy4': OrderedDict([('122700c_d3t4_siv222d',\n",
       "                ['m0', 'm1', 'm1', 'm12', 'm18']),\n",
       "               ('122700c_d3t4_siv223d', ['m0', 'm1', 'm1', 'm12', 'm18']),\n",
       "               ('122700c_d3t4_siv224d', ['m0', 'm1', 'm1', 'm12', 'm18'])]),\n",
       "  'swirl_cross': OrderedDict([('122700c_d3t4_siv355d',\n",
       "                ['m13', 'm0', 'm16', 'm6', 'm6', 'm12', 'm10'])]),\n",
       "  'swirl_hatch': OrderedDict([('122700c_d3t4_siv374d',\n",
       "                ['m13', 'm0', 'm16', 'm7', 'm7', 'm12', 'm10'])]),\n",
       "  'marklist': OrderedDict(),\n",
       "  'delivery': OrderedDict()},\n",
       " 'canon_1227_d3t7_jm5_siv_2x': {'canon': OrderedDict([('nan', ['m0'])]),\n",
       "  'all_functions': OrderedDict(),\n",
       "  'all_marks': OrderedDict([('122700c_d3t7_siv_swirl', ['m13']),\n",
       "               ('122700c_d3t7_jm5_dummy_4_1', ['m0', 'm15']),\n",
       "               ('122700c_d3t7_siv022d', ['m0', 'm1', 'm18']),\n",
       "               ('122700c_d3t7_siv023d', ['m0', 'm1', 'm18']),\n",
       "               ('122700c_d3t7_siv024d', ['m0', 'm1', 'm18']),\n",
       "               ('122700c_d3t7_siv078d', ['m0', 'm1', 'm18']),\n",
       "               ('122700c_d3t7_siv173d', ['m0', 'm7', 'm18']),\n",
       "               ('122700c_d3t7_siv222d', ['m0', 'm1', 'm1', 'm12', 'm18']),\n",
       "               ('122700c_d3t7_siv223d', ['m0', 'm1', 'm1', 'm12', 'm18']),\n",
       "               ('122700c_d3t7_siv224d', ['m0', 'm1', 'm1', 'm12', 'm18']),\n",
       "               ('122700c_d3t7_siv355d',\n",
       "                ['m13', 'm0', 'm16', 'm6', 'm6', 'm12', 'm10']),\n",
       "               ('122700c_d3t7_siv374d',\n",
       "                ['m13', 'm0', 'm16', 'm7', 'm7', 'm12', 'm10'])]),\n",
       "  'parents': OrderedDict([('122700c_d3t7_frm_1x1_canon_f_01',\n",
       "                ['m0', 'm18', 'm18']),\n",
       "               ('122700c_d3t7_frm_1x1_canon_f_02', ['m0', 'm18', 'm18']),\n",
       "               ('122700c_d3t7_frm_1x1_canon_f_03', ['m0', 'm18', 'm18']),\n",
       "               ('122700c_d3t7_frm_1x1_canon_f_04', ['m0', 'm18', 'm18']),\n",
       "               ('122700c_d3t7_frm_1x1_canon_s_05', ['m0', 'm18', 'm18']),\n",
       "               ('122700c_d3t7_frm_1x1_canon_f_06', ['m0', 'm18', 'm18']),\n",
       "               ('122700c_d3t7_frm_1x1_canon_f_07', ['m0', 'm18', 'm18']),\n",
       "               ('122700c_d3t7_frm_1x1_canon_f_08', ['m0', 'm18', 'm18']),\n",
       "               ('122700c_d3t7_frm_1x1_canon_s_09', ['m0', 'm18', 'm18']),\n",
       "               ('122700c_d3t7_frm_1x1_canon_s_10', ['m0', 'm18', 'm18'])]),\n",
       "  'review_parent': OrderedDict([('122700c_d3t7_siv_review_parent', ['m0'])]),\n",
       "  'dummy_beard': OrderedDict([('122700c_d3t7_siv_dummy_beard',\n",
       "                ['m0', 'm18', 'm18', 'm18', 'm18', 'm18', 'm18'])]),\n",
       "  'dummy_filler': OrderedDict([('122700c_d3t7_dummy_filler_test',\n",
       "                ['m0', 'm18', 'm20'])]),\n",
       "  'fdr_dummy': OrderedDict([('122700c_d3t7_dummy_filler', ['m0', 'm21'])]),\n",
       "  'kga': OrderedDict([('122700c_d3t7_id_layers', ['m0', 'm17'])]),\n",
       "  'diag_dummy': OrderedDict([('122700c_d3t7_jm5_dummy_4_1', ['m0', 'm15']),\n",
       "               ('122700c_d3t7_jm4_dummy_3_1', ['m0', 'm15']),\n",
       "               ('122700c_d3t7_jm3_dummy_4_1', ['m0', 'm15']),\n",
       "               ('122700c_d3t7_jm2_dummy_3_1', ['m0', 'm15']),\n",
       "               ('122700c_d3t7_jm1_dummy_4_1', ['m0', 'm15'])]),\n",
       "  'zonal_bkg': OrderedDict([('122700c_d3t7_siv_swirl', ['m13'])]),\n",
       "  'xy4': OrderedDict([('122700c_d3t7_siv022d', ['m0', 'm1', 'm18']),\n",
       "               ('122700c_d3t7_siv023d', ['m0', 'm1', 'm18']),\n",
       "               ('122700c_d3t7_siv024d', ['m0', 'm1', 'm18'])]),\n",
       "  'pound': OrderedDict([('122700c_d3t7_siv078d', ['m0', 'm1', 'm18'])]),\n",
       "  'hatch': OrderedDict([('122700c_d3t7_siv173d', ['m0', 'm7', 'm18'])]),\n",
       "  'swirl_xy4': OrderedDict([('122700c_d3t7_siv222d',\n",
       "                ['m0', 'm1', 'm1', 'm12', 'm18']),\n",
       "               ('122700c_d3t7_siv223d', ['m0', 'm1', 'm1', 'm12', 'm18']),\n",
       "               ('122700c_d3t7_siv224d', ['m0', 'm1', 'm1', 'm12', 'm18'])]),\n",
       "  'swirl_cross': OrderedDict([('122700c_d3t7_siv355d',\n",
       "                ['m13', 'm0', 'm16', 'm6', 'm6', 'm12', 'm10'])]),\n",
       "  'swirl_hatch': OrderedDict([('122700c_d3t7_siv374d',\n",
       "                ['m13', 'm0', 'm16', 'm7', 'm7', 'm12', 'm10'])]),\n",
       "  'marklist': OrderedDict(),\n",
       "  'delivery': OrderedDict()},\n",
       " 'canon_1227_d3t7_psv': {'GET': OrderedDict(),\n",
       "  'Summary params': OrderedDict(),\n",
       "  'xy4': OrderedDict([('122700c_d3t7_psv001d', ['m0', 'm1', 'm16', 'm10'])]),\n",
       "  'box_box': OrderedDict([('122700c_d3t7_psv002d', ['m0', 'm5', 'm5'])]),\n",
       "  'FA_short': OrderedDict([('122700c_d3t7_psv003h', ['m0', 'm3']),\n",
       "               ('122700c_d3t7_psv004h', ['m0', 'm3']),\n",
       "               ('122700c_d3t7_psv005v', ['m0', 'm3']),\n",
       "               ('122700c_d3t7_psv006v', ['m0', 'm3'])]),\n",
       "  'cross': OrderedDict([('122700c_d3t7_psv007d', ['m0', 'm6']),\n",
       "               ('122700c_d3t7_psv008d', ['m0', 'm6']),\n",
       "               ('122700c_d3t7_psv009d', ['m0', 'm6']),\n",
       "               ('122700c_d3t7_psv010d', ['m0', 'm6'])]),\n",
       "  'delivery': OrderedDict(),\n",
       "  'review': OrderedDict([('122700c_d3t7_psv_review_parent', ['m0'])]),\n",
       "  'Sheet1': OrderedDict()},\n",
       " 'canon_1227_gmb_siv_2x': {'Sheet1': OrderedDict(),\n",
       "  'canon': OrderedDict([('nan', ['m0'])]),\n",
       "  'all_functions': OrderedDict(),\n",
       "  'gmb_zonal_bkg': OrderedDict([('120700c_1_1227_gmb_swirl', ['m13'])]),\n",
       "  'place_conatiners': OrderedDict([('122700c_1_1227_p_gmb001', ['m0', 'm18']),\n",
       "               ('122700c_1_1227_p_gmb002', ['m0', 'm18']),\n",
       "               ('122700c_1_1227_p_gmb003', ['m0', 'm18']),\n",
       "               ('122700c_1_1227_p_gmb004', ['m0', 'm18']),\n",
       "               ('122700c_1_1227_p_gmb005', ['m0', 'm18']),\n",
       "               ('122700c_1_1227_p_gmb006', ['m0', 'm18']),\n",
       "               ('122700c_1_1227_p_gmb007', ['m0', 'm18']),\n",
       "               ('122700c_1_1227_p_gmb008', ['m0', 'm18']),\n",
       "               ('122700c_1_1227_p_gmb009', ['m0', 'm18']),\n",
       "               ('122700c_1_1227_p_gmb010', ['m0', 'm18'])]),\n",
       "  'gmb_xy4': OrderedDict([('122700c_1_1227_p_gmb022d',\n",
       "                ['m0', 'm16', 'm1', 'm10']),\n",
       "               ('122700c_1_1227_p_gmb023d', ['m0', 'm16', 'm1', 'm10']),\n",
       "               ('122700c_1_1227_p_gmb024d', ['m0', 'm16', 'm1', 'm10'])]),\n",
       "  'gmb_pound': OrderedDict([('122700c_1_1227_p_gmb078d',\n",
       "                ['m0', 'm16', 'm1', 'm10'])]),\n",
       "  'gmb_hatch': OrderedDict([('122700c_1_1227_p_gmb173d',\n",
       "                ['m0', 'm16', 'm7', 'm10'])]),\n",
       "  'gmb_siv_swirl_xy4': OrderedDict([('122700c_1_1227_p_gmb222d',\n",
       "                ['m0', 'm1', 'm1', 'm12', 'm18']),\n",
       "               ('122700c_1_1227_p_gmb223d', ['m0', 'm1', 'm1', 'm12', 'm18']),\n",
       "               ('122700c_1_1227_p_gmb224d',\n",
       "                ['m0', 'm1', 'm1', 'm12', 'm18'])]),\n",
       "  'gmb_siv_swirl_cross': OrderedDict([('122700c_1_1227_p_gmb355d',\n",
       "                ['m13', 'm0', 'm16', 'm6', 'm6', 'm12', 'm10'])]),\n",
       "  'gmb_siv_swril_hatch': OrderedDict([('122700c_1_1227_p_gmb374d',\n",
       "                ['m13', 'm0', 'm16', 'm7', 'm7', 'm12', 'm10'])])},\n",
       " 'canon_1227_gms_siv_2x': {'Sheet1': OrderedDict(),\n",
       "  'canon': OrderedDict([('nan', ['m0'])]),\n",
       "  'all_functions': OrderedDict(),\n",
       "  'place_conatiners': OrderedDict([('122700c_2_1227_p_gms001', ['m0', 'm18']),\n",
       "               ('122700c_2_1227_p_gms002', ['m0', 'm18']),\n",
       "               ('122700c_2_1227_p_gms003', ['m0', 'm18']),\n",
       "               ('122700c_2_1227_p_gms004', ['m0', 'm18']),\n",
       "               ('122700c_2_1227_p_gms005', ['m0', 'm18']),\n",
       "               ('122700c_2_1227_p_gms006', ['m0', 'm18']),\n",
       "               ('122700c_2_1227_p_gms007', ['m0', 'm18']),\n",
       "               ('122700c_2_1227_p_gms008', ['m0', 'm18']),\n",
       "               ('122700c_2_1227_p_gms009', ['m0', 'm18']),\n",
       "               ('122700c_2_1227_p_gms010', ['m0', 'm18'])]),\n",
       "  'gms_zonal_bkg': OrderedDict([('122700c_2_1227_gms_swirl', ['m13'])]),\n",
       "  'gms_xy4': OrderedDict([('122700c_2_1227_p_gms022d', ['m0', 'm1']),\n",
       "               ('122700c_2_1227_p_gms023d', ['m0', 'm1']),\n",
       "               ('122700c_2_1227_p_gms024d', ['m0', 'm1'])]),\n",
       "  'gms_pound': OrderedDict([('122700c_2_1227_p_gms078d', ['m0', 'm1'])]),\n",
       "  'gms_hatch': OrderedDict([('122700c_2_1227_p_gms173d', ['m0', 'm7'])]),\n",
       "  'gms_siv_swirl_xy4': OrderedDict([('122700c_2_1227_p_gms222d',\n",
       "                ['m0', 'm1', 'm1', 'm12', 'm18']),\n",
       "               ('122700c_2_1227_p_gms223d', ['m0', 'm1', 'm1', 'm12', 'm18']),\n",
       "               ('122700c_2_1227_p_gms224d',\n",
       "                ['m0', 'm1', 'm1', 'm12', 'm18'])]),\n",
       "  'gms_siv_swirl_cross': OrderedDict([('122700c_2_1227_p_gms355d',\n",
       "                ['m13', 'm0', 'm16', 'm6', 'm6', 'm12', 'm10'])]),\n",
       "  'gms_siv_swril_hatch': OrderedDict([('122700c_2_1227_p_gms374d',\n",
       "                ['m13', 'm0', 'm16', 'm7', 'm7', 'm12', 'm10'])]),\n",
       "  'review': OrderedDict([('rev_122700c_2_1227_p_gms001', ['m0', 'm18', 'm18']),\n",
       "               ('rev_122700c_2_1227_p_gms002', ['m0', 'm18', 'm18']),\n",
       "               ('rev_122700c_2_1227_p_gms003', ['m0', 'm18', 'm18']),\n",
       "               ('rev_122700c_2_1227_p_gms004', ['m0', 'm18', 'm18']),\n",
       "               ('rev_122700c_2_1227_p_gms005', ['m0', 'm18', 'm18']),\n",
       "               ('rev_122700c_2_1227_p_gms006', ['m0', 'm18', 'm18']),\n",
       "               ('rev_122700c_2_1227_p_gms007', ['m0', 'm18', 'm18']),\n",
       "               ('rev_122700c_2_1227_p_gms008', ['m0', 'm18', 'm18']),\n",
       "               ('rev_122700c_2_1227_p_gms009', ['m0', 'm18', 'm18']),\n",
       "               ('rev_122700c_2_1227_p_gms010', ['m0', 'm18', 'm18'])])},\n",
       " 'canon_lunarlake_psm_final_1': {'GET': OrderedDict(),\n",
       "  'Summary params': OrderedDict(),\n",
       "  'psm_containers': OrderedDict([('122700c_1_1227_p_psm001', ['m0', 'm18']),\n",
       "               ('122700c_1_1227_p_psm002', ['m0', 'm18']),\n",
       "               ('122700c_1_1227_p_psm003', ['m0', 'm18']),\n",
       "               ('122700c_1_1227_p_psm004', ['m0', 'm18']),\n",
       "               ('122700c_1_1227_p_psm005', ['m0', 'm18']),\n",
       "               ('122700c_1_1227_p_psm006', ['m0', 'm18']),\n",
       "               ('122700c_1_1227_p_psm007', ['m0', 'm18']),\n",
       "               ('122700c_1_1227_p_psm008', ['m0', 'm18']),\n",
       "               ('122700c_1_1227_p_psm009', ['m0', 'm18']),\n",
       "               ('122700c_1_1227_p_psm010', ['m0', 'm18'])]),\n",
       "  'xy4': OrderedDict([('122700c_1_1227_p_psm001d', ['m0', 'm1'])]),\n",
       "  'box_box': OrderedDict([('122700c_1_1227_p_psm002d', ['m0', 'm5', 'm5'])]),\n",
       "  'FA_short': OrderedDict([('122700c_1_1227_p_psm003h', ['m0', 'm3']),\n",
       "               ('122700c_1_1227_p_psm004h', ['m0', 'm3']),\n",
       "               ('122700c_1_1227_p_psm005v', ['m0', 'm3']),\n",
       "               ('122700c_1_1227_p_psm006v', ['m0', 'm3'])]),\n",
       "  'cross': OrderedDict([('122700c_1_1227_p_psm007d', ['m0', 'm6']),\n",
       "               ('122700c_1_1227_p_psm008d', ['m0', 'm6']),\n",
       "               ('122700c_1_1227_p_psm009d', ['m0', 'm6']),\n",
       "               ('122700c_1_1227_p_psm010d', ['m0', 'm6'])]),\n",
       "  'Summary': OrderedDict()}}"
      ]
     },
     "execution_count": 18,
     "metadata": {},
     "output_type": "execute_result"
    }
   ],
   "source": [
    "all_seq2(path)"
   ]
  },
  {
   "cell_type": "code",
   "execution_count": 19,
   "metadata": {},
   "outputs": [],
   "source": [
    "# seq_analyse_per_file = all_seq(path)"
   ]
  },
  {
   "cell_type": "code",
   "execution_count": 20,
   "metadata": {},
   "outputs": [],
   "source": [
    "# seq_analyse_per_file.keys()"
   ]
  },
  {
   "cell_type": "code",
   "execution_count": 21,
   "metadata": {},
   "outputs": [],
   "source": [
    "# len(seq_analyse_per_file['canon_1227_d3t4_jm2_siv_2x'])"
   ]
  },
  {
   "cell_type": "code",
   "execution_count": 22,
   "metadata": {},
   "outputs": [],
   "source": [
    "# seq_analyse_per_file['canon_1227_d3t4_jm2_siv_2x'][1].keys()"
   ]
  },
  {
   "cell_type": "code",
   "execution_count": 23,
   "metadata": {},
   "outputs": [],
   "source": [
    "# seq_analyse_per_file['canon_1227_d3t4_jm2_siv_2x'][1]['122700c_d3t4_siv355d']"
   ]
  },
  {
   "cell_type": "markdown",
   "metadata": {},
   "source": [
    "# Compare with current Cannon catalogue"
   ]
  },
  {
   "cell_type": "code",
   "execution_count": 24,
   "metadata": {},
   "outputs": [],
   "source": [
    "from mark_catalogs import CANON_CATALOG as cc\n",
    "# from mark_catalogs_old import CANON_CATALOG as cc_old"
   ]
  },
  {
   "cell_type": "code",
   "execution_count": 25,
   "metadata": {},
   "outputs": [],
   "source": [
    "def get_catalog_seq(cc):\n",
    "    catalog_seq = {}\n",
    "    for k in cc.keys():\n",
    "        catalog_seq[k] = list(cc[k]['CAD_info']['function_sequence'])\n",
    "    return catalog_seq"
   ]
  },
  {
   "cell_type": "code",
   "execution_count": 26,
   "metadata": {},
   "outputs": [],
   "source": [
    "catalog_seq = get_catalog_seq(cc)"
   ]
  },
  {
   "cell_type": "code",
   "execution_count": 27,
   "metadata": {},
   "outputs": [
    {
     "data": {
      "text/plain": [
       "{'CAXXID': ['m0', 'm17'],\n",
       " 'CAXXD1': ['m0', 'm21'],\n",
       " 'CAXXD2': ['m0', 'm20'],\n",
       " 'CAXXD3': ['m0', 'm15'],\n",
       " 'CAXXD4': ['m0', 'm15'],\n",
       " 'CAXXD5': ['m0', 'm14'],\n",
       " 'CAXXD6': ['m0', 'm14'],\n",
       " 'CA4X1': ['m0', 'm1', 'm14', 'm10'],\n",
       " 'CA4X2': ['m0', 'm1', 'm14', 'm10'],\n",
       " 'CA4X3': ['m0', 'm6', 'm14', 'm10'],\n",
       " 'CA4X4': ['m0', 'm7', 'm14', 'm10'],\n",
       " 'CA4X5': ['m0', 'm1', 'm14', 'm10'],\n",
       " 'CA4X6': ['m0', 'm1', 'm14', 'm10'],\n",
       " 'CA4X7': ['m0', 'm6', 'm14', 'm10'],\n",
       " 'CA4X8': ['m0', 'm7', 'm14', 'm10'],\n",
       " 'CA4X9': ['m13', 'm0', 'm1', 'm10'],\n",
       " 'CA2X1': ['m0', 'm1', 'm14', 'm10'],\n",
       " 'CA2X2': ['m0', 'm1', 'm14', 'm10'],\n",
       " 'CA2X3': ['m0', 'm6', 'm14', 'm10'],\n",
       " 'CA2X4': ['m0', 'm7', 'm14', 'm10'],\n",
       " 'CA2X5': ['m0', 'm1', 'm14', 'm10'],\n",
       " 'CA2X6': ['m0', 'm1', 'm14', 'm10'],\n",
       " 'CA2X7': ['m0', 'm6', 'm14', 'm10'],\n",
       " 'CA2X8': ['m0', 'm7', 'm14', 'm10'],\n",
       " 'CA2X9': ['m0', 'm1'],\n",
       " 'CA2X10': ['m0', 'm1'],\n",
       " 'CA2X11': ['m0', 'm6'],\n",
       " 'CA2X12': ['m0', 'm7'],\n",
       " 'CA2X13': ['m0', 'm1', 'm13'],\n",
       " 'CA2X14': ['m0', 'm3'],\n",
       " 'CA2X15': ['m0', 'm3'],\n",
       " 'CA2X16': ['m0', 'm5', 'm5'],\n",
       " 'CA2X17': ['m13', 'm0', 'm16', 'm6', 'm6', 'm12', 'm6', 'm12', 'm10'],\n",
       " 'CA2X18': ['m13', 'm0', 'm16', 'm7', 'm7', 'm12', 'm7', 'm12', 'm10'],\n",
       " 'CA2X19': ['m0', 'm1', 'm13']}"
      ]
     },
     "execution_count": 27,
     "metadata": {},
     "output_type": "execute_result"
    }
   ],
   "source": [
    "catalog_seq"
   ]
  },
  {
   "cell_type": "code",
   "execution_count": 28,
   "metadata": {},
   "outputs": [
    {
     "data": {
      "text/plain": [
       "35"
      ]
     },
     "execution_count": 28,
     "metadata": {},
     "output_type": "execute_result"
    }
   ],
   "source": [
    "len(catalog_seq)"
   ]
  },
  {
   "cell_type": "code",
   "execution_count": 29,
   "metadata": {},
   "outputs": [],
   "source": [
    "# print the key if the value is found in the dict\n",
    "def get_key(val, my_dict):\n",
    "    for key, value in my_dict.items():\n",
    "        if val == value:\n",
    "            return key\n",
    "    return None"
   ]
  },
  {
   "cell_type": "code",
   "execution_count": 30,
   "metadata": {},
   "outputs": [
    {
     "name": "stdout",
     "output_type": "stream",
     "text": [
      "None\n",
      "CA2X14\n"
     ]
    }
   ],
   "source": [
    "print(get_key(['m0','m13'], catalog_seq))\n",
    "print(get_key(['m0','m3'], catalog_seq))"
   ]
  },
  {
   "cell_type": "code",
   "execution_count": 31,
   "metadata": {},
   "outputs": [],
   "source": [
    "# def compare(path, test_write=None):\n",
    "#     \"\"\"compare the sequence of functions in the input sheets with the catalog\"\"\"\n",
    "#     seq_analyse_per_file = all_seq(path)\n",
    "#     catalog_seq = get_catalog_seq()\n",
    "#     for file in seq_analyse_per_file.keys():\n",
    "#         if test_write:\n",
    "#             test_write.write(f'For {file} seq not found in catalog:\\n')\n",
    "#         for cell in seq_analyse_per_file[file]:\n",
    "#             for cell_name in cell.keys():\n",
    "#                 if cell[cell_name] not in catalog_seq.values():\n",
    "#                     if test_write:\n",
    "#                         test_write.write(f'{cell_name}: {cell[cell_name]}\\n')\n",
    "#                     # print(f'{cell_name} in {file} is not in the catalog\\n')\n",
    "#         test_write.write('\\n')\n",
    "        "
   ]
  },
  {
   "cell_type": "code",
   "execution_count": 32,
   "metadata": {},
   "outputs": [],
   "source": [
    "# with open('./catalog_compare.txt', 'w+') as test_write:\n",
    "#     compare('../../input_sheets/1227', test_write=test_write)"
   ]
  },
  {
   "cell_type": "code",
   "execution_count": 33,
   "metadata": {},
   "outputs": [],
   "source": [
    "# with open('./catalog_compare1276.txt', 'w+') as test_write:\n",
    "#     compare('../../input_sheets/1276', test_write=test_write)"
   ]
  },
  {
   "cell_type": "code",
   "execution_count": 34,
   "metadata": {},
   "outputs": [],
   "source": [
    "# def compare2(path, test_write=None):\n",
    "#     \"\"\"compare the sequence of functions in the input sheets with the catalog\"\"\"\n",
    "#     seq_analyse_per_file = all_seq(path)\n",
    "#     catalog_seq = get_catalog_seq()\n",
    "#     for file in seq_analyse_per_file.keys():\n",
    "#         if test_write:\n",
    "#             test_write.write(f'For {file} seq not found in catalog:\\n')\n",
    "\n",
    "#         for cell in seq_analyse_per_file[file]:\n",
    "#             for cell_name in cell.keys():\n",
    "#                 seq_clean = [m for m in cell[cell_name] if m != 'm18']  # remove m18\n",
    "#                 if seq_clean not in catalog_seq.values():\n",
    "#                     if test_write:\n",
    "#                         test_write.write(f'{cell_name}: {cell[cell_name]}\\n')\n",
    "#                     # print(f'{cell_name} in {file} is not in the catalog\\n')\n",
    "#         test_write.write('\\n')\n",
    "        "
   ]
  },
  {
   "cell_type": "code",
   "execution_count": 35,
   "metadata": {},
   "outputs": [],
   "source": [
    "def compare3(path, test_write=None):\n",
    "    \"\"\"compare the sequence of functions in the input sheets with the catalog\"\"\"\n",
    "    seq_analyse = all_seq2(path)\n",
    "    catalog_seq = get_catalog_seq(cc)\n",
    "    for file in seq_analyse.keys():\n",
    "        if test_write:\n",
    "            test_write.write(f'For {file} seq not found in catalog:\\n')\n",
    "\n",
    "        for sheet in seq_analyse[file].keys():\n",
    "            for cell in seq_analyse[file][sheet]:\n",
    "                seq = seq_analyse[file][sheet][cell]\n",
    "                seq_clean = [m for m in seq if m != 'm18']\n",
    "                if seq_clean not in catalog_seq.values():\n",
    "                    print(f'{file} {sheet} {cell}: {seq_clean}')\n",
    "                    # print(f'{cell_name} in {file} is not in the catalog\\n')\n",
    "\n",
    "        "
   ]
  },
  {
   "cell_type": "code",
   "execution_count": null,
   "metadata": {},
   "outputs": [
    {
     "name": "stdout",
     "output_type": "stream",
     "text": [
      "canon_1222_d4t1t5_S22Y_GMB_GV1_2x canon nan: ['m0']\n",
      "canon_1222_d4t1t5_S22Y_GMB_GV1_2x parents 122200c_d4t1t5_s22y_frm_1x1_canon_f_01: ['m0']\n",
      "canon_1222_d4t1t5_S22Y_GMB_GV1_2x parents 122200c_d4t1t5_s22y_frm_1x1_canon_f_02: ['m0']\n",
      "canon_1222_d4t1t5_S22Y_GMB_GV1_2x parents 122200c_d4t1t5_s22y_frm_1x1_canon_f_03: ['m0']\n",
      "canon_1222_d4t1t5_S22Y_GMB_GV1_2x parents 122200c_d4t1t5_s22y_frm_1x1_canon_f_04: ['m0']\n",
      "canon_1222_d4t1t5_S22Y_GMB_GV1_2x parents 122200c_d4t1t5_s22y_frm_1x1_canon_s_05: ['m0']\n",
      "canon_1222_d4t1t5_S22Y_GMB_GV1_2x parents 122200c_d4t1t5_s22y_frm_1x1_canon_f_06: ['m0']\n",
      "canon_1222_d4t1t5_S22Y_GMB_GV1_2x parents 122200c_d4t1t5_s22y_frm_1x1_canon_f_07: ['m0']\n",
      "canon_1222_d4t1t5_S22Y_GMB_GV1_2x parents 122200c_d4t1t5_s22y_frm_1x1_canon_f_08: ['m0']\n",
      "canon_1222_d4t1t5_S22Y_GMB_GV1_2x parents 122200c_d4t1t5_s22y_frm_1x1_canon_s_09: ['m0']\n",
      "canon_1222_d4t1t5_S22Y_GMB_GV1_2x parents 122200c_d4t1t5_s22y_frm_1x1_canon_s_10: ['m0']\n",
      "canon_1222_d4t1t5_S22Y_GMB_GV1_2x dummy_and_beard 122200c_d4t1t5_s22y_dummy_beard: ['m0']\n",
      "canon_1222_d4t1t5_S22Y_GMB_GV1_2x zonal_bkg 122200c_d4t1t5_s22y_gmb_swirl: ['m13']\n",
      "canon_1222_d4t1t5_S22Y_GMB_GV1_2x swirl_xy4 122200c_d4t1t5_s22y_gmb222d: ['m0', 'm1', 'm1', 'm12']\n",
      "canon_1222_d4t1t5_S22Y_GMB_GV1_2x swirl_xy4 122200c_d4t1t5_s22y_gmb223d: ['m0', 'm1', 'm1', 'm12']\n",
      "canon_1222_d4t1t5_S22Y_GMB_GV1_2x swirl_xy4 122200c_d4t1t5_s22y_gmb224d: ['m0', 'm1', 'm1', 'm12']\n",
      "canon_1222_d4t1t5_S22Y_GMB_GV1_2x swirl_cross 122200c_d4t1t5_s22y_gmb355d: ['m13', 'm0', 'm16', 'm6', 'm6', 'm12', 'm10']\n",
      "canon_1222_d4t1t5_S22Y_GMB_GV1_2x swirl_hatch 122200c_d4t1t5_s22y_gmb374d: ['m13', 'm0', 'm16', 'm7', 'm7', 'm12', 'm10']\n",
      "canon_1222_d4t1t5_S22Y_GMB_GV1_2x all_marks 122200c_d4t1t5_s22y_gmb_swirl: ['m13']\n",
      "canon_1222_d4t1t5_S22Y_GMB_GV1_2x all_marks 122200c_d4t1t5_s22y_gmb222d: ['m0', 'm1', 'm1', 'm12']\n",
      "canon_1222_d4t1t5_S22Y_GMB_GV1_2x all_marks 122200c_d4t1t5_s22y_gmb223d: ['m0', 'm1', 'm1', 'm12']\n",
      "canon_1222_d4t1t5_S22Y_GMB_GV1_2x all_marks 122200c_d4t1t5_s22y_gmb224d: ['m0', 'm1', 'm1', 'm12']\n",
      "canon_1222_d4t1t5_S22Y_GMB_GV1_2x all_marks 122200c_d4t1t5_s22y_gmb355d: ['m13', 'm0', 'm16', 'm6', 'm6', 'm12', 'm10']\n",
      "canon_1222_d4t1t5_S22Y_GMB_GV1_2x all_marks 122200c_d4t1t5_s22y_gmb374d: ['m13', 'm0', 'm16', 'm7', 'm7', 'm12', 'm10']\n",
      "canon_1222_d4t1t5_S22Y_GMB_GV1_2x review_parent 122200c_d4t1t5_s22y_gmb_review_parent: ['m0']\n",
      "canon_1222_d4t6t7_ALM_ALP_2x_v2 canon nan: ['m0']\n",
      "canon_1222_d4t6t7_ALM_ALP_2x_v2 parents 122200c_d4t6t7_x22n_frm_1x1_canon_f_01: ['m0']\n",
      "canon_1222_d4t6t7_ALM_ALP_2x_v2 parents 122200c_d4t6t7_x22n_frm_1x1_canon_f_02: ['m0']\n",
      "canon_1222_d4t6t7_ALM_ALP_2x_v2 parents 122200c_d4t6t7_x22n_frm_1x1_canon_f_03: ['m0']\n",
      "canon_1222_d4t6t7_ALM_ALP_2x_v2 parents 122200c_d4t6t7_x22n_frm_1x1_canon_f_04: ['m0']\n",
      "canon_1222_d4t6t7_ALM_ALP_2x_v2 parents 122200c_d4t6t7_x22n_frm_1x1_canon_s_05: ['m0']\n",
      "canon_1222_d4t6t7_ALM_ALP_2x_v2 parents 122200c_d4t6t7_x22n_frm_1x1_canon_f_06: ['m0']\n",
      "canon_1222_d4t6t7_ALM_ALP_2x_v2 parents 122200c_d4t6t7_x22n_frm_1x1_canon_f_07: ['m0']\n",
      "canon_1222_d4t6t7_ALM_ALP_2x_v2 parents 122200c_d4t6t7_x22n_frm_1x1_canon_f_08: ['m0']\n",
      "canon_1222_d4t6t7_ALM_ALP_2x_v2 parents 122200c_d4t6t7_x22n_frm_1x1_canon_s_09: ['m0']\n",
      "canon_1222_d4t6t7_ALM_ALP_2x_v2 parents 122200c_d4t6t7_x22n_frm_1x1_canon_s_10: ['m0']\n",
      "canon_1222_d4t6t7_ALM_ALP_2x_v2 tp0fdr 122200c_d4t6t7_x22n_fdr_tp0_fill: ['m0']\n",
      "canon_1222_d4t6t7_ALM_ALP_2x_v2 bkg_masks 122200c_d4t6t7_x22n_alm_fine: ['m0', 'm16', 'm16', 'm10', 'm16']\n",
      "canon_1222_d4t6t7_ALM_ALP_2x_v2 bkg_masks 122200c_d4t6t7_x22n_alm_search: ['m0', 'm16', 'm16', 'm16', 'm16', 'm16', 'm10', 'm16']\n",
      "canon_1222_d4t6t7_ALM_ALP_2x_v2 bkg_masks 122200c_d4t6t7_x22n_alm_blank: ['m0', 'm16']\n",
      "canon_1222_d4t6t7_ALM_ALP_2x_v2 zonal_bkg 122200c_d4t6t7_x22n_alm_swirl: ['m13']\n",
      "canon_1222_d4t6t7_ALM_ALP_2x_v2 swirl_xy4 122200c_d4t6t7_x22n_alm222d: ['m0', 'm1', 'm1', 'm12']\n",
      "canon_1222_d4t6t7_ALM_ALP_2x_v2 swirl_xy4 122200c_d4t6t7_x22n_alm223d: ['m0', 'm1', 'm1', 'm12']\n",
      "canon_1222_d4t6t7_ALM_ALP_2x_v2 swirl_xy4 122200c_d4t6t7_x22n_alm224d: ['m0', 'm1', 'm1', 'm12']\n",
      "canon_1222_d4t6t7_ALM_ALP_2x_v2 swirl_cross 122200c_d4t6t7_x22n_alm355d: ['m13', 'm0', 'm16', 'm6', 'm6', 'm12']\n",
      "canon_1222_d4t6t7_ALM_ALP_2x_v2 swirl_hatch 122200c_d4t6t7_x22n_alm374d: ['m13', 'm0', 'm16', 'm6', 'm7', 'm12']\n",
      "canon_1222_d4t6t7_ALM_ALP_2x_v2 all_marks 122200c_d4t6t7_x22n_alm_swirl: ['m13']\n",
      "canon_1222_d4t6t7_ALM_ALP_2x_v2 all_marks 122200c_d4t6t7_x22n_alm222d: ['m0', 'm1', 'm1', 'm12']\n",
      "canon_1222_d4t6t7_ALM_ALP_2x_v2 all_marks 122200c_d4t6t7_x22n_alm223d: ['m0', 'm1', 'm1', 'm12']\n",
      "canon_1222_d4t6t7_ALM_ALP_2x_v2 all_marks 122200c_d4t6t7_x22n_alm224d: ['m0', 'm1', 'm1', 'm12']\n",
      "canon_1222_d4t6t7_ALM_ALP_2x_v2 all_marks 122200c_d4t6t7_x22n_alm355d: ['m13', 'm0', 'm16', 'm6', 'm6', 'm12']\n",
      "canon_1222_d4t6t7_ALM_ALP_2x_v2 all_marks 122200c_d4t6t7_x22n_alm374d: ['m13', 'm0', 'm16', 'm6', 'm7', 'm12']\n",
      "canon_1222_d4t6t7_ALM_ALP_2x_v2 review_parent 122200c_d4t6t7_x22n_alm_review_parent: ['m0']\n",
      "canon_1222_d4t8_ALM_ALP_2x canon nan: ['m0']\n",
      "canon_1222_d4t8_ALM_ALP_2x review_parent 122200c_d4t8_x22n_alm_review_parent: ['m0']\n",
      "canon_1222_d4t8_ALM_ALP_2x parents 122200c_d4t8_x22n_frm_1x1_canon_f_01: ['m0']\n",
      "canon_1222_d4t8_ALM_ALP_2x parents 122200c_d4t8_x22n_frm_1x1_canon_f_02: ['m0']\n",
      "canon_1222_d4t8_ALM_ALP_2x parents 122200c_d4t8_x22n_frm_1x1_canon_f_03: ['m0']\n",
      "canon_1222_d4t8_ALM_ALP_2x parents 122200c_d4t8_x22n_frm_1x1_canon_f_04: ['m0']\n",
      "canon_1222_d4t8_ALM_ALP_2x parents 122200c_d4t8_x22n_frm_1x1_canon_s_05: ['m0']\n",
      "canon_1222_d4t8_ALM_ALP_2x parents 122200c_d4t8_x22n_frm_1x1_canon_f_06: ['m0']\n",
      "canon_1222_d4t8_ALM_ALP_2x parents 122200c_d4t8_x22n_frm_1x1_canon_f_07: ['m0']\n",
      "canon_1222_d4t8_ALM_ALP_2x parents 122200c_d4t8_x22n_frm_1x1_canon_f_08: ['m0']\n",
      "canon_1222_d4t8_ALM_ALP_2x parents 122200c_d4t8_x22n_frm_1x1_canon_s_09: ['m0']\n",
      "canon_1222_d4t8_ALM_ALP_2x parents 122200c_d4t8_x22n_frm_1x1_canon_s_10: ['m0']\n",
      "canon_1222_d4t8_ALM_ALP_2x tp0fdr 122200c_d4t6t7_x22n_fdr_tp0_fill: ['m0']\n",
      "canon_1222_d4t8_ALM_ALP_2x bkg_masks 122200c_d4t6t7_x22n_alm_fine: ['m0', 'm16', 'm16', 'm10', 'm16']\n",
      "canon_1222_d4t8_ALM_ALP_2x bkg_masks 122200c_d4t6t7_x22n_alm_search: ['m0', 'm16', 'm16', 'm16', 'm16', 'm16', 'm10', 'm16']\n",
      "canon_1222_d4t8_ALM_ALP_2x bkg_masks 122200c_d4t6t7_x22n_alm_blank: ['m0', 'm16']\n",
      "canon_1222_d4t8_ALM_ALP_2x zonal_bkg 122200c_d4t6t7_x22n_alm_swirl: ['m13']\n",
      "canon_1222_d4t8_ALM_ALP_2x swirl_xy4 122200c_d4t6t7_x22n_alm222d: ['m0', 'm1', 'm1', 'm12']\n",
      "canon_1222_d4t8_ALM_ALP_2x swirl_xy4 122200c_d4t6t7_x22n_alm223d: ['m0', 'm1', 'm1', 'm12']\n",
      "canon_1222_d4t8_ALM_ALP_2x swirl_xy4 122200c_d4t6t7_x22n_alm224d: ['m0', 'm1', 'm1', 'm12']\n",
      "canon_1222_d4t8_ALM_ALP_2x swirl_cross 122200c_d4t6t7_x22n_alm355d: ['m13', 'm0', 'm16', 'm6', 'm6', 'm12']\n",
      "canon_1222_d4t8_ALM_ALP_2x swirl_hatch 122200c_d4t6t7_x22n_alm374d: ['m13', 'm0', 'm16', 'm6', 'm7', 'm12']\n",
      "canon_1222_d4t8_ALM_ALP_2x all_marks 122200c_d4t6t7_x22n_alm_swirl: ['m13']\n",
      "canon_1222_d4t8_ALM_ALP_2x all_marks 122200c_d4t6t7_x22n_alm222d: ['m0', 'm1', 'm1', 'm12']\n",
      "canon_1222_d4t8_ALM_ALP_2x all_marks 122200c_d4t6t7_x22n_alm223d: ['m0', 'm1', 'm1', 'm12']\n",
      "canon_1222_d4t8_ALM_ALP_2x all_marks 122200c_d4t6t7_x22n_alm224d: ['m0', 'm1', 'm1', 'm12']\n",
      "canon_1222_d4t8_ALM_ALP_2x all_marks 122200c_d4t6t7_x22n_alm355d: ['m13', 'm0', 'm16', 'm6', 'm6', 'm12']\n",
      "canon_1222_d4t8_ALM_ALP_2x all_marks 122200c_d4t6t7_x22n_alm374d: ['m13', 'm0', 'm16', 'm6', 'm7', 'm12']\n"
     ]
    }
   ],
   "source": [
    "# compare3('../../input_sheets/1222')\n",
    "    "
   ]
  },
  {
   "cell_type": "code",
   "execution_count": 37,
   "metadata": {},
   "outputs": [],
   "source": [
    "# with open('./catalog_compare_1222_c.txt', 'w+') as test_write:\n",
    "#     compare2('../../input_sheets/1222', test_write=test_write)"
   ]
  },
  {
   "cell_type": "code",
   "execution_count": 38,
   "metadata": {},
   "outputs": [],
   "source": [
    "# with open('./catalog_compare_1227_c.txt', 'w+') as test_write:\n",
    "#     compare2('../../input_sheets/1227', test_write=test_write)"
   ]
  },
  {
   "cell_type": "code",
   "execution_count": 39,
   "metadata": {},
   "outputs": [],
   "source": [
    "def match_cats(catalog_seq, seq):\n",
    "    # given the sequence of functions in the input sheets, \n",
    "    # find the matching sequence in the catalog_seq and retrun the key\n",
    "    r = []\n",
    "    reduced_seq = [m for m in seq if m != 'm18']\n",
    "    for k in catalog_seq.keys():\n",
    "        if catalog_seq[k] == reduced_seq:\n",
    "            r.append(k)\n",
    "    return r"
   ]
  },
  {
   "cell_type": "code",
   "execution_count": 137,
   "metadata": {},
   "outputs": [],
   "source": [
    "def seq_cata(in_path, out_fname=None):\n",
    "    \"\"\"\n",
    "        Compare the sequence of functions in the input sheets with the catalog.\n",
    "        Record the function sequences and catalog matches in a csv file.\n",
    "    \"\"\"\n",
    "    # get all the func sequences in the input sheets\n",
    "    # of form {cell_name: [mfunc1, mfunc2, ...], }\n",
    "    seq_analyse = all_seq2(in_path)\n",
    "    catalog_seq = get_catalog_seq(cc)  # catalog to compare with\n",
    "    df = pd.DataFrame(columns=['file', 'sheet', 'cell', 'seq', 'catalog'])\n",
    "    for file in seq_analyse.keys():\n",
    "        for sheet in seq_analyse[file].keys():\n",
    "            for cell in seq_analyse[file][sheet]:\n",
    "                seq = seq_analyse[file][sheet][cell]\n",
    "                seq_clean = [m for m in seq if m != 'm18']\n",
    "                # print(f'{file} {sheet} {cell}: {seq_clean}')\n",
    "    #         for seq in cell:\n",
    "                newline = {'file': file, 'sheet': sheet, 'cell': cell, 'seq': str(seq), 'catalog': str(match_cats(catalog_seq, seq_clean))}\n",
    "                df.loc[len(df)] = newline\n",
    "    #             # print(f\"{file}, {cell_name}: {seq}\")\n",
    "    if out_fname:\n",
    "        df.to_csv(out_fname, index=False)\n",
    "    return df\n",
    "    "
   ]
  },
  {
   "cell_type": "code",
   "execution_count": 41,
   "metadata": {},
   "outputs": [],
   "source": [
    "seq_cata('../../input_sheets/1227', 'tmp.csv')"
   ]
  },
  {
   "cell_type": "code",
   "execution_count": 42,
   "metadata": {},
   "outputs": [],
   "source": [
    "# cata_refine('tmp.csv')"
   ]
  },
  {
   "cell_type": "markdown",
   "metadata": {},
   "source": [
    "## input_to_df"
   ]
  },
  {
   "cell_type": "code",
   "execution_count": 148,
   "metadata": {},
   "outputs": [],
   "source": [
    "def get_cell_info2(file):\n",
    "    \"\"\" get the cell names from the StartLayoutAssembler or zonal_background \"\"\"\n",
    "    # df_list = []\n",
    "    od_df = OrderedDict()\n",
    "    name_list = []\n",
    "    for sname in file.keys():\n",
    "        cell_names = []\n",
    "        new_cell_idx = []\n",
    "        df = pd.DataFrame(file[sname])\n",
    "        # check if the StartLayoutAssembler is in any place in the df\n",
    "        if 'StartLayoutAssembler' not in df.values and 'zonal_background' not in df.values:\n",
    "            continue\n",
    "        \n",
    "        # get cell names; i is the row index\n",
    "        for i in range(df.shape[0]):\n",
    "            # print(f'{i}: {df.iloc[i,1]}')\n",
    "            if df.iloc[i,1] == 'StartLayoutAssembler' or df.iloc[i,1] == 'zonal_background':\n",
    "                c_name = df.iloc[i]['CellName.string']\n",
    "\n",
    "                if c_name not in cell_names:\n",
    "                    # cell_names.append((c_name,i))\n",
    "                    cell_names.append(c_name)\n",
    "                    new_cell_idx.append(i)\n",
    "\n",
    "        # print(f'{fname}: {cell_names}')\n",
    "        # slice the cells based on cellnames\n",
    "        df_cells = {} \n",
    "        for i in range(len(cell_names)-1):\n",
    "            df_cells[cell_names[i]] = df.iloc[new_cell_idx[i]:new_cell_idx[i+1],:].dropna(how='all')\n",
    "        #     df_cells[cell_names[i][0]] = df.iloc[cell_names[i][1]:cell_names[i+1][1],:].dropna(how='all')\n",
    "        # df_cells[cell_names[-1][0]] = df.iloc[cell_names[-1][1]:,:].dropna(how='all')\n",
    "        df_cells[cell_names[-1]] = df.iloc[new_cell_idx[-1]:,:].dropna(how='all')\n",
    "        \n",
    "        # df_list.append(df_cells)\n",
    "        od_df[sname] = df_cells\n",
    "        name_list.append(cell_names)\n",
    "    return od_df, name_list\n",
    "\n",
    "\n",
    "def get_df_info(technology,file_name, sheet_name, cell_name):\n",
    "    \"\"\" get the cell information from the file \"\"\"\n",
    "    in_file_path = f'../../input_sheets/{technology}'\n",
    "    fnames, all_files = load_data(in_file_path)\n",
    "    od_df, name_lst = get_cell_info2(all_files[file_name])\n",
    "    return od_df[sheet_name][cell_name]"
   ]
  },
  {
   "cell_type": "code",
   "execution_count": 149,
   "metadata": {},
   "outputs": [
    {
     "data": {
      "text/html": [
       "<div>\n",
       "<style scoped>\n",
       "    .dataframe tbody tr th:only-of-type {\n",
       "        vertical-align: middle;\n",
       "    }\n",
       "\n",
       "    .dataframe tbody tr th {\n",
       "        vertical-align: top;\n",
       "    }\n",
       "\n",
       "    .dataframe thead th {\n",
       "        text-align: right;\n",
       "    }\n",
       "</style>\n",
       "<table border=\"1\" class=\"dataframe\">\n",
       "  <thead>\n",
       "    <tr style=\"text-align: right;\">\n",
       "      <th></th>\n",
       "      <th>EXECUTE</th>\n",
       "      <th>SampleStartLayoutAssembler</th>\n",
       "      <th>Library.string</th>\n",
       "      <th>CellName.string</th>\n",
       "      <th>OpenCellViewMode.string</th>\n",
       "      <th>CellSizeX.float</th>\n",
       "      <th>CellSizeY.float</th>\n",
       "      <th>CenterX.float</th>\n",
       "      <th>CenterY.float</th>\n",
       "      <th>Category.string</th>\n",
       "    </tr>\n",
       "  </thead>\n",
       "  <tbody>\n",
       "    <tr>\n",
       "      <th>16</th>\n",
       "      <td>y</td>\n",
       "      <td>StartLayoutAssembler</td>\n",
       "      <td>canon27d3t4lib1_p27_lay</td>\n",
       "      <td>122700c_d3t4_jm2_dummy_3_1</td>\n",
       "      <td>w</td>\n",
       "      <td>59.74</td>\n",
       "      <td>61.72</td>\n",
       "      <td>0</td>\n",
       "      <td>0</td>\n",
       "      <td>NaN</td>\n",
       "    </tr>\n",
       "    <tr>\n",
       "      <th>17</th>\n",
       "      <td>y</td>\n",
       "      <td>diagonal_gratings</td>\n",
       "      <td>cv</td>\n",
       "      <td>JM2_mask.frameDrawing</td>\n",
       "      <td>135</td>\n",
       "      <td>2.004</td>\n",
       "      <td>3.006</td>\n",
       "      <td>2.2</td>\n",
       "      <td>0</td>\n",
       "      <td>NaN</td>\n",
       "    </tr>\n",
       "  </tbody>\n",
       "</table>\n",
       "</div>"
      ],
      "text/plain": [
       "   EXECUTE SampleStartLayoutAssembler           Library.string  \\\n",
       "16       y       StartLayoutAssembler  canon27d3t4lib1_p27_lay   \n",
       "17       y          diagonal_gratings                       cv   \n",
       "\n",
       "               CellName.string OpenCellViewMode.string CellSizeX.float  \\\n",
       "16  122700c_d3t4_jm2_dummy_3_1                       w           59.74   \n",
       "17       JM2_mask.frameDrawing                     135           2.004   \n",
       "\n",
       "   CellSizeY.float CenterX.float CenterY.float Category.string  \n",
       "16           61.72             0             0             NaN  \n",
       "17           3.006           2.2             0             NaN  "
      ]
     },
     "execution_count": 149,
     "metadata": {},
     "output_type": "execute_result"
    }
   ],
   "source": [
    "get_df_info(1227,'canon_1227_d3t4_jm2_siv_2x', 'all_marks', '122700c_d3t4_jm2_dummy_3_1')"
   ]
  },
  {
   "cell_type": "markdown",
   "metadata": {},
   "source": [
    "Lift the degeneracy of the catalog"
   ]
  },
  {
   "cell_type": "code",
   "execution_count": 158,
   "metadata": {},
   "outputs": [],
   "source": [
    "def degen_lift(df_orig, degen_cata):\n",
    "    degen_cata = ast.literal_eval(degen_cata)\n",
    "    if degen_cata == ['CAXXD3', 'CAXXD4']:\n",
    "        # print(df_orig)\n",
    "        row_label = 'diagonal_gratings'\n",
    "        col_label = 'OpenCellViewMode.string'\n",
    "        # get the row containing the diagonal_gratings\n",
    "        df_local = df_orig[df_orig['SampleStartLayoutAssembler'] == row_label]\n",
    "        if df_local[col_label].values[0] == 45:\n",
    "            degen_cata = ['CAXXD4']\n",
    "        else:\n",
    "            degen_cata = ['CAXXD3']\n",
    "\n",
    "    if degen_cata == ['CA2X9', 'CA2X10']:\n",
    "        row_label = 'xy_canon'\n",
    "        col_label1 = 'CellSizeX.float'\n",
    "        col_label2 = 'CellSizeY.float'\n",
    "        df_local = df_orig[df_orig['SampleStartLayoutAssembler'] == row_label]\n",
    "        if df_local[col_label1].values[0] < df_local[col_label2].values[0]:\n",
    "            degen_cata = ['CA2X9']\n",
    "        else:\n",
    "            degen_cata = ['CA2X10']\n",
    "\n",
    "    if degen_cata == ['CA2X14', 'CA2X15']:\n",
    "        row_label = 'fa_canon'\n",
    "        col_label = 'CenterY.float'\n",
    "        df_local = df_orig[df_orig['SampleStartLayoutAssembler'] == row_label]\n",
    "        if df_local[col_label].values[0] == 'v':\n",
    "            degen_cata = ['CA2X14']\n",
    "        elif df_local[col_label].values[0] == 'h':\n",
    "            degen_cata = ['CA2X15']\n",
    "\n",
    "    if degen_cata == ['CAXXD5', 'CAXXD6']:\n",
    "        row_label = 'create_gratings'\n",
    "        col_label = 'CenterX.float'\n",
    "        df_local = df_orig[df_orig['SampleStartLayoutAssembler'] == row_label]\n",
    "        if df_local[col_label].values[0] == 'h':\n",
    "            degen_cata = ['CAXXD5']\n",
    "        elif df_local[col_label].values[0] == 'v':\n",
    "            degen_cata = ['CAXXD6']\n",
    "\n",
    "    return degen_cata"
   ]
  },
  {
   "cell_type": "code",
   "execution_count": 151,
   "metadata": {},
   "outputs": [],
   "source": [
    "def cata_refine(seq_cata_file=None, df_in=None, technology=None):\n",
    "    if seq_cata_file:\n",
    "        with open(seq_cata_file, 'r') as f:\n",
    "            df = pd.read_csv(f)\n",
    "    else:\n",
    "        df = df_in\n",
    "    \n",
    "    for idx, row in df.iterrows():\n",
    "        catalogs = ast.literal_eval(row['catalog'])  # convert string to list\n",
    "        if len(catalogs) > 1:\n",
    "            # print(f'{row[\"file\"]}, {row[\"cell\"]}: {row[\"seq\"]}, {row[\"catalog\"]}')\n",
    "            # inplace update the catalog\n",
    "            df.at[idx, 'catalog'] = degen_lift(get_df_info(technology, row['file'], row['sheet'], row['cell']), row[\"catalog\"])\n",
    "\n",
    "    return df\n"
   ]
  },
  {
   "cell_type": "code",
   "execution_count": 152,
   "metadata": {},
   "outputs": [],
   "source": [
    "# df_degen_lifted = cata_refine(seq_cata_file='tmp.csv', technology=1227)\n",
    "# df_degen_lifted.to_csv('tmp_refined.csv', index=False)"
   ]
  },
  {
   "cell_type": "code",
   "execution_count": 153,
   "metadata": {},
   "outputs": [],
   "source": [
    "# df_test = pd.read_csv('tmp.csv')\n",
    "# df_test.head()"
   ]
  },
  {
   "cell_type": "code",
   "execution_count": 154,
   "metadata": {},
   "outputs": [],
   "source": [
    "# df_test.iloc[2]['catalog']"
   ]
  },
  {
   "cell_type": "code",
   "execution_count": 159,
   "metadata": {},
   "outputs": [],
   "source": [
    "def main():\n",
    "    if not os.path.exists('refined_catalogs'):\n",
    "        os.mkdir('refined_catalogs')\n",
    "    technologies = ['1222', '1227', '1276', '1278', '1280', '1282']\n",
    "    for t in technologies:\n",
    "        path = f'../../input_sheets/{t}'\n",
    "        df = seq_cata(path)\n",
    "        df = cata_refine(df_in=df, technology=t)\n",
    "        df.to_csv(f'refined_catalogs/{t}_refined.csv', index=False)"
   ]
  },
  {
   "cell_type": "code",
   "execution_count": 160,
   "metadata": {},
   "outputs": [],
   "source": [
    "main()"
   ]
  },
  {
   "cell_type": "code",
   "execution_count": null,
   "metadata": {},
   "outputs": [],
   "source": []
  }
 ],
 "metadata": {
  "kernelspec": {
   "display_name": "Python 3",
   "language": "python",
   "name": "python3"
  },
  "language_info": {
   "codemirror_mode": {
    "name": "ipython",
    "version": 3
   },
   "file_extension": ".py",
   "mimetype": "text/x-python",
   "name": "python",
   "nbconvert_exporter": "python",
   "pygments_lexer": "ipython3",
   "version": "3.13.1"
  }
 },
 "nbformat": 4,
 "nbformat_minor": 2
}
