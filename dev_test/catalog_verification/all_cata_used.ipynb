{
 "cells": [
  {
   "cell_type": "code",
   "execution_count": 63,
   "metadata": {},
   "outputs": [],
   "source": [
    "# import csv files in dev_test\\catalog_verification\\refined_catalogs as dataframes\n",
    "\n",
    "import pandas as pd\n",
    "import os\n",
    "from mark_catalogs import CANON_CATALOG as cc\n",
    "\n",
    "\n",
    "# get the current working directory\n",
    "cwd = os.getcwd()\n",
    "\n",
    "# get the path to the refined_catalogs directory\n",
    "refined_catalogs_path = '../../dev_test/catalog_verification/refined_catalogs'\n",
    "\n",
    "def load_catalog_analysis(refined_catalogs_path):\n",
    "    # get the list of files in the refined_catalogs directory\n",
    "    files = os.listdir(refined_catalogs_path)\n",
    "\n",
    "    # create a dictionary to store the dataframes\n",
    "    dfs = {}\n",
    "\n",
    "    # iterate over the files in the refined_catalogs directory\n",
    "    for file in files:\n",
    "        # get the file path\n",
    "        file_path = os.path.join(refined_catalogs_path, file)\n",
    "        \n",
    "        # read the csv file into a dataframe\n",
    "        df = pd.read_csv(file_path)\n",
    "        \n",
    "        # store the dataframe in the dictionary\n",
    "        dfs[file] = df\n",
    "    \n",
    "    return dfs"
   ]
  },
  {
   "cell_type": "code",
   "execution_count": 64,
   "metadata": {},
   "outputs": [],
   "source": [
    "def get_catalog_seq(cc):\n",
    "    catalog_seq = {}\n",
    "    for k in cc.keys():\n",
    "        catalog_seq[k] = list(cc[k]['CAD_info']['function_sequence'])\n",
    "    return catalog_seq\n",
    "catalog_seq = get_catalog_seq(cc)"
   ]
  },
  {
   "cell_type": "code",
   "execution_count": 65,
   "metadata": {},
   "outputs": [],
   "source": [
    "all_cata = set(catalog_seq.keys())"
   ]
  },
  {
   "cell_type": "code",
   "execution_count": 93,
   "metadata": {},
   "outputs": [
    {
     "name": "stdout",
     "output_type": "stream",
     "text": [
      "35\n"
     ]
    }
   ],
   "source": [
    "print(len(all_cata))"
   ]
  },
  {
   "cell_type": "code",
   "execution_count": 66,
   "metadata": {},
   "outputs": [],
   "source": [
    "dfs = load_catalog_analysis(refined_catalogs_path)"
   ]
  },
  {
   "cell_type": "code",
   "execution_count": 98,
   "metadata": {},
   "outputs": [],
   "source": [
    "def unused_catalogs(dfs):\n",
    "    unused_catalogs = {}\n",
    "    used_catalogs_lst = []\n",
    "    used_catalogs = {}\n",
    "    for k in dfs.keys():\n",
    "        # find all the used catalogs in each tech (k)\n",
    "        lst = dfs[k]['catalog'].unique()\n",
    "        for item in lst:\n",
    "            item = item.replace('[', '').replace(']', '').replace('\\'', '')\n",
    "            used_catalogs_lst.append(item)\n",
    "        used_catalogs[k] = set(used_catalogs_lst)\n",
    "        print(used_catalogs[k])\n",
    "        # find the unused catalogs\n",
    "        unused_catalogs[k] = all_cata - used_catalogs[k]\n",
    "    return unused_catalogs"
   ]
  },
  {
   "cell_type": "code",
   "execution_count": 100,
   "metadata": {},
   "outputs": [
    {
     "name": "stdout",
     "output_type": "stream",
     "text": [
      "{'', 'CAXXD1', 'CA2X12', 'CAXXID', 'CAXXD2', 'CAXXD4', 'CA2X10', 'CAXXD3', 'CA2X9'}\n",
      "{'', 'CAXXD1', 'CA2X12', 'CAXXID', 'CA2X14', 'CA2X16', 'CAXXD2', 'CAXXD4', 'CA2X15', 'CA2X10', 'CAXXD3', 'CA2X11', 'CA2X9'}\n",
      "{'', 'CAXXD1', 'CA2X12', 'CAXXID', 'CA2X14', 'CA2X16', 'CAXXD2', 'CA2X17', 'CA2X18', 'CAXXD4', 'CA2X15', 'CA2X10', 'CA4X9', 'CAXXD3', 'CA2X11', 'CA2X9'}\n",
      "{'', 'CAXXD1', 'CA2X12', 'CAXXID', 'CA2X14', 'CA2X16', 'CAXXD2', 'CA2X17', 'CA2X18', 'CAXXD4', 'CA2X15', 'CA2X10', 'CA4X9', 'CAXXD3', 'CA2X11', 'CA2X9'}\n",
      "{'', 'CAXXD1', 'CA2X12', 'CAXXID', 'CA2X14', 'CAXXD6', 'CA2X16', 'CAXXD2', 'CA2X17', 'CA2X18', 'CAXXD4', 'CA2X15', 'CAXXD5', 'CA2X10', 'CA4X9', 'CAXXD3', 'CA2X11', 'CA2X9'}\n",
      "{'', 'CAXXD1', 'CA2X12', 'CAXXID', 'CA2X14', 'CAXXD6', 'CA2X16', 'CAXXD2', 'CA2X17', 'CA2X18', 'CAXXD4', 'CA2X15', 'CAXXD5', 'CA2X10', 'CA4X9', 'CAXXD3', 'CA2X11', 'CA2X9'}\n",
      "{'1222_refined.csv': {'CAXXD6', 'CA2X14', 'CA2X15', 'CA4X9', 'CA2X7', 'CA4X3', 'CA2X5', 'CA2X16', 'CA2X18', 'CA2X2', 'CA2X19', 'CA4X7', 'CA2X13', 'CA2X6', 'CA4X1', 'CA2X4', 'CA4X2', 'CA2X11', 'CA2X17', 'CA4X4', 'CA2X3', 'CA2X1', 'CA2X8', 'CAXXD5', 'CA4X5', 'CA4X6', 'CA4X8'}, '1227_refined.csv': {'CAXXD6', 'CA4X9', 'CA2X7', 'CA4X3', 'CA2X5', 'CA2X18', 'CA2X2', 'CA2X19', 'CA4X7', 'CA2X13', 'CA2X6', 'CA4X1', 'CA2X4', 'CA4X2', 'CA2X17', 'CA4X4', 'CA2X3', 'CA2X1', 'CA2X8', 'CAXXD5', 'CA4X5', 'CA4X6', 'CA4X8'}, '1276_refined.csv': {'CAXXD6', 'CA2X7', 'CA4X3', 'CA2X5', 'CA2X2', 'CA2X19', 'CA4X7', 'CA2X13', 'CA2X6', 'CA4X1', 'CA2X4', 'CA4X2', 'CA4X4', 'CA2X3', 'CA2X1', 'CA2X8', 'CAXXD5', 'CA4X5', 'CA4X6', 'CA4X8'}, '1278_refined.csv': {'CAXXD6', 'CA2X7', 'CA4X3', 'CA2X5', 'CA2X2', 'CA2X19', 'CA4X7', 'CA2X13', 'CA2X6', 'CA4X1', 'CA2X4', 'CA4X2', 'CA4X4', 'CA2X3', 'CA2X1', 'CA2X8', 'CAXXD5', 'CA4X5', 'CA4X6', 'CA4X8'}, '1280_refined.csv': {'CA2X5', 'CA2X4', 'CA4X4', 'CA2X3', 'CA4X6', 'CA2X1', 'CA2X2', 'CA4X2', 'CA2X19', 'CA2X8', 'CA4X7', 'CA2X13', 'CA2X7', 'CA2X6', 'CA4X5', 'CA4X1', 'CA4X8', 'CA4X3'}, '1282_refined.csv': {'CA2X5', 'CA2X4', 'CA4X4', 'CA2X3', 'CA4X6', 'CA2X1', 'CA2X2', 'CA4X2', 'CA2X19', 'CA2X8', 'CA4X7', 'CA2X13', 'CA2X7', 'CA2X6', 'CA4X5', 'CA4X1', 'CA4X8', 'CA4X3'}}\n"
     ]
    }
   ],
   "source": [
    "print(unused_catalogs(dfs))"
   ]
  },
  {
   "cell_type": "code",
   "execution_count": null,
   "metadata": {},
   "outputs": [],
   "source": [
    "# get the unused catalogs in all the refined catalogs\n",
    "all_used_cata = set()\n",
    "for k in dfs.keys():\n",
    "    lst = dfs[k]['catalog'].unique()\n",
    "    for item in lst:\n",
    "        item = item.replace('[', '').replace(']', '').replace('\\'', '')\n",
    "        all_used_cata.add(item)\n"
   ]
  },
  {
   "cell_type": "code",
   "execution_count": 84,
   "metadata": {},
   "outputs": [
    {
     "data": {
      "text/plain": [
       "{'',\n",
       " 'CA2X10',\n",
       " 'CA2X11',\n",
       " 'CA2X12',\n",
       " 'CA2X14',\n",
       " 'CA2X15',\n",
       " 'CA2X16',\n",
       " 'CA2X17',\n",
       " 'CA2X18',\n",
       " 'CA2X9',\n",
       " 'CA4X9',\n",
       " 'CAXXD1',\n",
       " 'CAXXD2',\n",
       " 'CAXXD3',\n",
       " 'CAXXD4',\n",
       " 'CAXXD5',\n",
       " 'CAXXD6',\n",
       " 'CAXXID'}"
      ]
     },
     "execution_count": 84,
     "metadata": {},
     "output_type": "execute_result"
    }
   ],
   "source": [
    "all_used_cata"
   ]
  },
  {
   "cell_type": "code",
   "execution_count": 89,
   "metadata": {},
   "outputs": [
    {
     "data": {
      "text/plain": [
       "{'CA2X1',\n",
       " 'CA2X13',\n",
       " 'CA2X19',\n",
       " 'CA2X2',\n",
       " 'CA2X3',\n",
       " 'CA2X4',\n",
       " 'CA2X5',\n",
       " 'CA2X6',\n",
       " 'CA2X7',\n",
       " 'CA2X8',\n",
       " 'CA4X1',\n",
       " 'CA4X2',\n",
       " 'CA4X3',\n",
       " 'CA4X4',\n",
       " 'CA4X5',\n",
       " 'CA4X6',\n",
       " 'CA4X7',\n",
       " 'CA4X8'}"
      ]
     },
     "execution_count": 89,
     "metadata": {},
     "output_type": "execute_result"
    }
   ],
   "source": [
    "all_cata - all_used_cata"
   ]
  },
  {
   "cell_type": "code",
   "execution_count": null,
   "metadata": {},
   "outputs": [],
   "source": []
  }
 ],
 "metadata": {
  "kernelspec": {
   "display_name": "venv",
   "language": "python",
   "name": "python3"
  },
  "language_info": {
   "codemirror_mode": {
    "name": "ipython",
    "version": 3
   },
   "file_extension": ".py",
   "mimetype": "text/x-python",
   "name": "python",
   "nbconvert_exporter": "python",
   "pygments_lexer": "ipython3",
   "version": "3.13.1"
  }
 },
 "nbformat": 4,
 "nbformat_minor": 2
}
