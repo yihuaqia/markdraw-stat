{
 "cells": [
  {
   "cell_type": "code",
   "execution_count": 1,
   "metadata": {},
   "outputs": [
    {
     "name": "stdout",
     "output_type": "stream",
     "text": [
      "{'name': 'John', 'age': 30, 'city': 'New York'}\n",
      "{\"name\": \"John\", \"age\": 30, \"city\": \"New York\"}\n"
     ]
    }
   ],
   "source": [
    "import json\n",
    "\n",
    "# Convert from JSON to dictionary\n",
    "json_string = '{\"name\": \"John\", \"age\": 30, \"city\": \"New York\"}'\n",
    "python_dict = json.loads(json_string)\n",
    "print(python_dict) \n",
    "\n",
    "# Convert from dictionary to JSON\n",
    "python_dict = {\"name\": \"John\", \"age\": 30, \"city\": \"New York\"}\n",
    "json_string = json.dumps(python_dict)\n",
    "print(json_string) "
   ]
  },
  {
   "cell_type": "code",
   "execution_count": 2,
   "metadata": {},
   "outputs": [
    {
     "name": "stdout",
     "output_type": "stream",
     "text": [
      "{\"name\": \"John\", \"age\": 30, \"city\": \"New York\", \"children\": [{\"name\": \"Ann\", \"age\": 5}, {\"name\": \"Billy\", \"age\": 7}]}\n"
     ]
    }
   ],
   "source": [
    "# try for a nested dictionary, meaning some values are also a dictionary\n",
    "python_dict = {\n",
    "    \"name\": \"John\",\n",
    "    \"age\": 30,\n",
    "    \"city\": \"New York\",\n",
    "    \"children\": [\n",
    "        {\"name\": \"Ann\", \"age\": 5},\n",
    "        {\"name\": \"Billy\", \"age\": 7}\n",
    "    ]\n",
    "}\n",
    "json_string = json.dumps(python_dict)\n",
    "print(json_string)"
   ]
  },
  {
   "cell_type": "code",
   "execution_count": 3,
   "metadata": {},
   "outputs": [],
   "source": [
    "# save jason string to a file\n",
    "with open('data.json', 'w') as f:\n",
    "    json.dump(python_dict, f)"
   ]
  },
  {
   "cell_type": "code",
   "execution_count": 4,
   "metadata": {},
   "outputs": [
    {
     "name": "stdout",
     "output_type": "stream",
     "text": [
      "name John\n",
      "age 30\n",
      "city New York\n",
      "children [{'name': 'Ann', 'age': 5}, {'name': 'Billy', 'age': 7}]\n"
     ]
    }
   ],
   "source": [
    "for k in python_dict:\n",
    "    print(k, python_dict[k])"
   ]
  },
  {
   "cell_type": "code",
   "execution_count": 8,
   "metadata": {},
   "outputs": [],
   "source": [
    "# This is the dictionary representation of the above data\n",
    "data = {\n",
    "    'P1222':\n",
    "        {'xy_canon':\n",
    "            {'alm.drawing':\n",
    "                {\n",
    "                'layer': 'ALM', # THis is what we can infer from the lpp being used\n",
    "                'cell_size': (60, 60), # This info comes from StartLayoutAssembler\n",
    "                'args_1': {'cv.cvid': 'cv',\n",
    "                            'lpp.lpp': 'alm.drawing',\n",
    "                            'xy_cds.points': (1.6, 1.6),\n",
    "                            'xy_lengths.points': (25, 25),\n",
    "                            'xy_distance.points':(28.4, 28.4),\n",
    "                            'stepping.list':((5)),\n",
    "                            'shift.float': None},\n",
    "                'args_2': {'cv.cvid': 'cv',\n",
    "                            'lpp.lpp': 'alm.drawing',\n",
    "                            'xy_cds.points': (1.8, 1.8),\n",
    "                            'xy_lengths.points': (25, 25),\n",
    "                            'xy_distance.points':(28.4, 28.4),\n",
    "                            'stepping.list':((5)),\n",
    "                            'shift.float': None},\n",
    "                },\n",
    "            },\n",
    "        },\n",
    "}\n"
   ]
  },
  {
   "cell_type": "code",
   "execution_count": 9,
   "metadata": {},
   "outputs": [
    {
     "data": {
      "text/plain": [
       "{'P1222': {'xy_canon': {'alm.drawing': {'layer': 'ALM',\n",
       "    'cell_size': (60, 60),\n",
       "    'args_1': {'cv.cvid': 'cv',\n",
       "     'lpp.lpp': 'alm.drawing',\n",
       "     'xy_cds.points': (1.6, 1.6),\n",
       "     'xy_lengths.points': (25, 25),\n",
       "     'xy_distance.points': (28.4, 28.4),\n",
       "     'stepping.list': 5,\n",
       "     'shift.float': None},\n",
       "    'args_2': {'cv.cvid': 'cv',\n",
       "     'lpp.lpp': 'alm.drawing',\n",
       "     'xy_cds.points': (1.8, 1.8),\n",
       "     'xy_lengths.points': (25, 25),\n",
       "     'xy_distance.points': (28.4, 28.4),\n",
       "     'stepping.list': 5,\n",
       "     'shift.float': None}}}}}"
      ]
     },
     "execution_count": 9,
     "metadata": {},
     "output_type": "execute_result"
    }
   ],
   "source": [
    "data"
   ]
  },
  {
   "cell_type": "code",
   "execution_count": null,
   "metadata": {},
   "outputs": [],
   "source": []
  }
 ],
 "metadata": {
  "kernelspec": {
   "display_name": "venv",
   "language": "python",
   "name": "python3"
  },
  "language_info": {
   "codemirror_mode": {
    "name": "ipython",
    "version": 3
   },
   "file_extension": ".py",
   "mimetype": "text/x-python",
   "name": "python",
   "nbconvert_exporter": "python",
   "pygments_lexer": "ipython3",
   "version": "3.13.1"
  }
 },
 "nbformat": 4,
 "nbformat_minor": 2
}
