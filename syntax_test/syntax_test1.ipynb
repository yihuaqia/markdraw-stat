{
 "cells": [
  {
   "cell_type": "code",
   "execution_count": 1,
   "metadata": {},
   "outputs": [
    {
     "name": "stdout",
     "output_type": "stream",
     "text": [
      "{'name': 'John', 'age': 30, 'city': 'New York'}\n",
      "{\"name\": \"John\", \"age\": 30, \"city\": \"New York\"}\n"
     ]
    }
   ],
   "source": [
    "import json\n",
    "\n",
    "# Convert from JSON to dictionary\n",
    "json_string = '{\"name\": \"John\", \"age\": 30, \"city\": \"New York\"}'\n",
    "python_dict = json.loads(json_string)\n",
    "print(python_dict) \n",
    "\n",
    "# Convert from dictionary to JSON\n",
    "python_dict = {\"name\": \"John\", \"age\": 30, \"city\": \"New York\"}\n",
    "json_string = json.dumps(python_dict)\n",
    "print(json_string) "
   ]
  },
  {
   "cell_type": "code",
   "execution_count": 2,
   "metadata": {},
   "outputs": [
    {
     "name": "stdout",
     "output_type": "stream",
     "text": [
      "{\"name\": \"John\", \"age\": 30, \"city\": \"New York\", \"children\": [{\"name\": \"Ann\", \"age\": 5}, {\"name\": \"Billy\", \"age\": 7}]}\n"
     ]
    }
   ],
   "source": [
    "# try for a nested dictionary, meaning some values are also a dictionary\n",
    "python_dict = {\n",
    "    \"name\": \"John\",\n",
    "    \"age\": 30,\n",
    "    \"city\": \"New York\",\n",
    "    \"children\": [\n",
    "        {\"name\": \"Ann\", \"age\": 5},\n",
    "        {\"name\": \"Billy\", \"age\": 7}\n",
    "    ]\n",
    "}\n",
    "json_string = json.dumps(python_dict)\n",
    "print(json_string)"
   ]
  },
  {
   "cell_type": "code",
   "execution_count": 3,
   "metadata": {},
   "outputs": [],
   "source": [
    "# save jason string to a file\n",
    "with open('data.json', 'w') as f:\n",
    "    json.dump(python_dict, f)"
   ]
  },
  {
   "cell_type": "code",
   "execution_count": 4,
   "metadata": {},
   "outputs": [
    {
     "name": "stdout",
     "output_type": "stream",
     "text": [
      "name John\n",
      "age 30\n",
      "city New York\n",
      "children [{'name': 'Ann', 'age': 5}, {'name': 'Billy', 'age': 7}]\n"
     ]
    }
   ],
   "source": [
    "for k in python_dict:\n",
    "    print(k, python_dict[k])"
   ]
  },
  {
   "cell_type": "code",
   "execution_count": 8,
   "metadata": {},
   "outputs": [],
   "source": [
    "# This is the dictionary representation of the above data\n",
    "data = {\n",
    "    'P1222':\n",
    "        {'xy_canon':\n",
    "            {'alm.drawing':\n",
    "                {\n",
    "                'layer': 'ALM', # THis is what we can infer from the lpp being used\n",
    "                'cell_size': (60, 60), # This info comes from StartLayoutAssembler\n",
    "                'args_1': {'cv.cvid': 'cv',\n",
    "                            'lpp.lpp': 'alm.drawing',\n",
    "                            'xy_cds.points': (1.6, 1.6),\n",
    "                            'xy_lengths.points': (25, 25),\n",
    "                            'xy_distance.points':(28.4, 28.4),\n",
    "                            'stepping.list':((5)),\n",
    "                            'shift.float': None},\n",
    "                'args_2': {'cv.cvid': 'cv',\n",
    "                            'lpp.lpp': 'alm.drawing',\n",
    "                            'xy_cds.points': (1.8, 1.8),\n",
    "                            'xy_lengths.points': (25, 25),\n",
    "                            'xy_distance.points':(28.4, 28.4),\n",
    "                            'stepping.list':((5)),\n",
    "                            'shift.float': None},\n",
    "                },\n",
    "            },\n",
    "        },\n",
    "}\n"
   ]
  },
  {
   "cell_type": "code",
   "execution_count": 9,
   "metadata": {},
   "outputs": [
    {
     "data": {
      "text/plain": [
       "{'P1222': {'xy_canon': {'alm.drawing': {'layer': 'ALM',\n",
       "    'cell_size': (60, 60),\n",
       "    'args_1': {'cv.cvid': 'cv',\n",
       "     'lpp.lpp': 'alm.drawing',\n",
       "     'xy_cds.points': (1.6, 1.6),\n",
       "     'xy_lengths.points': (25, 25),\n",
       "     'xy_distance.points': (28.4, 28.4),\n",
       "     'stepping.list': 5,\n",
       "     'shift.float': None},\n",
       "    'args_2': {'cv.cvid': 'cv',\n",
       "     'lpp.lpp': 'alm.drawing',\n",
       "     'xy_cds.points': (1.8, 1.8),\n",
       "     'xy_lengths.points': (25, 25),\n",
       "     'xy_distance.points': (28.4, 28.4),\n",
       "     'stepping.list': 5,\n",
       "     'shift.float': None}}}}}"
      ]
     },
     "execution_count": 9,
     "metadata": {},
     "output_type": "execute_result"
    }
   ],
   "source": [
    "data"
   ]
  },
  {
   "cell_type": "code",
   "execution_count": 1,
   "metadata": {},
   "outputs": [],
   "source": [
    "# test append and extend\n",
    "string1 = 'hello'\n",
    "string2 = 'world'\n",
    "string12 = string1 + string2"
   ]
  },
  {
   "cell_type": "code",
   "execution_count": 2,
   "metadata": {},
   "outputs": [
    {
     "data": {
      "text/plain": [
       "'helloworld'"
      ]
     },
     "execution_count": 2,
     "metadata": {},
     "output_type": "execute_result"
    }
   ],
   "source": [
    "string12"
   ]
  },
  {
   "cell_type": "code",
   "execution_count": 5,
   "metadata": {},
   "outputs": [
    {
     "name": "stdout",
     "output_type": "stream",
     "text": [
      "['hello', 'world']\n"
     ]
    }
   ],
   "source": [
    "str_list = []\n",
    "str_list.append(string1)\n",
    "str_list.append(string2)\n",
    "print(str_list)"
   ]
  },
  {
   "cell_type": "code",
   "execution_count": 10,
   "metadata": {},
   "outputs": [
    {
     "ename": "TypeError",
     "evalue": "list.append() takes exactly one argument (2 given)",
     "output_type": "error",
     "traceback": [
      "\u001b[1;31m---------------------------------------------------------------------------\u001b[0m",
      "\u001b[1;31mTypeError\u001b[0m                                 Traceback (most recent call last)",
      "Cell \u001b[1;32mIn[10], line 2\u001b[0m\n\u001b[0;32m      1\u001b[0m str_list \u001b[38;5;241m=\u001b[39m []\n\u001b[1;32m----> 2\u001b[0m \u001b[43mstr_list\u001b[49m\u001b[38;5;241;43m.\u001b[39;49m\u001b[43mappend\u001b[49m\u001b[43m(\u001b[49m\u001b[43mstring1\u001b[49m\u001b[43m,\u001b[49m\u001b[43m \u001b[49m\u001b[43mstring2\u001b[49m\u001b[43m)\u001b[49m\n\u001b[0;32m      3\u001b[0m \u001b[38;5;66;03m# flatten the list\u001b[39;00m\n\u001b[0;32m      5\u001b[0m \u001b[38;5;28mprint\u001b[39m(str_list)\n",
      "\u001b[1;31mTypeError\u001b[0m: list.append() takes exactly one argument (2 given)"
     ]
    }
   ],
   "source": [
    "str_list = []\n",
    "str_list.append(string1, string2)\n",
    "# flatten the list\n",
    "\n",
    "print(str_list)"
   ]
  },
  {
   "cell_type": "code",
   "execution_count": null,
   "metadata": {},
   "outputs": [],
   "source": []
  }
 ],
 "metadata": {
  "kernelspec": {
   "display_name": "venv",
   "language": "python",
   "name": "python3"
  },
  "language_info": {
   "codemirror_mode": {
    "name": "ipython",
    "version": 3
   },
   "file_extension": ".py",
   "mimetype": "text/x-python",
   "name": "python",
   "nbconvert_exporter": "python",
   "pygments_lexer": "ipython3",
   "version": "3.13.1"
  }
 },
 "nbformat": 4,
 "nbformat_minor": 2
}
